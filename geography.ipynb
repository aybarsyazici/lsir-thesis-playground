{
 "cells": [
  {
   "cell_type": "code",
   "execution_count": 1,
   "metadata": {},
   "outputs": [],
   "source": [
    "from pathlib import Path\n",
    "import pandas as pd\n",
    "from inference_gpt import generate_gpt_report\n",
    "import os\n",
    "\n",
    "processed_data_path = Path(os.getcwd()) / \"output\" / \"cleaned\"\n",
    "unprocessed_data_path = Path(os.getcwd()) / \"output\"\n",
    "event = \"event2_new_prompt_fast\""
   ]
  },
  {
   "cell_type": "code",
   "execution_count": 2,
   "metadata": {},
   "outputs": [
    {
     "data": {
      "text/html": [
       "<div>\n",
       "<style scoped>\n",
       "    .dataframe tbody tr th:only-of-type {\n",
       "        vertical-align: middle;\n",
       "    }\n",
       "\n",
       "    .dataframe tbody tr th {\n",
       "        vertical-align: top;\n",
       "    }\n",
       "\n",
       "    .dataframe thead th {\n",
       "        text-align: right;\n",
       "    }\n",
       "</style>\n",
       "<table border=\"1\" class=\"dataframe\">\n",
       "  <thead>\n",
       "    <tr style=\"text-align: right;\">\n",
       "      <th></th>\n",
       "      <th>id</th>\n",
       "      <th>title</th>\n",
       "      <th>author</th>\n",
       "      <th>summary</th>\n",
       "      <th>body</th>\n",
       "      <th>timestamp</th>\n",
       "      <th>political_issue</th>\n",
       "      <th>is_about_politics</th>\n",
       "      <th>stakeholder</th>\n",
       "      <th>position</th>\n",
       "      <th>stance</th>\n",
       "      <th>sentiment</th>\n",
       "      <th>emotion</th>\n",
       "      <th>context</th>\n",
       "      <th>old_targets</th>\n",
       "      <th>country</th>\n",
       "      <th>support.type</th>\n",
       "      <th>support.content</th>\n",
       "      <th>targets</th>\n",
       "      <th>ISO-3</th>\n",
       "    </tr>\n",
       "  </thead>\n",
       "  <tbody>\n",
       "    <tr>\n",
       "      <th>0</th>\n",
       "      <td>134245406231</td>\n",
       "      <td>Zelenskyy Hopes to Make Ukraine a Leading Weap...</td>\n",
       "      <td>Journalist of www.canadastandard.com</td>\n",
       "      <td>Ukrainian President Volodymyr Zelenskyy hosted...</td>\n",
       "      <td>by partnering with Western manufacturers so th...</td>\n",
       "      <td>2023-09-30 23:59:38</td>\n",
       "      <td>Military production and defense partnerships</td>\n",
       "      <td>True</td>\n",
       "      <td>vladimir zelensky</td>\n",
       "      <td>I hope to turn Ukraine into a military hub and...</td>\n",
       "      <td>Pro</td>\n",
       "      <td>Positive</td>\n",
       "      <td>Joy</td>\n",
       "      <td>Political</td>\n",
       "      <td>[{'predicate': 'partner with', 'target': 'west...</td>\n",
       "      <td>ukraine</td>\n",
       "      <td>Argument</td>\n",
       "      <td>Zelenskyy described the first Defense Industri...</td>\n",
       "      <td>[{'predicate': 'partner with', 'target': 'west...</td>\n",
       "      <td>UKR</td>\n",
       "    </tr>\n",
       "    <tr>\n",
       "      <th>1</th>\n",
       "      <td>134245406231</td>\n",
       "      <td>Zelenskyy Hopes to Make Ukraine a Leading Weap...</td>\n",
       "      <td>Journalist of www.canadastandard.com</td>\n",
       "      <td>Ukrainian President Volodymyr Zelenskyy hosted...</td>\n",
       "      <td>by partnering with Western manufacturers so th...</td>\n",
       "      <td>2023-09-30 23:59:38</td>\n",
       "      <td>Military production and defense partnerships</td>\n",
       "      <td>True</td>\n",
       "      <td>vladimir putin</td>\n",
       "      <td>The local elections in four Russian-annexed Uk...</td>\n",
       "      <td>Con</td>\n",
       "      <td>Negative</td>\n",
       "      <td>Disgust</td>\n",
       "      <td>Political</td>\n",
       "      <td>[{'predicate': 'justify', 'target': 'russia's ...</td>\n",
       "      <td>russia</td>\n",
       "      <td>Opinion</td>\n",
       "      <td>Putin claimed that the residents chose to be p...</td>\n",
       "      <td>[{'predicate': 'justify', 'target': 'russian a...</td>\n",
       "      <td>RUS</td>\n",
       "    </tr>\n",
       "  </tbody>\n",
       "</table>\n",
       "</div>"
      ],
      "text/plain": [
       "             id                                              title  \\\n",
       "0  134245406231  Zelenskyy Hopes to Make Ukraine a Leading Weap...   \n",
       "1  134245406231  Zelenskyy Hopes to Make Ukraine a Leading Weap...   \n",
       "\n",
       "                                 author  \\\n",
       "0  Journalist of www.canadastandard.com   \n",
       "1  Journalist of www.canadastandard.com   \n",
       "\n",
       "                                             summary  \\\n",
       "0  Ukrainian President Volodymyr Zelenskyy hosted...   \n",
       "1  Ukrainian President Volodymyr Zelenskyy hosted...   \n",
       "\n",
       "                                                body           timestamp  \\\n",
       "0  by partnering with Western manufacturers so th... 2023-09-30 23:59:38   \n",
       "1  by partnering with Western manufacturers so th... 2023-09-30 23:59:38   \n",
       "\n",
       "                                political_issue  is_about_politics  \\\n",
       "0  Military production and defense partnerships               True   \n",
       "1  Military production and defense partnerships               True   \n",
       "\n",
       "         stakeholder                                           position  \\\n",
       "0  vladimir zelensky  I hope to turn Ukraine into a military hub and...   \n",
       "1     vladimir putin  The local elections in four Russian-annexed Uk...   \n",
       "\n",
       "  stance sentiment  emotion    context  \\\n",
       "0    Pro  Positive      Joy  Political   \n",
       "1    Con  Negative  Disgust  Political   \n",
       "\n",
       "                                         old_targets  country support.type  \\\n",
       "0  [{'predicate': 'partner with', 'target': 'west...  ukraine     Argument   \n",
       "1  [{'predicate': 'justify', 'target': 'russia's ...   russia      Opinion   \n",
       "\n",
       "                                     support.content  \\\n",
       "0  Zelenskyy described the first Defense Industri...   \n",
       "1  Putin claimed that the residents chose to be p...   \n",
       "\n",
       "                                             targets ISO-3  \n",
       "0  [{'predicate': 'partner with', 'target': 'west...   UKR  \n",
       "1  [{'predicate': 'justify', 'target': 'russian a...   RUS  "
      ]
     },
     "execution_count": 2,
     "metadata": {},
     "output_type": "execute_result"
    }
   ],
   "source": [
    "df = pd.read_json(processed_data_path / f\"{event}.json\")\n",
    "df.head(2)"
   ]
  },
  {
   "cell_type": "code",
   "execution_count": 3,
   "metadata": {},
   "outputs": [
    {
     "data": {
      "text/html": [
       "<div>\n",
       "<style scoped>\n",
       "    .dataframe tbody tr th:only-of-type {\n",
       "        vertical-align: middle;\n",
       "    }\n",
       "\n",
       "    .dataframe tbody tr th {\n",
       "        vertical-align: top;\n",
       "    }\n",
       "\n",
       "    .dataframe thead th {\n",
       "        text-align: right;\n",
       "    }\n",
       "</style>\n",
       "<table border=\"1\" class=\"dataframe\">\n",
       "  <thead>\n",
       "    <tr style=\"text-align: right;\">\n",
       "      <th></th>\n",
       "      <th>id</th>\n",
       "      <th>title</th>\n",
       "      <th>author</th>\n",
       "      <th>summary</th>\n",
       "      <th>body</th>\n",
       "      <th>timestamp</th>\n",
       "      <th>political_issue</th>\n",
       "      <th>is_about_politics</th>\n",
       "      <th>stakeholder</th>\n",
       "      <th>position</th>\n",
       "      <th>stance</th>\n",
       "      <th>sentiment</th>\n",
       "      <th>emotion</th>\n",
       "      <th>context</th>\n",
       "      <th>old_targets</th>\n",
       "      <th>country</th>\n",
       "      <th>support.type</th>\n",
       "      <th>support.content</th>\n",
       "      <th>targets</th>\n",
       "      <th>ISO-3</th>\n",
       "    </tr>\n",
       "  </thead>\n",
       "  <tbody>\n",
       "  </tbody>\n",
       "</table>\n",
       "</div>"
      ],
      "text/plain": [
       "Empty DataFrame\n",
       "Columns: [id, title, author, summary, body, timestamp, political_issue, is_about_politics, stakeholder, position, stance, sentiment, emotion, context, old_targets, country, support.type, support.content, targets, ISO-3]\n",
       "Index: []"
      ]
     },
     "execution_count": 3,
     "metadata": {},
     "output_type": "execute_result"
    }
   ],
   "source": [
    "df[df[\"position\"] == \"I have received 73.38% of the votes in the elections.\"]"
   ]
  },
  {
   "cell_type": "code",
   "execution_count": 4,
   "metadata": {},
   "outputs": [],
   "source": [
    "# Define Catppuccin Mocha theme colors\n",
    "catppuccin = {\n",
    "    \"base\": \"#303446\",  # Background\n",
    "    \"surface\": \"#414559\",  # Surface elements\n",
    "    \"text\": \"#c6d0f5\",  # Text color\n",
    "    \"overlay0\": \"#737994\",  # Node and edge color\n",
    "    \"overlay1\": \"#838ba7\",\n",
    "    \"highlight\": \"#babbf1\",  # Highlight (hover or accent)\n",
    "    \"accent\": \"#fab387\",  # Edge labels/predicates\n",
    "    \"green\": \"#a6d189\",  # Positive sentiment\n",
    "    \"blue\": \"#8caaee\",  # Neutral sentiment\n",
    "    \"red\": \"#e78284\",  # Negative sentiment\n",
    "    \"rosewater\": \"#f2d5cf\",\n",
    "    \"subtext1\": \"#b5bfe2\",\n",
    "    \"subtext0\": \"#a5adce\",\n",
    "    \"teal\": \"#81c8be\",\n",
    "    \"flamingo\": \"#eebebe\",\n",
    "    \"mauve\": \"#ca9ee6\",\n",
    "    \"lavender\": \"#babbf1\",\n",
    "    \"sky\": \"#99d1db\",\n",
    "    \"peach\": \"#ef9f76\"\n",
    "}"
   ]
  },
  {
   "cell_type": "code",
   "execution_count": 8,
   "metadata": {},
   "outputs": [],
   "source": [
    "catppuccin_colorscale = [\n",
    "    [0.0, catppuccin[\"teal\"]],\n",
    "    [0.1, catppuccin[\"sky\"]],\n",
    "    [0.2, catppuccin[\"blue\"]],\n",
    "    [0.3, catppuccin[\"rosewater\"]],\n",
    "    [0.7, catppuccin[\"red\"]],\n",
    "    [1.0, catppuccin[\"peach\"]],\n",
    "]"
   ]
  },
  {
   "cell_type": "code",
   "execution_count": 19,
   "metadata": {},
   "outputs": [
    {
     "data": {
      "application/vnd.plotly.v1+json": {
       "config": {
        "plotlyServerURL": "https://plot.ly"
       },
       "data": [
        {
         "autocolorscale": false,
         "colorbar": {
          "title": {
           "text": "Positions Count"
          }
         },
         "colorscale": [
          [
           0,
           "#81c8be"
          ],
          [
           0.1,
           "#99d1db"
          ],
          [
           0.2,
           "#8caaee"
          ],
          [
           0.3,
           "#f2d5cf"
          ],
          [
           0.7,
           "#e78284"
          ],
          [
           1,
           "#ef9f76"
          ]
         ],
         "hoverinfo": "text",
         "locationmode": "ISO-3",
         "locations": [
          "UKR",
          "RUS",
          "GBR",
          "BGD",
          "USA",
          "SVK",
          "ESP",
          "PHL",
          "CHN",
          "ROU",
          "SWE",
          "REU",
          "DEU",
          null,
          "BRA",
          "LBR",
          "FRA",
          "CAN",
          "HUN",
          "MMR",
          "GEO",
          "MDA",
          "POL",
          "LTU",
          "ITA",
          "ARM",
          "AZE",
          "BEL",
          "NOR",
          "BGR",
          "CHE",
          "LKA",
          "BFA",
          "TWN",
          "KAZ",
          "LVA",
          "AUT",
          "IND",
          "CZE",
          "PAK",
          "BLR",
          "EST",
          "PRK",
          "SVN",
          "ZAF",
          "KEN",
          "VEN",
          "AFG",
          "ISR",
          "NCL",
          "FJI",
          "AUS",
          "PNG",
          "COL",
          "MYS",
          "IRN",
          "UGA",
          "MLT",
          "DNK",
          "EGY",
          "NGA",
          "NLD",
          "JPN",
          "MLI",
          "SRB",
          "SDN",
          "CYP",
          "VAT",
          "ARE",
          "GHA",
          "KOR",
          "MWI",
          "CMR",
          "HRV",
          "PRT",
          "IDN",
          "FIN",
          "SAU",
          "NPL",
          "TUR",
          "MDG",
          "SYR",
          "LBY",
          "HKG",
          "SLE",
          "NIC",
          "CUB",
          "IRL",
          "SGP",
          "PSE",
          "PAN",
          "UZB",
          "GTM",
          "GAB",
          "ISL",
          "MAR",
          "MEX",
          "BIH",
          "MNE",
          "MKD",
          "ALB",
          "SWZ",
          "DZA",
          "ETH",
          "VNM",
          "LBN",
          "MDV",
          "THA",
          "ARG",
          "COM",
          "MOZ",
          "GRC",
          "PRY",
          "TUN",
          "QAT",
          "YEM",
          "CAF",
          "GUY",
          "LUX",
          "CIV",
          "BHR",
          "IRQ",
          "KHM",
          "KWT",
          "BOL",
          "GIN",
          "KGZ",
          "ZWE",
          "MNG",
          "SOM",
          "BHS",
          "KIR",
          "ECU",
          "VGB",
          "CYM",
          "VUT",
          "SSD",
          "NAM",
          "PER",
          "SLV",
          "JOR",
          "URY",
          "SEN",
          "AGO",
          "ZMB",
          "RWA",
          "NZL",
          "GGY",
          "BDI",
          "TCD"
         ],
         "text": [
          "<b>UKR</b><br>Positions Count: 4538<br><br>Top 5 Positions:<br>The elections in the occupied Ukrainian territories are illegitimate and violate international law.: 9<br>The voting in areas where Russia conducts active hostilities poses a threat to Ukrainian lives.: 8<br>The elections in occupied territories are illegitimate.: 7<br>The elections are illegal and invalid.: 7<br>The elections held by Russia in the occupied territories are worthless and have no legal standing.: 6",
          "<b>RUS</b><br>Positions Count: 4089<br><br>Top 5 Positions:<br>I have received 5.83% of the votes in the elections.: 11<br>Received 5.52% of votes in the elections.: 9<br>The elections in the annexed territories are legitimate and reflect the will of the people.: 6<br>Received 5.61% of the votes.: 6<br>We are conducting elections in occupied territories as part of our regional governance.: 6",
          "<b>GBR</b><br>Positions Count: 786<br><br>Top 5 Positions:<br>The UK will never recognise Russia's claims to Ukrainian territory — Crimea, Zaporizhzhia, Donetsk, Luhansk and Kherson are Ukraine.: 4<br>Russia's sham elections are a transparent, futile attempt to legitimize its illegal control of sovereign Ukrainian territory.: 3<br>You cannot hold elections in someone else's country.: 3<br>The UK will host a global food security summit in response to the war's impact on food supply.: 3<br>The elections in the occupied Ukrainian territories are illegitimate and violate international law.: 2",
          "<b>BGD</b><br>Positions Count: 140<br><br>Top 5 Positions:<br>NATO will continue to support Ukraine and ensure its sovereignty and territorial integrity.: 3<br>Ukrainians are gradually gaining ground.: 3<br>NATO supports Ukraine's defense efforts.: 2<br>I am confident that both Poland and Slovakia will continue to support Ukraine in its war with Russia after imminent elections.: 2<br>NATO supports Ukraine's efforts to meet membership criteria.: 2",
          "<b>USA</b><br>Positions Count: 2551<br><br>Top 5 Positions:<br>The United States will continue to support Ukraine with military and humanitarian aid.: 8<br>We will never recognize Russia's illegitimate claims to sovereign Ukrainian territory.: 6<br>The administration ran afoul of the First Amendment by threatening social media platforms.: 5<br>The elections are nothing more than a propaganda exercise.: 4<br>The elections in the occupied Ukrainian territories are illegitimate and violate international law.: 4",
          "<b>SVK</b><br>Positions Count: 169<br><br>Top 5 Positions:<br>We will continue military aid to Ukraine and support pro-EU policies.: 2<br>We support continued strong support for Kyiv and strong links with the West.: 2<br>I will halt arms shipments and block European Union sanctions against Russia.: 2<br>I will maintain support for Ukraine in line with EU and NATO partners.: 2<br>Slovakia has implemented bans on imports of Ukrainian agricultural products to defend its farmers' interests.: 2",
          "<b>ESP</b><br>Positions Count: 140<br><br>Top 5 Positions:<br>Spain stands alongside its humanitarian workers who put their lives in danger for others.: 4<br>We will refuse to support Sánchez if he does not commit to working to create the conditions for a referendum.: 2<br>Barcelona often faces tough opponents in the Champions League group stage.: 2<br>The regions were illegally annexed by Russia.: 1<br>Europe will not abandon Ukraine in its war to recapture the regions in the south and east of the country.: 1",
          "<b>PHL</b><br>Positions Count: 14<br><br>Top 5 Positions:<br>We don't want to face off with them. We just want them out of our territory.: 1<br>Condemned the Chinese move, saying it prevented Filipino fishermen from entering and fishing in the area, which is well within the country's EEZ.: 1<br>Described the Chinese claim as hypocritical and said it worsens mistrust towards China.: 1<br>Announced the formation of a trilateral front with Japan and the US against Chinese incursions.: 1<br>The Philippines will take all appropriate actions to cause the removal of barriers that China installed in a disputed area of the South China Sea.: 1",
          "<b>CHN</b><br>Positions Count: 104<br><br>Top 5 Positions:<br>China is willing to work with the international community to play a constructive role in seeking a political solution to the crisis in Ukraine.: 3<br>Arming Ukraine cannot win peace as weapons only win wars.: 3<br>South China Sea was in peace until the U.S. came to disrupt it.: 1<br>To resolve the conflict in Ukraine, a ceasefire and stopping arms supplies are necessary.: 1<br>A ceasefire and stopping arms supplies are necessary to resolve the conflict.: 1",
          "<b>ROU</b><br>Positions Count: 80<br><br>Top 5 Positions:<br>We condemn Russian attacks on Ukraine's infrastructure as unjustified.: 2<br>Romania denied its territory had been hit by Russian drones.: 2<br>These attacks against civilian targets and infrastructure in Ukraine are unjustified.: 2<br>Detected possible unauthorized entry into national airspace.: 1<br>There was a possible unauthorized entry into Romanian airspace.: 1",
          "<b>SWE</b><br>Positions Count: 52<br><br>Top 5 Positions:<br>Sweden will do everything it can to preserve unity and continue to increase sanctions against Putin's regime.: 1<br>We need a fast deal because we need the whole pact to go through during this mandate.: 1<br>Greta Thunberg began her school climate strike to demand stronger action on the climate crisis.: 1<br>We are the natural Swedish partner for cooperation.: 1<br>The sanctions do not distinguish between the sale, assistance or any other type of arms transfer.: 1",
          "<b>REU</b><br>Positions Count: 13<br><br>Top 5 Positions:<br>The EU supports Ukraine and denounces the illegal annexation of regions.: 1<br>Refugees from Ukraine can stay in the EU without any problems until at least March 2025.: 1<br>The EU's rules are being violated by Poland's decision to extend the import ban.: 1<br>The results of such actions will be null and will not have any consequences other than accountability and additional restrictive measures for those involved.: 1<br>Ukraine is making good progress on the conditions required for EU membership.: 1",
          "<b>DEU</b><br>Positions Count: 581<br><br>Top 5 Positions:<br>We do not recognize Russia's attempt to seize land.: 4<br>There are no Bundeswehr soldiers on combat duty in Ukraine.: 2<br>A ceasefire should be established along the current front lines, followed by immediate peace negotiations.: 2<br>Germany wants to support Ukraine on a large scale with additional weapons and ammunition.: 2<br>The decision to supply Taurus cruise missiles may take about one to two weeks.: 2",
          "<b>None</b><br>Positions Count: 1080<br><br>Top 5 Positions:<br>The elections in the occupied Ukrainian territories are illegitimate and violate international law.: 9<br>We condemn the organization of a sham 'election' by Russia in sovereign Ukrainian territory.: 7<br>Extend temporary protection status for Ukrainian refugees until March 2025.: 4<br>We strongly reject this further futile attempt by Russia to legitimize or normalize its illegal military control and attempted annexation of parts of Ukrainian territories.: 4<br>The elections in the annexed territories are illegal and not recognized by the international community.: 4",
          "<b>BRA</b><br>Positions Count: 68<br><br>Top 5 Positions:<br>We will not arrest Vladimir Putin at the G20 summit.: 2<br>We actively support authoritarian regimes globally and promote pro-Kremlin narratives.: 1<br>We disseminate pro-Kremlin disinformation and propaganda.: 1<br>We provide a pseudo-academic veneer for disinformation activities.: 1<br>I lead efforts to mobilize Brazilians to support Russia's military actions.: 1",
          "<b>LBR</b><br>Positions Count: 20<br><br>Top 5 Positions:<br>I promise to do everything in my power to be the agent of positive change and to fight corruption.: 1<br>I am poised for a fiercer fight this year against George Weah.: 1<br>This is not the time for bogus suspensions, coverups, and fake investigations.: 1<br>The successful conduct of the October 10, 2023 elections is critical for the consolidation of the country's fragile democracy.: 1<br>It is important that we have a culture of political transition through elections to guarantee peace on the continent.: 1",
          "<b>FRA</b><br>Positions Count: 187<br><br>Top 5 Positions:<br>Discuss the possibility of joint arms production and strengthening Ukraine's air defenses.: 2<br>France condemns the organization by Russia of sham elections on Ukrainian territory.: 2<br>France firmly condemns the organization of these sham elections in Ukrainian territory.: 2<br>We condemn the organization of a sham 'election' by Russia in sovereign Ukrainian territory.: 2<br>France condemns the military coup that is underway in Gabon.: 2",
          "<b>CAN</b><br>Positions Count: 79<br><br>Top 5 Positions:<br>Canada has implemented sanctions against Russia in response to its actions in Ukraine.: 2<br>Canada will contribute C$33 million to help buy air defenses for Ukraine.: 2<br>Canada does not recognize and will never recognize the results of this sham election nor the illegal annexation attempt of Ukraine by Russia.: 2<br>The poster promoting a 'whites-only' group is a thinly veiled meeting of white supremacy that breeds hate into the next generation.: 1<br>The poster's messaging aligns with groups like 'White Lives Matter' and is an effective tactic to spread hate.: 1",
          "<b>HUN</b><br>Positions Count: 57<br><br>Top 5 Positions:<br>Hungary will not support Ukraine's EU membership until language rights for ethnic Hungarians are restored.: 3<br>Rejects many NATO/EU principles while enjoying their security and economic benefits.: 2<br>Very difficult questions would need to be answered before the EU could start membership talks with Ukraine.: 2<br>Hungary announced restrictions on Ukrainian grain imports.: 2<br>To achieve peace in Ukraine, the West must give security guarantees to Russia, but definitely not NATO membership to the Ukrainians.: 2",
          "<b>MMR</b><br>Positions Count: 11<br><br>Top 5 Positions:<br>The international community should impose sanctions on the illegitimate rulers in Naypyidaw and consider an embargo on fuel meant for combat aircraft used against the population.: 1<br>The NUG is the only legitimate representative of the democratic wishes of the people of Myanmar and should be recognized by the international community.: 1<br>Russia is supporting the military regime in Myanmar, providing it with fighter jets and technology to kill its own people.: 1<br>The military junta has no legitimacy to organize elections, as they are not the executive body of the country.: 1<br>The NUG seeks stronger economic sanctions against the military and its allies.: 1",
          "<b>GEO</b><br>Positions Count: 23<br><br>Top 5 Positions:<br>strongly condemns the intention of the RF to hold illegal elections of local authorities in occupied regions of Ukraine.: 2<br>Supports Moscow's war in Ukraine and maintains a pro-Russian stance.: 1<br>It is important to reduce economic dependence on Russia and to push forward political reform.: 1<br>Russia's frustration with its waning power could lead to more dangerous behavior.: 1<br>Current government is pro-Russian and undermines democratic norms, but public opinion supports EU/NATO membership.: 1",
          "<b>MDA</b><br>Positions Count: 16<br><br>Top 5 Positions:<br>I firmly condemn the brutal attack by Russia on the port infrastructure.: 2<br>Wants to integrate into Western institutions and believes neutrality no longer provides security.: 1<br>Refused to recognize the election of Eugenia Gutsol in Gagauzia.: 1<br>Desires to integrate into Western institutions but faces internal divisions and Russian subversion.: 1<br>Moldova must pass a bill defining the status of Transdnistria as part of the Ukrainian peace plan.: 1",
          "<b>POL</b><br>Positions Count: 318<br><br>Top 5 Positions:<br>Poland will no longer supply weapons to Ukraine and will focus on arming itself with modern weapons.: 3<br>The missile that hit Poland came from Ukraine.: 2<br>We will stop sending weapons to Ukraine due to tensions over Ukrainian grain in Polish markets.: 2<br>We are no longer transferring weapons to Ukraine because we are now arming Poland with more modern weapons.: 2<br>Warsaw has blocked agricultural imports from Ukraine to protect Polish farmers.: 2",
          "<b>LTU</b><br>Positions Count: 45<br><br>Top 5 Positions:<br>Lithuania has revoked residence permits for over a thousand citizens from Belarus and Russia, citing national security threats.: 3<br>Fears that if Russia is not deterred, a war could destroy Lithuania.: 2<br>We must not only talk about measures at the national level but also ... what should be done if this situation becomes even more complicated.: 2<br>We are preparing to close two of the six border crossings to Belarus due to the presence of Wagner mercenaries.: 2<br>The presence of Wagner mercenaries in Belarus poses an additional security risk for Lithuania and Poland.: 2",
          "<b>ITA</b><br>Positions Count: 130<br><br>Top 5 Positions:<br>We are evaluating our participation in the Belt and Road Initiative.: 2<br>Emil Audero is a potential target for Inter Milan to replace Samir Handanovic.: 2<br>Italy does not want to welcome migrants rescued by foreign NGOs.: 1<br>Our support for Ukraine will continue.: 1<br>The majority of Italians want the war in Ukraine to end.: 1",
          "<b>ARM</b><br>Positions Count: 62<br><br>Top 5 Positions:<br>Armenia's dependence on Russia for security is a strategic mistake.: 2<br>Dependence on just one partner in security matters is a strategic mistake.: 2<br>The ethnic Armenian exodus amounts to a direct act of ethnic cleansing and depriving people of their motherland.: 1<br>100,417 people had arrived in Armenia from Nagorno-Karabakh.: 1<br>We need to support independent journalists like Patrik Lankaster who report on our struggles.: 1",
          "<b>AZE</b><br>Positions Count: 37<br><br>Top 5 Positions:<br>Any election in Ukraine cannot be legitimate unless it complies with the Constitution and laws of that country.: 2<br>The election of a new separatist president in Nagorno-Karabakh is a gross violation of the country's constitution.: 2<br>The mass migration by the region's residents was their personal and individual decision and has nothing to do with forced relocation.: 1<br>Patrik Lankaster's reports are biased and spread false information against Azerbaijan.: 1<br>Azerbaijan launched a military operation in Nagorno-Karabakh, claiming victory after 24 hours and ending the enclave's de-facto self-governance.: 1",
          "<b>BEL</b><br>Positions Count: 55<br><br>Top 5 Positions:<br>I believe that Russia should replace France throughout Africa.: 2<br>The recognition of Hunka is a part of a broader geopolitical narrative.: 1<br>I promote pro-Kremlin messages and influence politics in Africa.: 1<br>The IEI was an informal platform for researchers to engage with Iranian officials, not directed by the Iranian government.: 1<br>The NATO media campaign against me and my pro-Russian networks is a massive attack on free speech and an attempt to discredit my influence in Africa.: 1",
          "<b>NOR</b><br>Positions Count: 61<br><br>Top 5 Positions:<br>It is important that the sanctions are effective to prevent the Russian state from gaining income to finance the war.: 2<br>Every meter that Ukrainian forces regain is a meter that Russia loses.: 2<br>Ukraine is making slow progress in the war against Russia. Every meter that Ukraine retakes should be considered as a space that Russia loses.: 1<br>Ukrainian forces are gaining ground in the counteroffensive, contrasting their fight for freedom against Moscow's imperial ambitions.: 1<br>Norway has closed its border to vehicles registered in Russia as part of sanctions against Moscow.: 1",
          "<b>BGR</b><br>Positions Count: 42<br><br>Top 5 Positions:<br>The missiles were defective and unusable.: 2<br>Accusations of national betrayal regarding the missile provision.: 2<br>Bulgaria will provide military aid to Ukraine.: 1<br>The Bulgarian parliament voted to lift the ban on Ukrainian grain imports.: 1<br>Bulgaria will provide Ukraine with aging, defective missiles it cannot repair.: 1",
          "<b>CHE</b><br>Positions Count: 65<br><br>Top 5 Positions:<br>There is continuous evidence that Russian armed forces are committing war crimes in Ukraine.: 3<br>The Commission deplores that attacks affecting civilians and medical institutions continue to take place and emphasizes the need for accountability.: 2<br>The Swiss government supports humanitarian aid and reconstruction efforts in Ukraine.: 1<br>Switzerland will allocate funds for demining in Ukraine.: 1<br>Switzerland plans to assist in demining Ukraine despite its ban on arms exports.: 1",
          "<b>LKA</b><br>Positions Count: 3<br><br>Top 5 Positions:<br>The need of the hour -1- Initiate an immediate ceasefire.: 1<br>Peaceful negotiations—addressing the root causes of this war—are the only way to end the war in Ukraine.: 1<br>I will appoint a committee to investigate allegations against the intelligence.: 1",
          "<b>BFA</b><br>Positions Count: 13<br><br>Top 5 Positions:<br>Elections are not currently a priority.: 1<br>End violations and ensure compliance with IHL and IHRL.: 1<br>We will not accept any military intervention from ECOWAS regarding the situation in Niger.: 1<br>We denounce the abuses and non-inclusive governance by military authorities.: 1<br>We will restore civilian rule by the end of 2024.: 1",
          "<b>TWN</b><br>Positions Count: 27<br><br>Top 5 Positions:<br>The purpose of my candidacy is to unify the opposition and promote cross-strait dialogue.: 1<br>Taiwan should strengthen dialogue to decrease the chance of war.: 1<br>Taiwan is already a sovereign, independent country called the Republic of China.: 1<br>We must focus on the big picture and enforce party discipline against pro-Gou members.: 1<br>We oppose the 1992 Consensus as it compromises Taiwan's sovereignty.: 1",
          "<b>KAZ</b><br>Positions Count: 22<br><br>Top 5 Positions:<br>Kazakhstan will not help Russia evade sanctions.: 3<br>Stated that Kazakhstan would not help Russia evade sanctions.: 1<br>Refused to recognize the independence of Russian-occupied Donetsk and Luhansk oblasts.: 1<br>Vadim Bulatov had just a handful of days of training before being mobilised to the hottest area of fighting.: 1<br>Vadim Bulatov received only a few days of training before being sent to a dangerous combat zone.: 1",
          "<b>LVA</b><br>Positions Count: 16<br><br>Top 5 Positions:<br>We are blocking work for welfare and economic growth.: 2<br>Full support for Ukraine and increased arms production in the West will end the war.: 1<br>Russia should suffer defeat in its war against Ukraine to change its imperialist mentality.: 1<br>We strongly condemn the illegitimate sham 'elections' that took place on 8-10 September 2023 in the territories of Ukraine temporarily occupied by the Russian Federation.: 1<br>Support for Ukraine and Moldova's approach to NATO and EU is necessary.: 1",
          "<b>AUT</b><br>Positions Count: 37<br><br>Top 5 Positions:<br>The situation is tipping in favor of Russia.: 1<br>Ukraine receives too little military equipment, including to defend itself against Russian air strikes in the hinterland.: 1<br>Europe is about to miss the moment when we no longer have it under control and the situation tips in favor of the Russians.: 1<br>Actually, four to five fully loaded freight trains with war material should roll into Ukraine every week.: 1<br>The partial successes of Ukraine in their counteroffensive are being overestimated.: 1",
          "<b>IND</b><br>Positions Count: 184<br><br>Top 5 Positions:<br>The revenues for the print media industry will grow by 8%-10% YoY in FY2024 supported by a pick-up in ad-spends by the Government in view of the upcoming General Elections.: 2<br>We fear attacks from the minority Kuki ethnic group.: 2<br>Call for wider consultations involving experts and the general public on the three Bills that seek to overhaul India's criminal justice system.: 2<br>Dream Girl 2 has been a joyride from the beginning. The script is hilarious, and I'm elated to bring laughter and entertainment in the lives of our fans once again.: 2<br>Ration card holders must complete KYC by 30th September to continue receiving benefits.: 1",
          "<b>CZE</b><br>Positions Count: 45<br><br>Top 5 Positions:<br>We strongly condemn the illegitimate elections organized by Russia in the illegally occupied areas of Ukraine. Russia is once again violating the principles of international law. Czechia will never recognize the results.: 2<br>I received an eight-month suspended sentence and a fine.: 2<br>The return of Fico could complicate relations with Slovakia.: 1<br>Slovak political parties are using public sentiment towards Russia to win elections.: 1<br>Slovakia is a fertile ground for Russian supporters of the war and we must combat disinformation.: 1",
          "<b>PAK</b><br>Positions Count: 90<br><br>Top 5 Positions:<br>90% of beggars held abroad are from Pakistan.: 1<br>The military orchestrated a vote of no confidence in Prime Minister Imran Khan.: 1<br>Pakistan's ambassador discussed arms sales to improve financial standing with the IMF.: 1<br>The Pakistani government has become a useful ally for the U.S. in the Ukraine conflict, using IMF funds to suppress dissent.: 1<br>Imran Khan was ousted from power due to U.S. influence and has been imprisoned as a result of the political crisis.: 1",
          "<b>BLR</b><br>Positions Count: 100<br><br>Top 5 Positions:<br>The demands for the departure of Wagner fighters from Belarus are stupid.: 2<br>Belarus is protecting Russia from a possible NATO attack.: 2<br>Poland's helicopter violated Belarusian airspace multiple times.: 1<br>We are convinced that the equipment will last a long time, it is made with soul and love.: 1<br>They are high quality computers. And this is one of the examples of import substitution and joint progress in the most technological areas.: 1",
          "<b>EST</b><br>Positions Count: 25<br><br>Top 5 Positions:<br>I do not want to resign despite the budget issues and public dissatisfaction.: 1<br>We demand extraordinary elections due to the current government's failure.: 1<br>The Center Party aims to follow Edgar Savisaar's legacy with an eastern orientation.: 1<br>We are ready to step in to fill the social development gap left by the Center Party's shift.: 1<br>Citizens should take more responsibility and growth should come through smart technology.: 1",
          "<b>PRK</b><br>Positions Count: 65<br><br>Top 5 Positions:<br>The nuclear force building policy of the DPRK has become permanent as the fundamental law of the state.: 1<br>Support Russia's ongoing struggle and wish for new victory of great Russia.: 1<br>Expressed support for Moscow's actions in Ukraine, referring to it as a 'sacred' invasion.: 1<br>Relations with Russia are the main priority for the DPRK.: 1<br>North Korea seeks military cooperation and support from Russia for its missile program.: 1",
          "<b>SVN</b><br>Positions Count: 5<br><br>Top 5 Positions:<br>Slovenia continues to support Ukraine with humanitarian, material and military assistance; the goal remains the restoration of the country's territorial integrity.: 1<br>The skepticism of the Western Balkan states towards European politics is understandable due to years of delays in the EU enlargement process.: 1<br>It is time for Austria to fully comply with Article 7 of the State Treaty regarding the rights of the Slovenian ethnic group in Austria.: 1<br>If there is a sharp action against the members of the Slovenian ethnic group, we will certainly react accordingly.: 1<br>Milan Skriniar is looking forward to a potential reunion with Inter Milan in the Champions League.: 1",
          "<b>ZAF</b><br>Positions Count: 54<br><br>Top 5 Positions:<br>Suggests that reducing French influence may not lead to political stability.: 2<br>We Africans no longer just look on helplessly, we get involved.: 2<br>South Africa advocates for dialogue, negotiation, and diplomacy to prevent and end conflict and achieve lasting peace.: 1<br>Two-thirds of Africans support democracy and reject authoritarian alternatives.: 1<br>Afrobarometer data indicates that citizens' perceptions of democracy often mirror expert ratings.: 1",
          "<b>KEN</b><br>Positions Count: 25<br><br>Top 5 Positions:<br>Kenya supports proactive commitment to peace and has participated in peace initiatives.: 1<br>We aim to net at least $10 billion in Foreign Direct Investments (FDIs) this year.: 1<br>The government is committed to fostering a stable political environment to boost private sector growth and attract foreign investment.: 1<br>We demand that the government address inflation and the rising cost of living for ordinary Kenyans.: 1<br>We support government initiatives to stabilize the economy but urge for measures to control inflation and support local industries.: 1",
          "<b>VEN</b><br>Positions Count: 11<br><br>Top 5 Positions:<br>We warn of systematic repression and human rights violations in Venezuela.: 1<br>Venezuela congratulates the people and the Government of Russia for the successful electoral days held between September 8 and 10, 2023.: 1<br>Congratulates the People and the Government of the Russian Federation for the successful electoral days held between September 8 and 10, 2023.: 1<br>The resounding victory obtained by the ruling United Russia party ratifies the indisputable leadership of its political force.: 1<br>Sent a greeting to the elected authorities who will assume with commitment and wisdom the mandate granted by their people.: 1",
          "<b>AFG</b><br>Positions Count: 10<br><br>Top 5 Positions:<br>I am living in luxury and have befriended my captors.: 1<br>Miles Routledge is suspected of being a spy and is being held for questioning.: 1<br>I am living in luxury and planning to open a gold mine after befriending my captors.: 1<br>We are holding Miles Routledge on suspicion of espionage.: 1<br>I sought to portray the human face of this despair by showing how people are trying to resist as the economy collapses around them.: 1",
          "<b>ISR</b><br>Positions Count: 68<br><br>Top 5 Positions:<br>I condemn the actions of the Russian government regarding the invasion of Ukraine.: 2<br>We will approve all the AI-generated texts spoken on air by our digital clones in advance of broadcasts, ensuring accuracy and credibility.: 2<br>Israel is committed to preventing nuclear accidents by supplying equipment to Ukraine.: 1<br>Announced progress in Israel's efforts to establish diplomatic ties with Saudi Arabia.: 1<br>I will use the Biden meeting to show that the U.S. has no real problem with my direction for the country.: 1",
          "<b>NCL</b><br>Positions Count: 1<br><br>Top 5 Positions:<br>We want independence from France and see Australia, New Zealand, and the US as our friends.: 1",
          "<b>FJI</b><br>Positions Count: 2<br><br>Top 5 Positions:<br>Australia needs to do more regarding climate justice.: 1<br>The Pacific should be a zone of peace.: 1",
          "<b>AUS</b><br>Positions Count: 41<br><br>Top 5 Positions:<br>We want to keep our identity and land protected.: 1<br>We are facing a tremendous decision regarding the voice referendum.: 1<br>Russia's actions in Ukraine mock the United Nations.: 1<br>Australia calls for changes to the U.N. Security Council to make it more representative.: 1<br>We call for reforms in the UN Security Council to address the ongoing conflict and ensure representation.: 1",
          "<b>PNG</b><br>Positions Count: 1<br><br>Top 5 Positions:<br>We are concerned about the implications of Australia's decisions on our independence and treatment of First Nations people.: 1",
          "<b>COL</b><br>Positions Count: 5<br><br>Top 5 Positions:<br>The Global South is being called to war while facing overwhelming challenges like climate change, and they want to end all wars to achieve Sustainable Development Goals.: 1<br>Migration needs to be separately allowed and regulated.: 1<br>The clashes between the ELN and EMC guerrilla groups threaten the government's peace efforts.: 1<br>Ramaswamy's ideas are naïve and based on a misreading of history.: 1<br>We should press for urgent resumption of negotiations and support electoral reforms.: 1",
          "<b>MYS</b><br>Positions Count: 5<br><br>Top 5 Positions:<br>Failed to respond to questions on whether anything was being done to crack down on the practice.: 1<br>You don't need to be Irish to vote in Ireland. Anyone can literally travel there, and claim to be an asylum seeker, to cast a vote.: 1<br>We are concerned about the environmental risks posed by ghost ships.: 1<br>I face a daunting task in uniting an increasingly polarized nation and strengthening my nascent unity government.: 1<br>We have made major inroads and retained control of three states, showing strong support from the ethnic Malay majority.: 1",
          "<b>IRN</b><br>Positions Count: 35<br><br>Top 5 Positions:<br>Iran is trying to disassociate itself from providing Russia with weapons and cannot cope with Russian demand.: 1<br>The Iran Experts Initiative (IEI) was a successful project to promote the merits of a nuclear deal between Tehran and Washington.: 1<br>Promised revenge on those who ordered the killing of Iran's top general.: 1<br>The revival of the 2015 nuclear deal will be within reach if the US stops its contradictory behaviors.: 1<br>Iran supports Russia militarily and has unveiled a long-range drone.: 1",
          "<b>UGA</b><br>Positions Count: 46<br><br>Top 5 Positions:<br>I will not be changing my views 'anytime soon' when it comes to welcoming Russia back into the fold.: 2<br>The video showing Sokolov is not clear and lacks definitive proof of his presence.: 1<br>Poland, rightly, says it's a step too far.: 1<br>The Bakhmut strategy is crucial for Ukraine to demonstrate its capability to retake strategic objectives.: 1<br>The Bakhmut strategy complicates Russian operations and ties down their elite forces.: 1",
          "<b>MLT</b><br>Positions Count: 1<br><br>Top 5 Positions:<br>Hopes to see the EU open accession negotiations with Ukraine and Moldova by the end of the year.: 1",
          "<b>DNK</b><br>Positions Count: 36<br><br>Top 5 Positions:<br>Denmark will release an additional 777 million euros to help Ukraine, mainly for air defense equipment, ammunition, and tanks.: 2<br>The goal is to work all the way south and end at the Sea of Azov, thereby cutting off the Russian supply lines to the annexed Crimean Peninsula.: 1<br>Denmark, together with other countries, has announced that it will send another 45 tanks to Ukraine.: 1<br>The film is an example of a project funded by both the Ministry of Defense and the Ministry of Culture, aimed at portraying Ukraine as evil and Russia as good.: 1<br>For Ukraine to be able to continue defending itself against Russia's illegal invasion, it is essential that countries like Denmark maintain their military and economic support.: 1",
          "<b>EGY</b><br>Positions Count: 22<br><br>Top 5 Positions:<br>The NEA assures Egyptians that it will remain neutral towards all candidates and will take all necessary legal measures to ensure free and fair elections.: 1<br>President Al-Sisi is expected to officially announce his decision to run for a third term.: 1<br>Egyptians have to shed any apathy and actively take part in the upcoming presidential elections.: 1<br>We will announce the roadmap for the presidential election today.: 1<br>We have not agreed with the IMF to roll our first and second reviews into one.: 1",
          "<b>NGA</b><br>Positions Count: 234<br><br>Top 5 Positions:<br>Macron's comments constitute further blatant interference in Niger's domestic affairs.: 2<br>We will prosecute President Bazoum for high treason and undermining the security of the country.: 2<br>We will deploy a standby force to restore constitutional order in Niger.: 2<br>Challenging the emergence of Tinubu in the February 25, 2023 presidential election.: 2<br>We call for the military defense of Niger and for the defeat of the pro-imperialist invaders.: 2",
          "<b>NLD</b><br>Positions Count: 49<br><br>Top 5 Positions:<br>I am crucial to Barcelona's midfield and my absence will significantly affect the team's performance.: 1<br>Support for holding presidential elections in Ukraine in 2024.: 1<br>Kyiv should hold elections that are as free and fair as possible.: 1<br>Poland will continue to support Ukraine against the common enemy Russia.: 1<br>We have been searching for this for quite some time, to have a sound that is heavy, but still has this melancholy and beautiful storytelling lines.: 1",
          "<b>JPN</b><br>Positions Count: 51<br><br>Top 5 Positions:<br>It is totally unacceptable for Russia to conduct such 'elections' in these regions.: 2<br>Japan supports Ukraine and condemns Russian aggression.: 2<br>Japan supports Ukraine and aims to end Russia's invasion as soon as possible.: 2<br>The new system is designed to help enable the approval of residence for individuals from conflict zones whose circumstances do not conform to the requirements for refugee approval.: 1<br>As the host of the G7 Foreign Ministers' Meeting, I support the G7's commitment to Ukraine and condemn Russia's actions.: 1",
          "<b>MLI</b><br>Positions Count: 15<br><br>Top 5 Positions:<br>The government demands the withdrawal of UN peacekeepers from Malian territory.: 1<br>We will respond to insurgent attacks and protect our civilians.: 1<br>We claim responsibility for the attacks against the Malian government.: 1<br>We killed about 50 assailants while responding to the attacks.: 1<br>We claim responsibility for the attacks.: 1",
          "<b>SRB</b><br>Positions Count: 31<br><br>Top 5 Positions:<br>The EU and the Western Balkans should be ready for enlargement as soon as possible, but not later than 2030.: 2<br>The armed individuals who attacked Kosovo police were not from Serbia and are local Kosovo Serbs.: 1<br>Organized criminal groups with political, financial and logistical support from Belgrade were behind Sunday's attack.: 1<br>Declared Monday a national day of mourning for the slain officer and the one who was wounded.: 1<br>Kurti is provoking the escalation and Serbia is not responsible for the violence.: 1",
          "<b>SDN</b><br>Positions Count: 8<br><br>Top 5 Positions:<br>Sudan’s army is ready to begin peace talks with the rival Rapid Support Forces.: 1<br>We condemn the drone attack that killed 23 people.: 1<br>The international community must provide food assistance for malnourished children.: 1<br>We will maintain control and ensure stability in Sudan.: 1<br>Call on the nuclear States to implement the agreed goals and fully eliminate their nuclear arsenals.: 1",
          "<b>CYP</b><br>Positions Count: 10<br><br>Top 5 Positions:<br>I reject the proposals for a two-state solution and support a bi-communal, bi-zonal solution.: 1<br>I intend to run as an independent candidate for the presidency, potentially splitting support for my party.: 1<br>I am interested in running for the upcoming presidential elections as a candidate endorsed by AKEL.: 1<br>We demand the full reinstatement of the cost-of-living allowance for all eligible employees.: 1<br>Parimatch is committed to providing excellent customer support to its customers.: 1",
          "<b>VAT</b><br>Positions Count: 29<br><br>Top 5 Positions:<br>The weapons industry is a key driver of the suffering in Ukraine and must be addressed.: 1<br>Countries should not withhold weapons from Ukraine as it prolongs their suffering.: 1<br>Countries are pulling back from giving weapons to Ukraine, which will lead to the martyrdom of the Ukrainian people.: 1<br>Criticized the weapons industry as a key driver of the suffering of the Ukrainian people and expressed concern over the withdrawal of military support.: 1<br>The Pope denounces the treatment of migrants and calls for justice for them.: 1",
          "<b>ARE</b><br>Positions Count: 7<br><br>Top 5 Positions:<br>We hope to sign final contracts for the sale of shares in several Egyptian companies by the end of this week.: 1<br>Public-private partnerships that were once useful additions are now crucial to humanitarian work.: 1<br>Abu Dhabi Classics is growing and has much potential as a cultural destination.: 1<br>Emirati artists should have opportunities to collaborate with international artists.: 1<br>We benefit from the sanctions by facilitating the sale of Russian oil.: 1",
          "<b>GHA</b><br>Positions Count: 22<br><br>Top 5 Positions:<br>NPP super delegates elections worse than Russia-Ukraine war.: 2<br>We maintain a positive attitude to our bilateral relations and prospects for development in the field of trade and energy, as well as scientific and educational spheres.: 1<br>The economy of Ghana suffers not from the conflict in Ukraine, but from the consequences of the US and EU sanctions imposed on Russia.: 1<br>The Electoral Commission must be held accountable for its poor planning and insufficient budget proposal for the Limited Voters Registration Exercise.: 1<br>Parliament must ensure proper scrutiny of the Electoral Commission's plans and budget to protect the interests of the citizens.: 1",
          "<b>KOR</b><br>Positions Count: 23<br><br>Top 5 Positions:<br>South Korea will provide an additional $2 billion in aid to Ukraine starting in 2025.: 2<br>South Korea unveils financial aid of 520 billion won for Ukraine next year.: 2<br>If Russia helps North Korea enhance its weapons programs, it would be a direct provocation.: 1<br>It is paradoxical that a permanent member of the U.N. Security Council would wage war.: 1<br>South Korea will deliver K600 Rhino demining vehicles to Ukraine as soon as possible.: 1",
          "<b>MWI</b><br>Positions Count: 5<br><br>Top 5 Positions:<br>The quality of presidential candidates presented by the Malawi Electoral Commission is questionable.: 1<br>Malawians vote without scrutinizing the integrity of their presidential candidates.: 1<br>Dr. Lazarus Chakwera has shown weak leadership and lacks servant leadership qualities.: 1<br>Seeking donations to feed more than 50,000 refugees facing shortages at the country's only refugee camp.: 1<br>Malawi is seeking donations to feed over 50,000 refugees facing shortages.: 1",
          "<b>CMR</b><br>Positions Count: 6<br><br>Top 5 Positions:<br>Ensure accountability for atrocity crimes in Anglophone regions.: 1<br>We intend to open the floodgate of Lagdo dam due to heavy rainfall, and we urge Nigeria's NEMA to take necessary proactive steps to mitigate damage.: 1<br>Niger is being used as a patsy to wage a proxy war between world powers.: 1<br>Cameroon and aid groups are distributing food to 30,000 people.: 1<br>Aid groups and the government of Cameroon say they distributed rice, millet and beans to at least 30,000 people this week.: 1",
          "<b>HRV</b><br>Positions Count: 5<br><br>Top 5 Positions:<br>Croatia would like to be a transit country - and not a country flooded by cheap cereals.: 1<br>We strongly condemn the illegitimate sham 'elections' that took place on 8-10 September 2023 in the territories of Ukraine temporarily occupied by the Russian Federation.: 1<br>It will be a challenge to successfully rescue Dickey.: 1<br>The meeting between Zelensky and Patriarch Bartholomew announces the rule of the Antichrist.: 1<br>I want to continue my career at Tottenham and contribute significantly to the team's success.: 1",
          "<b>PRT</b><br>Positions Count: 33<br><br>Top 5 Positions:<br>The U.N. needs to make changes to address contemporary challenges.: 1<br>Russia's February 2022 invasion of Ukraine violated the U.N. Charter.: 1<br>Support Ukraine with military aid to counter Russian aggression.: 1<br>We aim to secure third place in the group to enter the Europa League knockout stages.: 1<br>It is urgent to respect the UN Charter to ensure peace in the world.: 1",
          "<b>IDN</b><br>Positions Count: 33<br><br>Top 5 Positions:<br>Instructed Bulog to conduct cheap market operations to provide rice at lower prices to the people.: 1<br>Optimistic about securing 1.2 million tons of rice reserves by the end of 2023 through imports and local production.: 1<br>Predicted increases in rice prices until early 2024 but noted that government programs would soften the rate of increase.: 1<br>Reported economic losses for farmers and emphasized the need for better exchange rates to ensure profitability.: 1<br>I was invited by the Civic Chamber of The Russian Federation to observe the election situation, not as an international observer.: 1",
          "<b>FIN</b><br>Positions Count: 9<br><br>Top 5 Positions:<br>Poland's internal politics affects the matter regarding arms aid.: 1<br>Poland is playing a dangerous game for Ukraine by ending arms aid.: 1<br>The decision of the Central Election Commission of the Russian Federation to hold local elections in illegally annexed Ukrainian territories is a blatant violation of international law.: 1<br>Recommended citizens not to visit Finland by cars with Russian numbers.: 1<br>Ukrainians have not yet made a breakthrough on the Surovikin Line.: 1",
          "<b>SAU</b><br>Positions Count: 27<br><br>Top 5 Positions:<br>Defended OPEC+ cuts to oil market supply, stating that international energy markets need light-handed regulation to limit volatility.: 1<br>To list ruins of the ancient West Bank city of Jericho as a World Heritage Site in Palestine.: 1<br>Indians constitute seven percent of Saudi Arabia's population and they have been contributing majorly in his country's progress.: 1<br>Saudi Arabia will extend the required support to Pakistan and cultivate relations with India.: 1<br>Saudi Arabia has decided to cut another 10 million barrels per day of oil production.: 1",
          "<b>NPL</b><br>Positions Count: 1<br><br>Top 5 Positions:<br>We need massive scaling up of affordable finance including through the SDG stimulus.: 1",
          "<b>TUR</b><br>Positions Count: 2<br><br>Top 5 Positions:<br>We will continue our counter-terrorism operations to avoid more attacks.: 1<br>The polls have also been condemned by Türkiye.: 1",
          "<b>MDG</b><br>Positions Count: 2<br><br>Top 5 Positions:<br>The ruling party's actions are perceived as an ‘institutional coup'.: 1<br>Madagascar aims to strengthen cooperation with Japan in the Ambatovy nickel project to ensure sustainable extraction.: 1",
          "<b>SYR</b><br>Positions Count: 7<br><br>Top 5 Positions:<br>The use of lethal force against protesters is necessary to maintain order.: 1<br>Syria is encouraged to engage with the IAEA to resolve outstanding issues related to its nuclear activities.: 1<br>The situation inside of Syria has become even worse than it was economically during the height of the conflict.: 1<br>The fighting ended with our recapture of areas in Deir el-Zour province that we had lost during the battles.: 1<br>The destruction of neighborhoods is justified as part of a war on terror.: 1",
          "<b>LBY</b><br>Positions Count: 10<br><br>Top 5 Positions:<br>I need to do something after the death of my relatives in the floods.: 1<br>We are being pressured due to the tragedy caused by the floods.: 1<br>The situation in Derna is catastrophic, with bodies everywhere and entire families lost.: 1<br>The flooding has caused catastrophic damage, with over 2,000 confirmed dead and thousands missing.: 1<br>There was no warning for the people about the impending flood, leading to a lack of preparedness.: 1",
          "<b>HKG</b><br>Positions Count: 2<br><br>Top 5 Positions:<br>OKX is one of the most reputable and feature-rich centralized exchanges on the market.: 1<br>We are committed to building a decentralized ecosystem.: 1",
          "<b>SLE</b><br>Positions Count: 8<br><br>Top 5 Positions:<br>I was requested to stop them from calling the result by the United States.: 1<br>To bring the government's attention to the issue of hardship.: 1<br>The survey doesn't reflect reality, and most issues are a result of global happenings.: 1<br>They'd rather stay in the audience than participate in the government show until their demands are met.: 1<br>We reject the idea that a group of people can beat up those suspected of being on KUSH.: 1",
          "<b>NIC</b><br>Positions Count: 1<br><br>Top 5 Positions:<br>This is no longer a war between Russia and Ukraine, it is a war of the NATO-led, US-led imperialists who are trying to destroy Russia.: 1",
          "<b>CUB</b><br>Positions Count: 27<br><br>Top 5 Positions:<br>We are working to neutralize and dismantle a human trafficking network that operates from Russia to recruit Cuban citizens for military operations in Ukraine.: 3<br>Cuba is not part of the war in Ukraine and will act against human trafficking for mercenarism.: 2<br>Cuba opposes the participation of its citizens in any conflict.: 1<br>We are arresting individuals involved in trafficking young men to fight for Russia.: 1<br>Announced the dismantling of a recruitment network linked to Russia.: 1",
          "<b>IRL</b><br>Positions Count: 9<br><br>Top 5 Positions:<br>The summit should focus on ensuring effective support for Ukraine and its people.: 1<br>Half a million people have died in Ukraine in one year.: 1<br>Elections should be held soon in the Palestinian territories.: 1<br>Using the term ‘apartheid' to describe Israel's treatment of Palestinians does not help resolve the ongoing conflict in the Middle East.: 1<br>The government is seriously considering taking a case to the European Court on Human Rights over the controversial Troubles Legacy Bill.: 1",
          "<b>SGP</b><br>Positions Count: 14<br><br>Top 5 Positions:<br>The idea of an independent Taiwan is difficult to accept, but I understand why many Taiwanese would not want to be part of the PRC.: 1<br>The status quo is unsustainable and Taiwan must negotiate earlier rather than later with mainland China.: 1<br>A merger of equals after a lengthy transition period could be a viable solution for cross-strait relations.: 1<br>The focus must remain on how to mitigate the fallout rather than debate the geopolitical/security aspects of the war.: 1<br>I aim to serve as a unifying figure for all Singaporeans and uphold the integrity of our financial reserves.: 1",
          "<b>PSE</b><br>Positions Count: 18<br><br>Top 5 Positions:<br>The PA must hold national elections to regain legitimacy and public support.: 1<br>We need to restore order and governance in the Ein el-Hilweh refugee camp.: 1<br>We must defend our presence and authority in the camp against militant groups.: 1<br>We are fighting for our rights and representation in the camp.: 1<br>We need to restore order and prevent further violence in the refugee camp.: 1",
          "<b>PAN</b><br>Positions Count: 5<br><br>Top 5 Positions:<br>The Summit aims to empower attendees with strategies for wealth protection, financial stability, and methods to regain control and privacy.: 1<br>The event is designed to provide reliable information and credible advice to expatriates.: 1<br>The violence in Colon is unacceptable and needs to be addressed.: 1<br>We demand safety and security in our community.: 1<br>We will continue to fight for control over drug trafficking routes.: 1",
          "<b>UZB</b><br>Positions Count: 6<br><br>Top 5 Positions:<br>Opposes forced recruitment of migrants into the Russian army.: 1<br>Issued a fatwa forbidding participation in Russia's war against Ukraine.: 1<br>Uzbekistan maintains a strategic partnership dialogue with the United States.: 1<br>I was tortured by three law enforcement officials while in pretrial detention.: 1<br>Three police officers were handed prison terms over 2022 unrest.: 1",
          "<b>GTM</b><br>Positions Count: 17<br><br>Top 5 Positions:<br>There is a coup d'état underway to prevent my inauguration next January.: 1<br>Bernardo Arevalo warns of an attempted coup against the seed movement.: 1<br>I am facing challenges from corrupt elite groups to take office.: 1<br>I promise to maintain relations with and expand economic relations with Taiwan.: 1<br>I want to establish closer relations with China as it is essential for Guatemala’s economic growth.: 1",
          "<b>GAB</b><br>Positions Count: 23<br><br>Top 5 Positions:<br>Increasing arms deliveries and new military alliances amplify the risk of violence escalation.: 2<br>I promise to organize free, transparent, credible and peaceful elections.: 2<br>We have decided to defend the peace by putting an end to the current regime.: 2<br>It remains to be seen whether the military junta will approve the establishment of the Chinese naval base.: 1<br>Nguema vows to hold free and credible elections and return to civilian rule.: 1",
          "<b>ISL</b><br>Positions Count: 2<br><br>Top 5 Positions:<br>The elections in occupied Ukraine were supposedly free, democratic, and fair.: 1<br>The elections in the occupied territories are free, democratic, and fair.: 1",
          "<b>MAR</b><br>Positions Count: 14<br><br>Top 5 Positions:<br>Aid has been slow to reach the hardest hit areas after the earthquake, and many villagers feel abandoned.: 1<br>We will compensate citizens affected by the earthquake and assist in rebuilding their homes.: 1<br>The government has no planification; they only have words.: 1<br>We are organizing relief efforts and have declared three days of national mourning.: 1<br>Morocco will observe three days of mourning for the victims of the earthquake.: 1",
          "<b>MEX</b><br>Positions Count: 17<br><br>Top 5 Positions:<br>I promise to continue the course of what I call the transformation initiated by the president.: 1<br>The ceremony is an act of authoritarianism of the Mexican we want to lead behind.: 1<br>The historic Mexican Supreme Court ruling decriminalizing abortion on the federal level may hold the key to U.S. struggle.: 1<br>We look to the United States as a model in our struggle to chip away at abortion restrictions.: 1<br>Abortion should be removed from the federal penal code and made accessible through federal health institutions.: 1",
          "<b>BIH</b><br>Positions Count: 7<br><br>Top 5 Positions:<br>The EU and the Western Balkans should be ready for enlargement as soon as possible, but not later than 2030.: 1<br>The charges against me are an attack on Serbs in Bosnia.: 1<br>Forbade entrance to the high representative Christian Shmidt and threatened arrest and deportation.: 1<br>I support the reintroduction of criminal sanctions for defamation as a means to control media and protect the interests of Republika Srpska.: 1<br>I acknowledge Crimea as Russian and support Russia's offensive, labeling it as 'inevitable.': 1",
          "<b>MNE</b><br>Positions Count: 1<br><br>Top 5 Positions:<br>The EU and the Western Balkans should be ready for enlargement as soon as possible, but not later than 2030.: 1",
          "<b>MKD</b><br>Positions Count: 2<br><br>Top 5 Positions:<br>The EU and the Western Balkans should be ready for enlargement as soon as possible, but not later than 2030.: 1<br>The number of attempted illegal crossings into the country has declined significantly.: 1",
          "<b>ALB</b><br>Positions Count: 2<br><br>Top 5 Positions:<br>The EU and the Western Balkans should be ready for enlargement as soon as possible, but not later than 2030.: 1<br>Moscow hopes the sham elections will demonstrate its control over these occupied territories, but they are nothing more than a propaganda stunt.: 1",
          "<b>SWZ</b><br>Positions Count: 4<br><br>Top 5 Positions:<br>The SADC team has decided to stick to their terms of reference and the mandate they drew from the SADC statutes.: 1<br>The government is pleased with developments over the period of independence.: 1<br>The ordinary emaSwati continue to struggle to access basic services and face unemployment.: 1<br>The church should take its rightful position to stand in the gap and pray for leaders.: 1",
          "<b>DZA</b><br>Positions Count: 4<br><br>Top 5 Positions:<br>Algeria has agreed to open its airspace for humanitarian flights to Morocco.: 1<br>I propose a six-month transitional plan for Niger.: 1<br>Proposed a six-month transitional plan for Niger to restore constitutional and democratic order.: 1<br>Proposed a half-year transitional phase to restore constitutional and democratic order in Niger.: 1",
          "<b>ETH</b><br>Positions Count: 3<br><br>Top 5 Positions:<br>The dam will not cut their share of Nile water.: 1<br>Ethiopia will endeavor to conclude the trilateral negotiation based on the principle of equitable and reasonable utilization while ensuring its rightful share of the Nile waters.: 1<br>The Ethiopian authorities have declared a state of emergency for six months in the Amhara region.: 1",
          "<b>VNM</b><br>Positions Count: 1<br><br>Top 5 Positions:<br>Vietnam is a friend, a reliable partner, and a responsible member of the international community.: 1",
          "<b>LBN</b><br>Positions Count: 6<br><br>Top 5 Positions:<br>We need to support the locals and provide urgent medical and emergency assistance.: 1<br>Discussed the volatile situation in an attempt to end the fighting.: 1<br>Engaged in clashes with Fatah group.: 1<br>Fatah members are involved in violent clashes in Lebanon's refugee camps.: 1<br>This fighting must not continue because its repercussions are bad – for the camp's residents, for the dear Palestinian people...for the south, for all of Lebanon.: 1",
          "<b>MDV</b><br>Positions Count: 5<br><br>Top 5 Positions:<br>I am seen as pro-China in the presidential race.: 1<br>I am perceived as pro-India in the presidential race.: 1<br>I aim to lead the country towards stronger ties with China.: 1<br>I will continue to strengthen our relationship with India.: 1<br>Should be eligible to contest next month's presidential election despite his corruption conviction being under appeal.: 1",
          "<b>THA</b><br>Positions Count: 2<br><br>Top 5 Positions:<br>The Russian elections are completely transparent.: 1<br>A weakened Putin might be more compliant to Beijing's influence.: 1",
          "<b>ARG</b><br>Positions Count: 28<br><br>Top 5 Positions:<br>Urged the G20 to include Latin American and Caribbean States, similar to the African Union.: 1<br>Supported the creation of a common currency among BRICS nations to reduce reliance on the US Dollar.: 1<br>Acknowledged the negative impact of the Russia-Ukraine conflict on the global economy.: 1<br>Emphasized the need for concrete action rather than mere speeches regarding global challenges.: 1<br>Navigating through upcoming elections while addressing the concerns of the Argentine electorate.: 1",
          "<b>COM</b><br>Positions Count: 2<br><br>Top 5 Positions:<br>We welcome our inclusion as a permanent member of the G20.: 1<br>The inclusion of the African Union in the G20 is a historic move.: 1",
          "<b>MOZ</b><br>Positions Count: 1<br><br>Top 5 Positions:<br>I saw that for myself. Congratulations. This is real democracy, which is needed in the world.: 1",
          "<b>GRC</b><br>Positions Count: 13<br><br>Top 5 Positions:<br>We are evacuating villages and shoring up flood defenses to prevent further flooding in Larissa.: 1<br>The authorities' response to the flooding is inadequate and we demand accountability.: 1<br>I am committed to addressing the flooding crisis and ensuring the safety of residents.: 1<br>We are managing the increase in migrant arrivals and addressing smuggling activities.: 1<br>Greek authorities are secretly deporting migrants back to Türkiye.: 1",
          "<b>PRY</b><br>Positions Count: 1<br><br>Top 5 Positions:<br>We protest against the tolls charged by Argentina on the Paraguay-Paraná waterway.: 1",
          "<b>TUN</b><br>Positions Count: 2<br><br>Top 5 Positions:<br>The elections in the occupied Ukrainian territories are illegitimate and violate international law.: 1<br>Reiterate commitment to the African Nuclear-Weapon-Free Zone Treaty.: 1",
          "<b>QAT</b><br>Positions Count: 3<br><br>Top 5 Positions:<br>I have been re-elected as head of the European Clubs Association.: 1<br>It will be exciting to play at San Siro, a stadium we have never visited.: 1<br>The reunion for Gianluigi Donnarumma at San Siro is normal and won't create any significant feelings.: 1",
          "<b>YEM</b><br>Positions Count: 2<br><br>Top 5 Positions:<br>There is a need for concerted regional and international efforts to progress toward lasting peace and the value of peace and stability in Yemen.: 1<br>The Houthis are justified in detaining UN humanitarian workers due to their non-compliance.: 1",
          "<b>CAF</b><br>Positions Count: 2<br><br>Top 5 Positions:<br>We are here to assess progress, listen to the challenges and concerns of the local population and to mobilize support for the people of Vakaga.: 1<br>Criticized the absence of a level playing field in the constitutional referendum.: 1",
          "<b>GUY</b><br>Positions Count: 5<br><br>Top 5 Positions:<br>We are committed to developing a bio-fortified rice variety to enhance food security and nutritional value for the population.: 2<br>We expect better returns on investments from the bio-fortified rice variety.: 1<br>We set ourselves to a very rapid agenda for development that requires strong time management.: 1<br>Companies can invest in accommodation options or transportation services to attract much-needed workers.: 1",
          "<b>LUX</b><br>Positions Count: 5<br><br>Top 5 Positions:<br>The LSAP would gain several seats in parliament if elections were held this Sunday.: 1<br>The CSV would remain the most important party.: 1<br>The Pirates would more than double in size.: 1<br>Xavier Bettel would remain the voters' favourite prime minister.: 1<br>Only 8% of voters would like to see the current three-party coalition continue.: 1",
          "<b>CIV</b><br>Positions Count: 3<br><br>Top 5 Positions:<br>Pan-Africanism must evolve to address contemporary geopolitical challenges and promote African unity and independence.: 1<br>We should use force against the Nigerien junta to restore order.: 1<br>I support the use of force against the Nigerien junta to restore order.: 1",
          "<b>BHR</b><br>Positions Count: 1<br><br>Top 5 Positions:<br>A shift to persistent engagement is necessary to effectively address the challenges of cyber warfare.: 1",
          "<b>IRQ</b><br>Positions Count: 4<br><br>Top 5 Positions:<br>I ordered a curfew in the city and extensive security operations in the areas affected by the riots.: 1<br>We demand the return of our headquarters in Kirkuk as a rightful claim.: 1<br>We oppose the return of the KDP headquarters and demand equal representation in governance.: 1<br>A joint operation by Iraqi counter-terror troops and French special forces was ambushed by Islamic State militants.: 1",
          "<b>KHM</b><br>Positions Count: 3<br><br>Top 5 Positions:<br>I am confident that under your guidance, Cambodia will continue to achieve remarkable progress and prosperity.: 1<br>The Cambodian election was a legitimate process that demonstrated the will of the people.: 1<br>We have successfully maintained stability and governance through our electoral process.: 1",
          "<b>KWT</b><br>Positions Count: 1<br><br>Top 5 Positions:<br>Initially voted for the admission of up to 500 athletes from Russia and Belarus under a neutral flag.: 1",
          "<b>BOL</b><br>Positions Count: 4<br><br>Top 5 Positions:<br>The government is implicated in the reconfiguration of drug trafficking, which has turned Bolivia into an exporting country.: 1<br>There is gas in the country, (but) you have to invest (…) to consolidate those exploration reserves.: 1<br>Bolivia must first find the resources to explore hard.: 1<br>Bolivia should resist foreign intervention and maintain its sovereignty.: 1",
          "<b>GIN</b><br>Positions Count: 2<br><br>Top 5 Positions:<br>We will restore civilian rule by the end of 2024.: 1<br>Support for the Nigerien junta.: 1",
          "<b>KGZ</b><br>Positions Count: 7<br><br>Top 5 Positions:<br>Support for the construction of educational institutions in Kyrgyzstan that will teach in Russian.: 1<br>Expressed wishes for the holiday and the importance of education.: 1<br>I request that the Kremlin grant me a Russian passport and get me out of prison.: 1<br>Kyrgyzstan has canceled military exercises with the CSTO due to border issues with Tajikistan.: 1<br>I consider myself a Russian and I will return to the conflict if released from jail.: 1",
          "<b>ZWE</b><br>Positions Count: 38<br><br>Top 5 Positions:<br>I have won re-election against Nelson Chamisa.: 1<br>My re-election was obtained peacefully, transparently and fairly in broad daylight.: 1<br>We will prove our win through compiled local results and mobilise support among Zimbabweans.: 1<br>I have been declared the winner of the presidential contest.: 1<br>The election results should be rejected and a new election should be held.: 1",
          "<b>MNG</b><br>Positions Count: 1<br><br>Top 5 Positions:<br>I hope that Francis' visit would also show Mongolians that Christianity isn't a foreign religion, but is also rooted in the country.: 1",
          "<b>SOM</b><br>Positions Count: 1<br><br>Top 5 Positions:<br>Several decades of intermittent drought, conflict and political instability have made Somalia dangerously dependent on grain imports.: 1",
          "<b>BHS</b><br>Positions Count: 1<br><br>Top 5 Positions:<br>The situation is deeply concerning.: 1",
          "<b>KIR</b><br>Positions Count: 1<br><br>Top 5 Positions:<br>Call on the nuclear-weapon States concerned to provide targeted support, radiological clean-up of the island, victim assistance and environmental remediation.: 1",
          "<b>ECU</b><br>Positions Count: 53<br><br>Top 5 Positions:<br>The system implemented by the CNE for electronic voting for Ecuadorians living abroad had serious flaws.: 2<br>The voting system was subject to cyber attacks from various countries.: 1<br>The CNE's lack of action regarding the voting system is a fraud.: 1<br>Ecuador urgently needs peace, jobs and security, and a return to the policies of Correa would allow the country to get out of a wave of insecurity.: 1<br>My platform focuses on security for Ecuador and employment.: 1",
          "<b>VGB</b><br>Positions Count: 1<br><br>Top 5 Positions:<br>The dual class structure of our shares has the effect of concentrating voting power with certain shareholders, in particular WISeKey, which will effectively eliminate your ability to influence the outcome of important transactions, including a change of control.: 1",
          "<b>CYM</b><br>Positions Count: 1<br><br>Top 5 Positions:<br>The Company agrees to issue and sell through the Agent ordinary shares under the terms set forth in the Agreement.: 1",
          "<b>VUT</b><br>Positions Count: 1<br><br>Top 5 Positions:<br>I narrowly survived a no-confidence motion after criticism for signing a security pact with Australia.: 1",
          "<b>SSD</b><br>Positions Count: 1<br><br>Top 5 Positions:<br>We promise to meet the December 2024 elections timeline despite slow progress.: 1",
          "<b>NAM</b><br>Positions Count: 2<br><br>Top 5 Positions:<br>The Army-2023 international forum was important for the relations between Moscow and Windhoek.: 1<br>Namibia seeks to collaborate with Japan to establish a rare earth industry master plan and promote sustainable extraction practices.: 1",
          "<b>PER</b><br>Positions Count: 2<br><br>Top 5 Positions:<br>I sought to nationalize Peru's copper and lithium mines to benefit the people, but faced a coup supported by the US.: 1<br>The nationalization of Peru's resources should be prioritized over foreign privatization.: 1",
          "<b>SLV</b><br>Positions Count: 3<br><br>Top 5 Positions:<br>I am making a massive effort to save thousands of lives.: 1<br>We are here to show the true reality of President Bukele's efforts.: 1<br>Bukele's crackdown on gangs violates human rights and undermines democracy.: 1",
          "<b>JOR</b><br>Positions Count: 2<br><br>Top 5 Positions:<br>Approved a bill to punish online speech deemed harmful to national unity.: 1<br>Accused the government of a new crackdown on free expression.: 1",
          "<b>URY</b><br>Positions Count: 1<br><br>Top 5 Positions:<br>Vecino is ready to contribute to Lazio's midfield after joining as a free transfer.: 1",
          "<b>SEN</b><br>Positions Count: 7<br><br>Top 5 Positions:<br>It's one coup too many.: 2<br>The government is responsible for the health condition of Ousmane Sonko.: 1<br>We want to protect our fishing grounds from gas extraction.: 1<br>Gas is an enormous opportunity for our country.: 1<br>We don't want the Chinese!: 1",
          "<b>AGO</b><br>Positions Count: 1<br><br>Top 5 Positions:<br>Angola aims to strengthen trade and investment cooperation with Japan to unlock new opportunities in the mining sector.: 1",
          "<b>ZMB</b><br>Positions Count: 1<br><br>Top 5 Positions:<br>Zambia presents promising investment prospects for Japan in copper and nickel deposits, aiming for business cooperation.: 1",
          "<b>RWA</b><br>Positions Count: 2<br><br>Top 5 Positions:<br>I should be released without trial due to my health condition.: 1<br>This is not the end of the legal process regarding Kabuga.: 1",
          "<b>NZL</b><br>Positions Count: 3<br><br>Top 5 Positions:<br>We oppose the use of these weapons.: 1<br>We oppose the use of cluster munitions.: 1<br>Opposed to the use of cluster munitions by Ukraine.: 1",
          "<b>GGY</b><br>Positions Count: 1<br><br>Top 5 Positions:<br>The Company aims to generate attractive risk adjusted returns principally through income distributions.: 1",
          "<b>BDI</b><br>Positions Count: 4<br><br>Top 5 Positions:<br>The PCN is not a far-right organisation and I am not part of the so-called 'fachosphere'.: 1<br>Support for Luc Michel's political activities and representation of Burundi.: 1<br>Criticism of Luc Michel and his political influence.: 1<br>Criticized the government's contempt for human rights.: 1",
          "<b>TCD</b><br>Positions Count: 1<br><br>Top 5 Positions:<br>I am mediating between the military junta and the ousted president to reach a peaceful resolution.: 1"
         ],
         "type": "choropleth",
         "z": [
          4538,
          4089,
          786,
          140,
          2551,
          169,
          140,
          14,
          104,
          80,
          52,
          13,
          581,
          1080,
          68,
          20,
          187,
          79,
          57,
          11,
          23,
          16,
          318,
          45,
          130,
          62,
          37,
          55,
          61,
          42,
          65,
          3,
          13,
          27,
          22,
          16,
          37,
          184,
          45,
          90,
          100,
          25,
          65,
          5,
          54,
          25,
          11,
          10,
          68,
          1,
          2,
          41,
          1,
          5,
          5,
          35,
          46,
          1,
          36,
          22,
          234,
          49,
          51,
          15,
          31,
          8,
          10,
          29,
          7,
          22,
          23,
          5,
          6,
          5,
          33,
          33,
          9,
          27,
          1,
          2,
          2,
          7,
          10,
          2,
          8,
          1,
          27,
          9,
          14,
          18,
          5,
          6,
          17,
          23,
          2,
          14,
          17,
          7,
          1,
          2,
          2,
          4,
          4,
          3,
          1,
          6,
          5,
          2,
          28,
          2,
          1,
          13,
          1,
          2,
          3,
          2,
          2,
          5,
          5,
          3,
          1,
          4,
          3,
          1,
          4,
          2,
          7,
          38,
          1,
          1,
          1,
          1,
          53,
          1,
          1,
          1,
          1,
          2,
          2,
          3,
          2,
          1,
          7,
          1,
          1,
          2,
          3,
          1,
          4,
          1
         ],
         "zmax": 4538,
         "zmin": 1
        }
       ],
       "layout": {
        "autosize": false,
        "geo": {
         "projection": {
          "type": "natural earth"
         },
         "showcoastlines": true,
         "showframe": true
        },
        "height": 800,
        "paper_bgcolor": "#737994",
        "plot_bgcolor": "#303446",
        "template": {
         "data": {
          "bar": [
           {
            "error_x": {
             "color": "#2a3f5f"
            },
            "error_y": {
             "color": "#2a3f5f"
            },
            "marker": {
             "line": {
              "color": "#E5ECF6",
              "width": 0.5
             },
             "pattern": {
              "fillmode": "overlay",
              "size": 10,
              "solidity": 0.2
             }
            },
            "type": "bar"
           }
          ],
          "barpolar": [
           {
            "marker": {
             "line": {
              "color": "#E5ECF6",
              "width": 0.5
             },
             "pattern": {
              "fillmode": "overlay",
              "size": 10,
              "solidity": 0.2
             }
            },
            "type": "barpolar"
           }
          ],
          "carpet": [
           {
            "aaxis": {
             "endlinecolor": "#2a3f5f",
             "gridcolor": "white",
             "linecolor": "white",
             "minorgridcolor": "white",
             "startlinecolor": "#2a3f5f"
            },
            "baxis": {
             "endlinecolor": "#2a3f5f",
             "gridcolor": "white",
             "linecolor": "white",
             "minorgridcolor": "white",
             "startlinecolor": "#2a3f5f"
            },
            "type": "carpet"
           }
          ],
          "choropleth": [
           {
            "colorbar": {
             "outlinewidth": 0,
             "ticks": ""
            },
            "type": "choropleth"
           }
          ],
          "contour": [
           {
            "colorbar": {
             "outlinewidth": 0,
             "ticks": ""
            },
            "colorscale": [
             [
              0,
              "#0d0887"
             ],
             [
              0.1111111111111111,
              "#46039f"
             ],
             [
              0.2222222222222222,
              "#7201a8"
             ],
             [
              0.3333333333333333,
              "#9c179e"
             ],
             [
              0.4444444444444444,
              "#bd3786"
             ],
             [
              0.5555555555555556,
              "#d8576b"
             ],
             [
              0.6666666666666666,
              "#ed7953"
             ],
             [
              0.7777777777777778,
              "#fb9f3a"
             ],
             [
              0.8888888888888888,
              "#fdca26"
             ],
             [
              1,
              "#f0f921"
             ]
            ],
            "type": "contour"
           }
          ],
          "contourcarpet": [
           {
            "colorbar": {
             "outlinewidth": 0,
             "ticks": ""
            },
            "type": "contourcarpet"
           }
          ],
          "heatmap": [
           {
            "colorbar": {
             "outlinewidth": 0,
             "ticks": ""
            },
            "colorscale": [
             [
              0,
              "#0d0887"
             ],
             [
              0.1111111111111111,
              "#46039f"
             ],
             [
              0.2222222222222222,
              "#7201a8"
             ],
             [
              0.3333333333333333,
              "#9c179e"
             ],
             [
              0.4444444444444444,
              "#bd3786"
             ],
             [
              0.5555555555555556,
              "#d8576b"
             ],
             [
              0.6666666666666666,
              "#ed7953"
             ],
             [
              0.7777777777777778,
              "#fb9f3a"
             ],
             [
              0.8888888888888888,
              "#fdca26"
             ],
             [
              1,
              "#f0f921"
             ]
            ],
            "type": "heatmap"
           }
          ],
          "heatmapgl": [
           {
            "colorbar": {
             "outlinewidth": 0,
             "ticks": ""
            },
            "colorscale": [
             [
              0,
              "#0d0887"
             ],
             [
              0.1111111111111111,
              "#46039f"
             ],
             [
              0.2222222222222222,
              "#7201a8"
             ],
             [
              0.3333333333333333,
              "#9c179e"
             ],
             [
              0.4444444444444444,
              "#bd3786"
             ],
             [
              0.5555555555555556,
              "#d8576b"
             ],
             [
              0.6666666666666666,
              "#ed7953"
             ],
             [
              0.7777777777777778,
              "#fb9f3a"
             ],
             [
              0.8888888888888888,
              "#fdca26"
             ],
             [
              1,
              "#f0f921"
             ]
            ],
            "type": "heatmapgl"
           }
          ],
          "histogram": [
           {
            "marker": {
             "pattern": {
              "fillmode": "overlay",
              "size": 10,
              "solidity": 0.2
             }
            },
            "type": "histogram"
           }
          ],
          "histogram2d": [
           {
            "colorbar": {
             "outlinewidth": 0,
             "ticks": ""
            },
            "colorscale": [
             [
              0,
              "#0d0887"
             ],
             [
              0.1111111111111111,
              "#46039f"
             ],
             [
              0.2222222222222222,
              "#7201a8"
             ],
             [
              0.3333333333333333,
              "#9c179e"
             ],
             [
              0.4444444444444444,
              "#bd3786"
             ],
             [
              0.5555555555555556,
              "#d8576b"
             ],
             [
              0.6666666666666666,
              "#ed7953"
             ],
             [
              0.7777777777777778,
              "#fb9f3a"
             ],
             [
              0.8888888888888888,
              "#fdca26"
             ],
             [
              1,
              "#f0f921"
             ]
            ],
            "type": "histogram2d"
           }
          ],
          "histogram2dcontour": [
           {
            "colorbar": {
             "outlinewidth": 0,
             "ticks": ""
            },
            "colorscale": [
             [
              0,
              "#0d0887"
             ],
             [
              0.1111111111111111,
              "#46039f"
             ],
             [
              0.2222222222222222,
              "#7201a8"
             ],
             [
              0.3333333333333333,
              "#9c179e"
             ],
             [
              0.4444444444444444,
              "#bd3786"
             ],
             [
              0.5555555555555556,
              "#d8576b"
             ],
             [
              0.6666666666666666,
              "#ed7953"
             ],
             [
              0.7777777777777778,
              "#fb9f3a"
             ],
             [
              0.8888888888888888,
              "#fdca26"
             ],
             [
              1,
              "#f0f921"
             ]
            ],
            "type": "histogram2dcontour"
           }
          ],
          "mesh3d": [
           {
            "colorbar": {
             "outlinewidth": 0,
             "ticks": ""
            },
            "type": "mesh3d"
           }
          ],
          "parcoords": [
           {
            "line": {
             "colorbar": {
              "outlinewidth": 0,
              "ticks": ""
             }
            },
            "type": "parcoords"
           }
          ],
          "pie": [
           {
            "automargin": true,
            "type": "pie"
           }
          ],
          "scatter": [
           {
            "fillpattern": {
             "fillmode": "overlay",
             "size": 10,
             "solidity": 0.2
            },
            "type": "scatter"
           }
          ],
          "scatter3d": [
           {
            "line": {
             "colorbar": {
              "outlinewidth": 0,
              "ticks": ""
             }
            },
            "marker": {
             "colorbar": {
              "outlinewidth": 0,
              "ticks": ""
             }
            },
            "type": "scatter3d"
           }
          ],
          "scattercarpet": [
           {
            "marker": {
             "colorbar": {
              "outlinewidth": 0,
              "ticks": ""
             }
            },
            "type": "scattercarpet"
           }
          ],
          "scattergeo": [
           {
            "marker": {
             "colorbar": {
              "outlinewidth": 0,
              "ticks": ""
             }
            },
            "type": "scattergeo"
           }
          ],
          "scattergl": [
           {
            "marker": {
             "colorbar": {
              "outlinewidth": 0,
              "ticks": ""
             }
            },
            "type": "scattergl"
           }
          ],
          "scattermapbox": [
           {
            "marker": {
             "colorbar": {
              "outlinewidth": 0,
              "ticks": ""
             }
            },
            "type": "scattermapbox"
           }
          ],
          "scatterpolar": [
           {
            "marker": {
             "colorbar": {
              "outlinewidth": 0,
              "ticks": ""
             }
            },
            "type": "scatterpolar"
           }
          ],
          "scatterpolargl": [
           {
            "marker": {
             "colorbar": {
              "outlinewidth": 0,
              "ticks": ""
             }
            },
            "type": "scatterpolargl"
           }
          ],
          "scatterternary": [
           {
            "marker": {
             "colorbar": {
              "outlinewidth": 0,
              "ticks": ""
             }
            },
            "type": "scatterternary"
           }
          ],
          "surface": [
           {
            "colorbar": {
             "outlinewidth": 0,
             "ticks": ""
            },
            "colorscale": [
             [
              0,
              "#0d0887"
             ],
             [
              0.1111111111111111,
              "#46039f"
             ],
             [
              0.2222222222222222,
              "#7201a8"
             ],
             [
              0.3333333333333333,
              "#9c179e"
             ],
             [
              0.4444444444444444,
              "#bd3786"
             ],
             [
              0.5555555555555556,
              "#d8576b"
             ],
             [
              0.6666666666666666,
              "#ed7953"
             ],
             [
              0.7777777777777778,
              "#fb9f3a"
             ],
             [
              0.8888888888888888,
              "#fdca26"
             ],
             [
              1,
              "#f0f921"
             ]
            ],
            "type": "surface"
           }
          ],
          "table": [
           {
            "cells": {
             "fill": {
              "color": "#EBF0F8"
             },
             "line": {
              "color": "white"
             }
            },
            "header": {
             "fill": {
              "color": "#C8D4E3"
             },
             "line": {
              "color": "white"
             }
            },
            "type": "table"
           }
          ]
         },
         "layout": {
          "annotationdefaults": {
           "arrowcolor": "#2a3f5f",
           "arrowhead": 0,
           "arrowwidth": 1
          },
          "autotypenumbers": "strict",
          "coloraxis": {
           "colorbar": {
            "outlinewidth": 0,
            "ticks": ""
           }
          },
          "colorscale": {
           "diverging": [
            [
             0,
             "#8e0152"
            ],
            [
             0.1,
             "#c51b7d"
            ],
            [
             0.2,
             "#de77ae"
            ],
            [
             0.3,
             "#f1b6da"
            ],
            [
             0.4,
             "#fde0ef"
            ],
            [
             0.5,
             "#f7f7f7"
            ],
            [
             0.6,
             "#e6f5d0"
            ],
            [
             0.7,
             "#b8e186"
            ],
            [
             0.8,
             "#7fbc41"
            ],
            [
             0.9,
             "#4d9221"
            ],
            [
             1,
             "#276419"
            ]
           ],
           "sequential": [
            [
             0,
             "#0d0887"
            ],
            [
             0.1111111111111111,
             "#46039f"
            ],
            [
             0.2222222222222222,
             "#7201a8"
            ],
            [
             0.3333333333333333,
             "#9c179e"
            ],
            [
             0.4444444444444444,
             "#bd3786"
            ],
            [
             0.5555555555555556,
             "#d8576b"
            ],
            [
             0.6666666666666666,
             "#ed7953"
            ],
            [
             0.7777777777777778,
             "#fb9f3a"
            ],
            [
             0.8888888888888888,
             "#fdca26"
            ],
            [
             1,
             "#f0f921"
            ]
           ],
           "sequentialminus": [
            [
             0,
             "#0d0887"
            ],
            [
             0.1111111111111111,
             "#46039f"
            ],
            [
             0.2222222222222222,
             "#7201a8"
            ],
            [
             0.3333333333333333,
             "#9c179e"
            ],
            [
             0.4444444444444444,
             "#bd3786"
            ],
            [
             0.5555555555555556,
             "#d8576b"
            ],
            [
             0.6666666666666666,
             "#ed7953"
            ],
            [
             0.7777777777777778,
             "#fb9f3a"
            ],
            [
             0.8888888888888888,
             "#fdca26"
            ],
            [
             1,
             "#f0f921"
            ]
           ]
          },
          "colorway": [
           "#636efa",
           "#EF553B",
           "#00cc96",
           "#ab63fa",
           "#FFA15A",
           "#19d3f3",
           "#FF6692",
           "#B6E880",
           "#FF97FF",
           "#FECB52"
          ],
          "font": {
           "color": "#2a3f5f"
          },
          "geo": {
           "bgcolor": "white",
           "lakecolor": "white",
           "landcolor": "#E5ECF6",
           "showlakes": true,
           "showland": true,
           "subunitcolor": "white"
          },
          "hoverlabel": {
           "align": "left"
          },
          "hovermode": "closest",
          "mapbox": {
           "style": "light"
          },
          "paper_bgcolor": "white",
          "plot_bgcolor": "#E5ECF6",
          "polar": {
           "angularaxis": {
            "gridcolor": "white",
            "linecolor": "white",
            "ticks": ""
           },
           "bgcolor": "#E5ECF6",
           "radialaxis": {
            "gridcolor": "white",
            "linecolor": "white",
            "ticks": ""
           }
          },
          "scene": {
           "xaxis": {
            "backgroundcolor": "#E5ECF6",
            "gridcolor": "white",
            "gridwidth": 2,
            "linecolor": "white",
            "showbackground": true,
            "ticks": "",
            "zerolinecolor": "white"
           },
           "yaxis": {
            "backgroundcolor": "#E5ECF6",
            "gridcolor": "white",
            "gridwidth": 2,
            "linecolor": "white",
            "showbackground": true,
            "ticks": "",
            "zerolinecolor": "white"
           },
           "zaxis": {
            "backgroundcolor": "#E5ECF6",
            "gridcolor": "white",
            "gridwidth": 2,
            "linecolor": "white",
            "showbackground": true,
            "ticks": "",
            "zerolinecolor": "white"
           }
          },
          "shapedefaults": {
           "line": {
            "color": "#2a3f5f"
           }
          },
          "ternary": {
           "aaxis": {
            "gridcolor": "white",
            "linecolor": "white",
            "ticks": ""
           },
           "baxis": {
            "gridcolor": "white",
            "linecolor": "white",
            "ticks": ""
           },
           "bgcolor": "#E5ECF6",
           "caxis": {
            "gridcolor": "white",
            "linecolor": "white",
            "ticks": ""
           }
          },
          "title": {
           "x": 0.05
          },
          "xaxis": {
           "automargin": true,
           "gridcolor": "white",
           "linecolor": "white",
           "ticks": "",
           "title": {
            "standoff": 15
           },
           "zerolinecolor": "white",
           "zerolinewidth": 2
          },
          "yaxis": {
           "automargin": true,
           "gridcolor": "white",
           "linecolor": "white",
           "ticks": "",
           "title": {
            "standoff": 15
           },
           "zerolinecolor": "white",
           "zerolinewidth": 2
          }
         }
        },
        "title": {
         "text": "World Heatmap: Positions by Country"
        },
        "width": 1200
       }
      },
      "text/html": [
       "<div>                            <div id=\"49595cef-0607-4c22-8d99-76ad66a8823a\" class=\"plotly-graph-div\" style=\"height:800px; width:1200px;\"></div>            <script type=\"text/javascript\">                require([\"plotly\"], function(Plotly) {                    window.PLOTLYENV=window.PLOTLYENV || {};                                    if (document.getElementById(\"49595cef-0607-4c22-8d99-76ad66a8823a\")) {                    Plotly.newPlot(                        \"49595cef-0607-4c22-8d99-76ad66a8823a\",                        [{\"autocolorscale\":false,\"colorbar\":{\"title\":{\"text\":\"Positions Count\"}},\"colorscale\":[[0.0,\"#81c8be\"],[0.1,\"#99d1db\"],[0.2,\"#8caaee\"],[0.3,\"#f2d5cf\"],[0.7,\"#e78284\"],[1.0,\"#ef9f76\"]],\"hoverinfo\":\"text\",\"locationmode\":\"ISO-3\",\"locations\":[\"UKR\",\"RUS\",\"GBR\",\"BGD\",\"USA\",\"SVK\",\"ESP\",\"PHL\",\"CHN\",\"ROU\",\"SWE\",\"REU\",\"DEU\",null,\"BRA\",\"LBR\",\"FRA\",\"CAN\",\"HUN\",\"MMR\",\"GEO\",\"MDA\",\"POL\",\"LTU\",\"ITA\",\"ARM\",\"AZE\",\"BEL\",\"NOR\",\"BGR\",\"CHE\",\"LKA\",\"BFA\",\"TWN\",\"KAZ\",\"LVA\",\"AUT\",\"IND\",\"CZE\",\"PAK\",\"BLR\",\"EST\",\"PRK\",\"SVN\",\"ZAF\",\"KEN\",\"VEN\",\"AFG\",\"ISR\",\"NCL\",\"FJI\",\"AUS\",\"PNG\",\"COL\",\"MYS\",\"IRN\",\"UGA\",\"MLT\",\"DNK\",\"EGY\",\"NGA\",\"NLD\",\"JPN\",\"MLI\",\"SRB\",\"SDN\",\"CYP\",\"VAT\",\"ARE\",\"GHA\",\"KOR\",\"MWI\",\"CMR\",\"HRV\",\"PRT\",\"IDN\",\"FIN\",\"SAU\",\"NPL\",\"TUR\",\"MDG\",\"SYR\",\"LBY\",\"HKG\",\"SLE\",\"NIC\",\"CUB\",\"IRL\",\"SGP\",\"PSE\",\"PAN\",\"UZB\",\"GTM\",\"GAB\",\"ISL\",\"MAR\",\"MEX\",\"BIH\",\"MNE\",\"MKD\",\"ALB\",\"SWZ\",\"DZA\",\"ETH\",\"VNM\",\"LBN\",\"MDV\",\"THA\",\"ARG\",\"COM\",\"MOZ\",\"GRC\",\"PRY\",\"TUN\",\"QAT\",\"YEM\",\"CAF\",\"GUY\",\"LUX\",\"CIV\",\"BHR\",\"IRQ\",\"KHM\",\"KWT\",\"BOL\",\"GIN\",\"KGZ\",\"ZWE\",\"MNG\",\"SOM\",\"BHS\",\"KIR\",\"ECU\",\"VGB\",\"CYM\",\"VUT\",\"SSD\",\"NAM\",\"PER\",\"SLV\",\"JOR\",\"URY\",\"SEN\",\"AGO\",\"ZMB\",\"RWA\",\"NZL\",\"GGY\",\"BDI\",\"TCD\"],\"text\":[\"\\u003cb\\u003eUKR\\u003c\\u002fb\\u003e\\u003cbr\\u003ePositions Count: 4538\\u003cbr\\u003e\\u003cbr\\u003eTop 5 Positions:\\u003cbr\\u003eThe elections in the occupied Ukrainian territories are illegitimate and violate international law.: 9\\u003cbr\\u003eThe voting in areas where Russia conducts active hostilities poses a threat to Ukrainian lives.: 8\\u003cbr\\u003eThe elections in occupied territories are illegitimate.: 7\\u003cbr\\u003eThe elections are illegal and invalid.: 7\\u003cbr\\u003eThe elections held by Russia in the occupied territories are worthless and have no legal standing.: 6\",\"\\u003cb\\u003eRUS\\u003c\\u002fb\\u003e\\u003cbr\\u003ePositions Count: 4089\\u003cbr\\u003e\\u003cbr\\u003eTop 5 Positions:\\u003cbr\\u003eI have received 5.83% of the votes in the elections.: 11\\u003cbr\\u003eReceived 5.52% of votes in the elections.: 9\\u003cbr\\u003eThe elections in the annexed territories are legitimate and reflect the will of the people.: 6\\u003cbr\\u003eReceived 5.61% of the votes.: 6\\u003cbr\\u003eWe are conducting elections in occupied territories as part of our regional governance.: 6\",\"\\u003cb\\u003eGBR\\u003c\\u002fb\\u003e\\u003cbr\\u003ePositions Count: 786\\u003cbr\\u003e\\u003cbr\\u003eTop 5 Positions:\\u003cbr\\u003eThe UK will never recognise Russia's claims to Ukrainian territory \\u2014 Crimea, Zaporizhzhia, Donetsk, Luhansk and Kherson are Ukraine.: 4\\u003cbr\\u003eRussia's sham elections are a transparent, futile attempt to legitimize its illegal control of sovereign Ukrainian territory.: 3\\u003cbr\\u003eYou cannot hold elections in someone else's country.: 3\\u003cbr\\u003eThe UK will host a global food security summit in response to the war's impact on food supply.: 3\\u003cbr\\u003eThe elections in the occupied Ukrainian territories are illegitimate and violate international law.: 2\",\"\\u003cb\\u003eBGD\\u003c\\u002fb\\u003e\\u003cbr\\u003ePositions Count: 140\\u003cbr\\u003e\\u003cbr\\u003eTop 5 Positions:\\u003cbr\\u003eNATO will continue to support Ukraine and ensure its sovereignty and territorial integrity.: 3\\u003cbr\\u003eUkrainians are gradually gaining ground.: 3\\u003cbr\\u003eNATO supports Ukraine's defense efforts.: 2\\u003cbr\\u003eI am confident that both Poland and Slovakia will continue to support Ukraine in its war with Russia after imminent elections.: 2\\u003cbr\\u003eNATO supports Ukraine's efforts to meet membership criteria.: 2\",\"\\u003cb\\u003eUSA\\u003c\\u002fb\\u003e\\u003cbr\\u003ePositions Count: 2551\\u003cbr\\u003e\\u003cbr\\u003eTop 5 Positions:\\u003cbr\\u003eThe United States will continue to support Ukraine with military and humanitarian aid.: 8\\u003cbr\\u003eWe will never recognize Russia's illegitimate claims to sovereign Ukrainian territory.: 6\\u003cbr\\u003eThe administration ran afoul of the First Amendment by threatening social media platforms.: 5\\u003cbr\\u003eThe elections are nothing more than a propaganda exercise.: 4\\u003cbr\\u003eThe elections in the occupied Ukrainian territories are illegitimate and violate international law.: 4\",\"\\u003cb\\u003eSVK\\u003c\\u002fb\\u003e\\u003cbr\\u003ePositions Count: 169\\u003cbr\\u003e\\u003cbr\\u003eTop 5 Positions:\\u003cbr\\u003eWe will continue military aid to Ukraine and support pro-EU policies.: 2\\u003cbr\\u003eWe support continued strong support for Kyiv and strong links with the West.: 2\\u003cbr\\u003eI will halt arms shipments and block European Union sanctions against Russia.: 2\\u003cbr\\u003eI will maintain support for Ukraine in line with EU and NATO partners.: 2\\u003cbr\\u003eSlovakia has implemented bans on imports of Ukrainian agricultural products to defend its farmers' interests.: 2\",\"\\u003cb\\u003eESP\\u003c\\u002fb\\u003e\\u003cbr\\u003ePositions Count: 140\\u003cbr\\u003e\\u003cbr\\u003eTop 5 Positions:\\u003cbr\\u003eSpain stands alongside its humanitarian workers who put their lives in danger for others.: 4\\u003cbr\\u003eWe will refuse to support S\\u00e1nchez if he does not commit to working to create the conditions for a referendum.: 2\\u003cbr\\u003eBarcelona often faces tough opponents in the Champions League group stage.: 2\\u003cbr\\u003eThe regions were illegally annexed by Russia.: 1\\u003cbr\\u003eEurope will not abandon Ukraine in its war to recapture the regions in the south and east of the country.: 1\",\"\\u003cb\\u003ePHL\\u003c\\u002fb\\u003e\\u003cbr\\u003ePositions Count: 14\\u003cbr\\u003e\\u003cbr\\u003eTop 5 Positions:\\u003cbr\\u003eWe don't want to face off with them. We just want them out of our territory.: 1\\u003cbr\\u003eCondemned the Chinese move, saying it prevented Filipino fishermen from entering and fishing in the area, which is well within the country's EEZ.: 1\\u003cbr\\u003eDescribed the Chinese claim as hypocritical and said it worsens mistrust towards China.: 1\\u003cbr\\u003eAnnounced the formation of a trilateral front with Japan and the US against Chinese incursions.: 1\\u003cbr\\u003eThe Philippines will take all appropriate actions to cause the removal of barriers that China installed in a disputed area of the South China Sea.: 1\",\"\\u003cb\\u003eCHN\\u003c\\u002fb\\u003e\\u003cbr\\u003ePositions Count: 104\\u003cbr\\u003e\\u003cbr\\u003eTop 5 Positions:\\u003cbr\\u003eChina is willing to work with the international community to play a constructive role in seeking a political solution to the crisis in Ukraine.: 3\\u003cbr\\u003eArming Ukraine cannot win peace as weapons only win wars.: 3\\u003cbr\\u003eSouth China Sea was in peace until the U.S. came to disrupt it.: 1\\u003cbr\\u003eTo resolve the conflict in Ukraine, a ceasefire and stopping arms supplies are necessary.: 1\\u003cbr\\u003eA ceasefire and stopping arms supplies are necessary to resolve the conflict.: 1\",\"\\u003cb\\u003eROU\\u003c\\u002fb\\u003e\\u003cbr\\u003ePositions Count: 80\\u003cbr\\u003e\\u003cbr\\u003eTop 5 Positions:\\u003cbr\\u003eWe condemn Russian attacks on Ukraine's infrastructure as unjustified.: 2\\u003cbr\\u003eRomania denied its territory had been hit by Russian drones.: 2\\u003cbr\\u003eThese attacks against civilian targets and infrastructure in Ukraine are unjustified.: 2\\u003cbr\\u003eDetected possible unauthorized entry into national airspace.: 1\\u003cbr\\u003eThere was a possible unauthorized entry into Romanian airspace.: 1\",\"\\u003cb\\u003eSWE\\u003c\\u002fb\\u003e\\u003cbr\\u003ePositions Count: 52\\u003cbr\\u003e\\u003cbr\\u003eTop 5 Positions:\\u003cbr\\u003eSweden will do everything it can to preserve unity and continue to increase sanctions against Putin's regime.: 1\\u003cbr\\u003eWe need a fast deal because we need the whole pact to go through during this mandate.: 1\\u003cbr\\u003eGreta Thunberg began her school climate strike to demand stronger action on the climate crisis.: 1\\u003cbr\\u003eWe are the natural Swedish partner for cooperation.: 1\\u003cbr\\u003eThe sanctions do not distinguish between the sale, assistance or any other type of arms transfer.: 1\",\"\\u003cb\\u003eREU\\u003c\\u002fb\\u003e\\u003cbr\\u003ePositions Count: 13\\u003cbr\\u003e\\u003cbr\\u003eTop 5 Positions:\\u003cbr\\u003eThe EU supports Ukraine and denounces the illegal annexation of regions.: 1\\u003cbr\\u003eRefugees from Ukraine can stay in the EU without any problems until at least March 2025.: 1\\u003cbr\\u003eThe EU's rules are being violated by Poland's decision to extend the import ban.: 1\\u003cbr\\u003eThe results of such actions will be null and will not have any consequences other than accountability and additional restrictive measures for those involved.: 1\\u003cbr\\u003eUkraine is making good progress on the conditions required for EU membership.: 1\",\"\\u003cb\\u003eDEU\\u003c\\u002fb\\u003e\\u003cbr\\u003ePositions Count: 581\\u003cbr\\u003e\\u003cbr\\u003eTop 5 Positions:\\u003cbr\\u003eWe do not recognize Russia's attempt to seize land.: 4\\u003cbr\\u003eThere are no Bundeswehr soldiers on combat duty in Ukraine.: 2\\u003cbr\\u003eA ceasefire should be established along the current front lines, followed by immediate peace negotiations.: 2\\u003cbr\\u003eGermany wants to support Ukraine on a large scale with additional weapons and ammunition.: 2\\u003cbr\\u003eThe decision to supply Taurus cruise missiles may take about one to two weeks.: 2\",\"\\u003cb\\u003eNone\\u003c\\u002fb\\u003e\\u003cbr\\u003ePositions Count: 1080\\u003cbr\\u003e\\u003cbr\\u003eTop 5 Positions:\\u003cbr\\u003eThe elections in the occupied Ukrainian territories are illegitimate and violate international law.: 9\\u003cbr\\u003eWe condemn the organization of a sham 'election' by Russia in sovereign Ukrainian territory.: 7\\u003cbr\\u003eExtend temporary protection status for Ukrainian refugees until March 2025.: 4\\u003cbr\\u003eWe strongly reject this further futile attempt by Russia to legitimize or normalize its illegal military control and attempted annexation of parts of Ukrainian territories.: 4\\u003cbr\\u003eThe elections in the annexed territories are illegal and not recognized by the international community.: 4\",\"\\u003cb\\u003eBRA\\u003c\\u002fb\\u003e\\u003cbr\\u003ePositions Count: 68\\u003cbr\\u003e\\u003cbr\\u003eTop 5 Positions:\\u003cbr\\u003eWe will not arrest Vladimir Putin at the G20 summit.: 2\\u003cbr\\u003eWe actively support authoritarian regimes globally and promote pro-Kremlin narratives.: 1\\u003cbr\\u003eWe disseminate pro-Kremlin disinformation and propaganda.: 1\\u003cbr\\u003eWe provide a pseudo-academic veneer for disinformation activities.: 1\\u003cbr\\u003eI lead efforts to mobilize Brazilians to support Russia's military actions.: 1\",\"\\u003cb\\u003eLBR\\u003c\\u002fb\\u003e\\u003cbr\\u003ePositions Count: 20\\u003cbr\\u003e\\u003cbr\\u003eTop 5 Positions:\\u003cbr\\u003eI promise to do everything in my power to be the agent of positive change and to fight corruption.: 1\\u003cbr\\u003eI am poised for a fiercer fight this year against George Weah.: 1\\u003cbr\\u003eThis is not the time for bogus suspensions, coverups, and fake investigations.: 1\\u003cbr\\u003eThe successful conduct of the October 10, 2023 elections is critical for the consolidation of the country's fragile democracy.: 1\\u003cbr\\u003eIt is important that we have a culture of political transition through elections to guarantee peace on the continent.: 1\",\"\\u003cb\\u003eFRA\\u003c\\u002fb\\u003e\\u003cbr\\u003ePositions Count: 187\\u003cbr\\u003e\\u003cbr\\u003eTop 5 Positions:\\u003cbr\\u003eDiscuss the possibility of joint arms production and strengthening Ukraine's air defenses.: 2\\u003cbr\\u003eFrance condemns the organization by Russia of sham elections on Ukrainian territory.: 2\\u003cbr\\u003eFrance firmly condemns the organization of these sham elections in Ukrainian territory.: 2\\u003cbr\\u003eWe condemn the organization of a sham 'election' by Russia in sovereign Ukrainian territory.: 2\\u003cbr\\u003eFrance condemns the military coup that is underway in Gabon.: 2\",\"\\u003cb\\u003eCAN\\u003c\\u002fb\\u003e\\u003cbr\\u003ePositions Count: 79\\u003cbr\\u003e\\u003cbr\\u003eTop 5 Positions:\\u003cbr\\u003eCanada has implemented sanctions against Russia in response to its actions in Ukraine.: 2\\u003cbr\\u003eCanada will contribute C$33 million to help buy air defenses for Ukraine.: 2\\u003cbr\\u003eCanada does not recognize and will never recognize the results of this sham election nor the illegal annexation attempt of Ukraine by Russia.: 2\\u003cbr\\u003eThe poster promoting a 'whites-only' group is a thinly veiled meeting of white supremacy that breeds hate into the next generation.: 1\\u003cbr\\u003eThe poster's messaging aligns with groups like 'White Lives Matter' and is an effective tactic to spread hate.: 1\",\"\\u003cb\\u003eHUN\\u003c\\u002fb\\u003e\\u003cbr\\u003ePositions Count: 57\\u003cbr\\u003e\\u003cbr\\u003eTop 5 Positions:\\u003cbr\\u003eHungary will not support Ukraine's EU membership until language rights for ethnic Hungarians are restored.: 3\\u003cbr\\u003eRejects many NATO\\u002fEU principles while enjoying their security and economic benefits.: 2\\u003cbr\\u003eVery difficult questions would need to be answered before the EU could start membership talks with Ukraine.: 2\\u003cbr\\u003eHungary announced restrictions on Ukrainian grain imports.: 2\\u003cbr\\u003eTo achieve peace in Ukraine, the West must give security guarantees to Russia, but definitely not NATO membership to the Ukrainians.: 2\",\"\\u003cb\\u003eMMR\\u003c\\u002fb\\u003e\\u003cbr\\u003ePositions Count: 11\\u003cbr\\u003e\\u003cbr\\u003eTop 5 Positions:\\u003cbr\\u003eThe international community should impose sanctions on the illegitimate rulers in Naypyidaw and consider an embargo on fuel meant for combat aircraft used against the population.: 1\\u003cbr\\u003eThe NUG is the only legitimate representative of the democratic wishes of the people of Myanmar and should be recognized by the international community.: 1\\u003cbr\\u003eRussia is supporting the military regime in Myanmar, providing it with fighter jets and technology to kill its own people.: 1\\u003cbr\\u003eThe military junta has no legitimacy to organize elections, as they are not the executive body of the country.: 1\\u003cbr\\u003eThe NUG seeks stronger economic sanctions against the military and its allies.: 1\",\"\\u003cb\\u003eGEO\\u003c\\u002fb\\u003e\\u003cbr\\u003ePositions Count: 23\\u003cbr\\u003e\\u003cbr\\u003eTop 5 Positions:\\u003cbr\\u003estrongly condemns the intention of the RF to hold illegal elections of local authorities in occupied regions of Ukraine.: 2\\u003cbr\\u003eSupports Moscow's war in Ukraine and maintains a pro-Russian stance.: 1\\u003cbr\\u003eIt is important to reduce economic dependence on Russia and to push forward political reform.: 1\\u003cbr\\u003eRussia's frustration with its waning power could lead to more dangerous behavior.: 1\\u003cbr\\u003eCurrent government is pro-Russian and undermines democratic norms, but public opinion supports EU\\u002fNATO membership.: 1\",\"\\u003cb\\u003eMDA\\u003c\\u002fb\\u003e\\u003cbr\\u003ePositions Count: 16\\u003cbr\\u003e\\u003cbr\\u003eTop 5 Positions:\\u003cbr\\u003eI firmly condemn the brutal attack by Russia on the port infrastructure.: 2\\u003cbr\\u003eWants to integrate into Western institutions and believes neutrality no longer provides security.: 1\\u003cbr\\u003eRefused to recognize the election of Eugenia Gutsol in Gagauzia.: 1\\u003cbr\\u003eDesires to integrate into Western institutions but faces internal divisions and Russian subversion.: 1\\u003cbr\\u003eMoldova must pass a bill defining the status of Transdnistria as part of the Ukrainian peace plan.: 1\",\"\\u003cb\\u003ePOL\\u003c\\u002fb\\u003e\\u003cbr\\u003ePositions Count: 318\\u003cbr\\u003e\\u003cbr\\u003eTop 5 Positions:\\u003cbr\\u003ePoland will no longer supply weapons to Ukraine and will focus on arming itself with modern weapons.: 3\\u003cbr\\u003eThe missile that hit Poland came from Ukraine.: 2\\u003cbr\\u003eWe will stop sending weapons to Ukraine due to tensions over Ukrainian grain in Polish markets.: 2\\u003cbr\\u003eWe are no longer transferring weapons to Ukraine because we are now arming Poland with more modern weapons.: 2\\u003cbr\\u003eWarsaw has blocked agricultural imports from Ukraine to protect Polish farmers.: 2\",\"\\u003cb\\u003eLTU\\u003c\\u002fb\\u003e\\u003cbr\\u003ePositions Count: 45\\u003cbr\\u003e\\u003cbr\\u003eTop 5 Positions:\\u003cbr\\u003eLithuania has revoked residence permits for over a thousand citizens from Belarus and Russia, citing national security threats.: 3\\u003cbr\\u003eFears that if Russia is not deterred, a war could destroy Lithuania.: 2\\u003cbr\\u003eWe must not only talk about measures at the national level but also ... what should be done if this situation becomes even more complicated.: 2\\u003cbr\\u003eWe are preparing to close two of the six border crossings to Belarus due to the presence of Wagner mercenaries.: 2\\u003cbr\\u003eThe presence of Wagner mercenaries in Belarus poses an additional security risk for Lithuania and Poland.: 2\",\"\\u003cb\\u003eITA\\u003c\\u002fb\\u003e\\u003cbr\\u003ePositions Count: 130\\u003cbr\\u003e\\u003cbr\\u003eTop 5 Positions:\\u003cbr\\u003eWe are evaluating our participation in the Belt and Road Initiative.: 2\\u003cbr\\u003eEmil Audero is a potential target for Inter Milan to replace Samir Handanovic.: 2\\u003cbr\\u003eItaly does not want to welcome migrants rescued by foreign NGOs.: 1\\u003cbr\\u003eOur support for Ukraine will continue.: 1\\u003cbr\\u003eThe majority of Italians want the war in Ukraine to end.: 1\",\"\\u003cb\\u003eARM\\u003c\\u002fb\\u003e\\u003cbr\\u003ePositions Count: 62\\u003cbr\\u003e\\u003cbr\\u003eTop 5 Positions:\\u003cbr\\u003eArmenia's dependence on Russia for security is a strategic mistake.: 2\\u003cbr\\u003eDependence on just one partner in security matters is a strategic mistake.: 2\\u003cbr\\u003eThe ethnic Armenian exodus amounts to a direct act of ethnic cleansing and depriving people of their motherland.: 1\\u003cbr\\u003e100,417 people had arrived in Armenia from Nagorno-Karabakh.: 1\\u003cbr\\u003eWe need to support independent journalists like Patrik Lankaster who report on our struggles.: 1\",\"\\u003cb\\u003eAZE\\u003c\\u002fb\\u003e\\u003cbr\\u003ePositions Count: 37\\u003cbr\\u003e\\u003cbr\\u003eTop 5 Positions:\\u003cbr\\u003eAny election in Ukraine cannot be legitimate unless it complies with the Constitution and laws of that country.: 2\\u003cbr\\u003eThe election of a new separatist president in Nagorno-Karabakh is a gross violation of the country's constitution.: 2\\u003cbr\\u003eThe mass migration by the region's residents was their personal and individual decision and has nothing to do with forced relocation.: 1\\u003cbr\\u003ePatrik Lankaster's reports are biased and spread false information against Azerbaijan.: 1\\u003cbr\\u003eAzerbaijan launched a military operation in Nagorno-Karabakh, claiming victory after 24 hours and ending the enclave's de-facto self-governance.: 1\",\"\\u003cb\\u003eBEL\\u003c\\u002fb\\u003e\\u003cbr\\u003ePositions Count: 55\\u003cbr\\u003e\\u003cbr\\u003eTop 5 Positions:\\u003cbr\\u003eI believe that Russia should replace France throughout Africa.: 2\\u003cbr\\u003eThe recognition of Hunka is a part of a broader geopolitical narrative.: 1\\u003cbr\\u003eI promote pro-Kremlin messages and influence politics in Africa.: 1\\u003cbr\\u003eThe IEI was an informal platform for researchers to engage with Iranian officials, not directed by the Iranian government.: 1\\u003cbr\\u003eThe NATO media campaign against me and my pro-Russian networks is a massive attack on free speech and an attempt to discredit my influence in Africa.: 1\",\"\\u003cb\\u003eNOR\\u003c\\u002fb\\u003e\\u003cbr\\u003ePositions Count: 61\\u003cbr\\u003e\\u003cbr\\u003eTop 5 Positions:\\u003cbr\\u003eIt is important that the sanctions are effective to prevent the Russian state from gaining income to finance the war.: 2\\u003cbr\\u003eEvery meter that Ukrainian forces regain is a meter that Russia loses.: 2\\u003cbr\\u003eUkraine is making slow progress in the war against Russia. Every meter that Ukraine retakes should be considered as a space that Russia loses.: 1\\u003cbr\\u003eUkrainian forces are gaining ground in the counteroffensive, contrasting their fight for freedom against Moscow's imperial ambitions.: 1\\u003cbr\\u003eNorway has closed its border to vehicles registered in Russia as part of sanctions against Moscow.: 1\",\"\\u003cb\\u003eBGR\\u003c\\u002fb\\u003e\\u003cbr\\u003ePositions Count: 42\\u003cbr\\u003e\\u003cbr\\u003eTop 5 Positions:\\u003cbr\\u003eThe missiles were defective and unusable.: 2\\u003cbr\\u003eAccusations of national betrayal regarding the missile provision.: 2\\u003cbr\\u003eBulgaria will provide military aid to Ukraine.: 1\\u003cbr\\u003eThe Bulgarian parliament voted to lift the ban on Ukrainian grain imports.: 1\\u003cbr\\u003eBulgaria will provide Ukraine with aging, defective missiles it cannot repair.: 1\",\"\\u003cb\\u003eCHE\\u003c\\u002fb\\u003e\\u003cbr\\u003ePositions Count: 65\\u003cbr\\u003e\\u003cbr\\u003eTop 5 Positions:\\u003cbr\\u003eThere is continuous evidence that Russian armed forces are committing war crimes in Ukraine.: 3\\u003cbr\\u003eThe Commission deplores that attacks affecting civilians and medical institutions continue to take place and emphasizes the need for accountability.: 2\\u003cbr\\u003eThe Swiss government supports humanitarian aid and reconstruction efforts in Ukraine.: 1\\u003cbr\\u003eSwitzerland will allocate funds for demining in Ukraine.: 1\\u003cbr\\u003eSwitzerland plans to assist in demining Ukraine despite its ban on arms exports.: 1\",\"\\u003cb\\u003eLKA\\u003c\\u002fb\\u003e\\u003cbr\\u003ePositions Count: 3\\u003cbr\\u003e\\u003cbr\\u003eTop 5 Positions:\\u003cbr\\u003eThe need of the hour -1- Initiate an immediate ceasefire.: 1\\u003cbr\\u003ePeaceful negotiations\\u2014addressing the root causes of this war\\u2014are the only way to end the war in Ukraine.: 1\\u003cbr\\u003eI will appoint a committee to investigate allegations against the intelligence.: 1\",\"\\u003cb\\u003eBFA\\u003c\\u002fb\\u003e\\u003cbr\\u003ePositions Count: 13\\u003cbr\\u003e\\u003cbr\\u003eTop 5 Positions:\\u003cbr\\u003eElections are not currently a priority.: 1\\u003cbr\\u003eEnd violations and ensure compliance with IHL and IHRL.: 1\\u003cbr\\u003eWe will not accept any military intervention from ECOWAS regarding the situation in Niger.: 1\\u003cbr\\u003eWe denounce the abuses and non-inclusive governance by military authorities.: 1\\u003cbr\\u003eWe will restore civilian rule by the end of 2024.: 1\",\"\\u003cb\\u003eTWN\\u003c\\u002fb\\u003e\\u003cbr\\u003ePositions Count: 27\\u003cbr\\u003e\\u003cbr\\u003eTop 5 Positions:\\u003cbr\\u003eThe purpose of my candidacy is to unify the opposition and promote cross-strait dialogue.: 1\\u003cbr\\u003eTaiwan should strengthen dialogue to decrease the chance of war.: 1\\u003cbr\\u003eTaiwan is already a sovereign, independent country called the Republic of China.: 1\\u003cbr\\u003eWe must focus on the big picture and enforce party discipline against pro-Gou members.: 1\\u003cbr\\u003eWe oppose the 1992 Consensus as it compromises Taiwan's sovereignty.: 1\",\"\\u003cb\\u003eKAZ\\u003c\\u002fb\\u003e\\u003cbr\\u003ePositions Count: 22\\u003cbr\\u003e\\u003cbr\\u003eTop 5 Positions:\\u003cbr\\u003eKazakhstan will not help Russia evade sanctions.: 3\\u003cbr\\u003eStated that Kazakhstan would not help Russia evade sanctions.: 1\\u003cbr\\u003eRefused to recognize the independence of Russian-occupied Donetsk and Luhansk oblasts.: 1\\u003cbr\\u003eVadim Bulatov had just a handful of days of training before being mobilised to the hottest area of fighting.: 1\\u003cbr\\u003eVadim Bulatov received only a few days of training before being sent to a dangerous combat zone.: 1\",\"\\u003cb\\u003eLVA\\u003c\\u002fb\\u003e\\u003cbr\\u003ePositions Count: 16\\u003cbr\\u003e\\u003cbr\\u003eTop 5 Positions:\\u003cbr\\u003eWe are blocking work for welfare and economic growth.: 2\\u003cbr\\u003eFull support for Ukraine and increased arms production in the West will end the war.: 1\\u003cbr\\u003eRussia should suffer defeat in its war against Ukraine to change its imperialist mentality.: 1\\u003cbr\\u003eWe strongly condemn the illegitimate sham 'elections' that took place on 8-10 September 2023 in the territories of Ukraine temporarily occupied by the Russian Federation.: 1\\u003cbr\\u003eSupport for Ukraine and Moldova's approach to NATO and EU is necessary.: 1\",\"\\u003cb\\u003eAUT\\u003c\\u002fb\\u003e\\u003cbr\\u003ePositions Count: 37\\u003cbr\\u003e\\u003cbr\\u003eTop 5 Positions:\\u003cbr\\u003eThe situation is tipping in favor of Russia.: 1\\u003cbr\\u003eUkraine receives too little military equipment, including to defend itself against Russian air strikes in the hinterland.: 1\\u003cbr\\u003eEurope is about to miss the moment when we no longer have it under control and the situation tips in favor of the Russians.: 1\\u003cbr\\u003eActually, four to five fully loaded freight trains with war material should roll into Ukraine every week.: 1\\u003cbr\\u003eThe partial successes of Ukraine in their counteroffensive are being overestimated.: 1\",\"\\u003cb\\u003eIND\\u003c\\u002fb\\u003e\\u003cbr\\u003ePositions Count: 184\\u003cbr\\u003e\\u003cbr\\u003eTop 5 Positions:\\u003cbr\\u003eThe revenues for the print media industry will grow by 8%-10% YoY in FY2024 supported by a pick-up in ad-spends by the Government in view of the upcoming General Elections.: 2\\u003cbr\\u003eWe fear attacks from the minority Kuki ethnic group.: 2\\u003cbr\\u003eCall for wider consultations involving experts and the general public on the three Bills that seek to overhaul India's criminal justice system.: 2\\u003cbr\\u003eDream Girl 2 has been a joyride from the beginning. The script is hilarious, and I'm elated to bring laughter and entertainment in the lives of our fans once again.: 2\\u003cbr\\u003eRation card holders must complete KYC by 30th September to continue receiving benefits.: 1\",\"\\u003cb\\u003eCZE\\u003c\\u002fb\\u003e\\u003cbr\\u003ePositions Count: 45\\u003cbr\\u003e\\u003cbr\\u003eTop 5 Positions:\\u003cbr\\u003eWe strongly condemn the illegitimate elections organized by Russia in the illegally occupied areas of Ukraine. Russia is once again violating the principles of international law. Czechia will never recognize the results.: 2\\u003cbr\\u003eI received an eight-month suspended sentence and a fine.: 2\\u003cbr\\u003eThe return of Fico could complicate relations with Slovakia.: 1\\u003cbr\\u003eSlovak political parties are using public sentiment towards Russia to win elections.: 1\\u003cbr\\u003eSlovakia is a fertile ground for Russian supporters of the war and we must combat disinformation.: 1\",\"\\u003cb\\u003ePAK\\u003c\\u002fb\\u003e\\u003cbr\\u003ePositions Count: 90\\u003cbr\\u003e\\u003cbr\\u003eTop 5 Positions:\\u003cbr\\u003e90% of beggars held abroad are from Pakistan.: 1\\u003cbr\\u003eThe military orchestrated a vote of no confidence in Prime Minister Imran Khan.: 1\\u003cbr\\u003ePakistan's ambassador discussed arms sales to improve financial standing with the IMF.: 1\\u003cbr\\u003eThe Pakistani government has become a useful ally for the U.S. in the Ukraine conflict, using IMF funds to suppress dissent.: 1\\u003cbr\\u003eImran Khan was ousted from power due to U.S. influence and has been imprisoned as a result of the political crisis.: 1\",\"\\u003cb\\u003eBLR\\u003c\\u002fb\\u003e\\u003cbr\\u003ePositions Count: 100\\u003cbr\\u003e\\u003cbr\\u003eTop 5 Positions:\\u003cbr\\u003eThe demands for the departure of Wagner fighters from Belarus are stupid.: 2\\u003cbr\\u003eBelarus is protecting Russia from a possible NATO attack.: 2\\u003cbr\\u003ePoland's helicopter violated Belarusian airspace multiple times.: 1\\u003cbr\\u003eWe are convinced that the equipment will last a long time, it is made with soul and love.: 1\\u003cbr\\u003eThey are high quality computers. And this is one of the examples of import substitution and joint progress in the most technological areas.: 1\",\"\\u003cb\\u003eEST\\u003c\\u002fb\\u003e\\u003cbr\\u003ePositions Count: 25\\u003cbr\\u003e\\u003cbr\\u003eTop 5 Positions:\\u003cbr\\u003eI do not want to resign despite the budget issues and public dissatisfaction.: 1\\u003cbr\\u003eWe demand extraordinary elections due to the current government's failure.: 1\\u003cbr\\u003eThe Center Party aims to follow Edgar Savisaar's legacy with an eastern orientation.: 1\\u003cbr\\u003eWe are ready to step in to fill the social development gap left by the Center Party's shift.: 1\\u003cbr\\u003eCitizens should take more responsibility and growth should come through smart technology.: 1\",\"\\u003cb\\u003ePRK\\u003c\\u002fb\\u003e\\u003cbr\\u003ePositions Count: 65\\u003cbr\\u003e\\u003cbr\\u003eTop 5 Positions:\\u003cbr\\u003eThe nuclear force building policy of the DPRK has become permanent as the fundamental law of the state.: 1\\u003cbr\\u003eSupport Russia's ongoing struggle and wish for new victory of great Russia.: 1\\u003cbr\\u003eExpressed support for Moscow's actions in Ukraine, referring to it as a 'sacred' invasion.: 1\\u003cbr\\u003eRelations with Russia are the main priority for the DPRK.: 1\\u003cbr\\u003eNorth Korea seeks military cooperation and support from Russia for its missile program.: 1\",\"\\u003cb\\u003eSVN\\u003c\\u002fb\\u003e\\u003cbr\\u003ePositions Count: 5\\u003cbr\\u003e\\u003cbr\\u003eTop 5 Positions:\\u003cbr\\u003eSlovenia continues to support Ukraine with humanitarian, material and military assistance; the goal remains the restoration of the country's territorial integrity.: 1\\u003cbr\\u003eThe skepticism of the Western Balkan states towards European politics is understandable due to years of delays in the EU enlargement process.: 1\\u003cbr\\u003eIt is time for Austria to fully comply with Article 7 of the State Treaty regarding the rights of the Slovenian ethnic group in Austria.: 1\\u003cbr\\u003eIf there is a sharp action against the members of the Slovenian ethnic group, we will certainly react accordingly.: 1\\u003cbr\\u003eMilan Skriniar is looking forward to a potential reunion with Inter Milan in the Champions League.: 1\",\"\\u003cb\\u003eZAF\\u003c\\u002fb\\u003e\\u003cbr\\u003ePositions Count: 54\\u003cbr\\u003e\\u003cbr\\u003eTop 5 Positions:\\u003cbr\\u003eSuggests that reducing French influence may not lead to political stability.: 2\\u003cbr\\u003eWe Africans no longer just look on helplessly, we get involved.: 2\\u003cbr\\u003eSouth Africa advocates for dialogue, negotiation, and diplomacy to prevent and end conflict and achieve lasting peace.: 1\\u003cbr\\u003eTwo-thirds of Africans support democracy and reject authoritarian alternatives.: 1\\u003cbr\\u003eAfrobarometer data indicates that citizens' perceptions of democracy often mirror expert ratings.: 1\",\"\\u003cb\\u003eKEN\\u003c\\u002fb\\u003e\\u003cbr\\u003ePositions Count: 25\\u003cbr\\u003e\\u003cbr\\u003eTop 5 Positions:\\u003cbr\\u003eKenya supports proactive commitment to peace and has participated in peace initiatives.: 1\\u003cbr\\u003eWe aim to net at least $10 billion in Foreign Direct Investments (FDIs) this year.: 1\\u003cbr\\u003eThe government is committed to fostering a stable political environment to boost private sector growth and attract foreign investment.: 1\\u003cbr\\u003eWe demand that the government address inflation and the rising cost of living for ordinary Kenyans.: 1\\u003cbr\\u003eWe support government initiatives to stabilize the economy but urge for measures to control inflation and support local industries.: 1\",\"\\u003cb\\u003eVEN\\u003c\\u002fb\\u003e\\u003cbr\\u003ePositions Count: 11\\u003cbr\\u003e\\u003cbr\\u003eTop 5 Positions:\\u003cbr\\u003eWe warn of systematic repression and human rights violations in Venezuela.: 1\\u003cbr\\u003eVenezuela congratulates the people and the Government of Russia for the successful electoral days held between September 8 and 10, 2023.: 1\\u003cbr\\u003eCongratulates the People and the Government of the Russian Federation for the successful electoral days held between September 8 and 10, 2023.: 1\\u003cbr\\u003eThe resounding victory obtained by the ruling United Russia party ratifies the indisputable leadership of its political force.: 1\\u003cbr\\u003eSent a greeting to the elected authorities who will assume with commitment and wisdom the mandate granted by their people.: 1\",\"\\u003cb\\u003eAFG\\u003c\\u002fb\\u003e\\u003cbr\\u003ePositions Count: 10\\u003cbr\\u003e\\u003cbr\\u003eTop 5 Positions:\\u003cbr\\u003eI am living in luxury and have befriended my captors.: 1\\u003cbr\\u003eMiles Routledge is suspected of being a spy and is being held for questioning.: 1\\u003cbr\\u003eI am living in luxury and planning to open a gold mine after befriending my captors.: 1\\u003cbr\\u003eWe are holding Miles Routledge on suspicion of espionage.: 1\\u003cbr\\u003eI sought to portray the human face of this despair by showing how people are trying to resist as the economy collapses around them.: 1\",\"\\u003cb\\u003eISR\\u003c\\u002fb\\u003e\\u003cbr\\u003ePositions Count: 68\\u003cbr\\u003e\\u003cbr\\u003eTop 5 Positions:\\u003cbr\\u003eI condemn the actions of the Russian government regarding the invasion of Ukraine.: 2\\u003cbr\\u003eWe will approve all the AI-generated texts spoken on air by our digital clones in advance of broadcasts, ensuring accuracy and credibility.: 2\\u003cbr\\u003eIsrael is committed to preventing nuclear accidents by supplying equipment to Ukraine.: 1\\u003cbr\\u003eAnnounced progress in Israel's efforts to establish diplomatic ties with Saudi Arabia.: 1\\u003cbr\\u003eI will use the Biden meeting to show that the U.S. has no real problem with my direction for the country.: 1\",\"\\u003cb\\u003eNCL\\u003c\\u002fb\\u003e\\u003cbr\\u003ePositions Count: 1\\u003cbr\\u003e\\u003cbr\\u003eTop 5 Positions:\\u003cbr\\u003eWe want independence from France and see Australia, New Zealand, and the US as our friends.: 1\",\"\\u003cb\\u003eFJI\\u003c\\u002fb\\u003e\\u003cbr\\u003ePositions Count: 2\\u003cbr\\u003e\\u003cbr\\u003eTop 5 Positions:\\u003cbr\\u003eAustralia needs to do more regarding climate justice.: 1\\u003cbr\\u003eThe Pacific should be a zone of peace.: 1\",\"\\u003cb\\u003eAUS\\u003c\\u002fb\\u003e\\u003cbr\\u003ePositions Count: 41\\u003cbr\\u003e\\u003cbr\\u003eTop 5 Positions:\\u003cbr\\u003eWe want to keep our identity and land protected.: 1\\u003cbr\\u003eWe are facing a tremendous decision regarding the voice referendum.: 1\\u003cbr\\u003eRussia's actions in Ukraine mock the United Nations.: 1\\u003cbr\\u003eAustralia calls for changes to the U.N. Security Council to make it more representative.: 1\\u003cbr\\u003eWe call for reforms in the UN Security Council to address the ongoing conflict and ensure representation.: 1\",\"\\u003cb\\u003ePNG\\u003c\\u002fb\\u003e\\u003cbr\\u003ePositions Count: 1\\u003cbr\\u003e\\u003cbr\\u003eTop 5 Positions:\\u003cbr\\u003eWe are concerned about the implications of Australia's decisions on our independence and treatment of First Nations people.: 1\",\"\\u003cb\\u003eCOL\\u003c\\u002fb\\u003e\\u003cbr\\u003ePositions Count: 5\\u003cbr\\u003e\\u003cbr\\u003eTop 5 Positions:\\u003cbr\\u003eThe Global South is being called to war while facing overwhelming challenges like climate change, and they want to end all wars to achieve Sustainable Development Goals.: 1\\u003cbr\\u003eMigration needs to be separately allowed and regulated.: 1\\u003cbr\\u003eThe clashes between the ELN and EMC guerrilla groups threaten the government's peace efforts.: 1\\u003cbr\\u003eRamaswamy's ideas are na\\u00efve and based on a misreading of history.: 1\\u003cbr\\u003eWe should press for urgent resumption of negotiations and support electoral reforms.: 1\",\"\\u003cb\\u003eMYS\\u003c\\u002fb\\u003e\\u003cbr\\u003ePositions Count: 5\\u003cbr\\u003e\\u003cbr\\u003eTop 5 Positions:\\u003cbr\\u003eFailed to respond to questions on whether anything was being done to crack down on the practice.: 1\\u003cbr\\u003eYou don't need to be Irish to vote in Ireland. Anyone can literally travel there, and claim to be an asylum seeker, to cast a vote.: 1\\u003cbr\\u003eWe are concerned about the environmental risks posed by ghost ships.: 1\\u003cbr\\u003eI face a daunting task in uniting an increasingly polarized nation and strengthening my nascent unity government.: 1\\u003cbr\\u003eWe have made major inroads and retained control of three states, showing strong support from the ethnic Malay majority.: 1\",\"\\u003cb\\u003eIRN\\u003c\\u002fb\\u003e\\u003cbr\\u003ePositions Count: 35\\u003cbr\\u003e\\u003cbr\\u003eTop 5 Positions:\\u003cbr\\u003eIran is trying to disassociate itself from providing Russia with weapons and cannot cope with Russian demand.: 1\\u003cbr\\u003eThe Iran Experts Initiative (IEI) was a successful project to promote the merits of a nuclear deal between Tehran and Washington.: 1\\u003cbr\\u003ePromised revenge on those who ordered the killing of Iran's top general.: 1\\u003cbr\\u003eThe revival of the 2015 nuclear deal will be within reach if the US stops its contradictory behaviors.: 1\\u003cbr\\u003eIran supports Russia militarily and has unveiled a long-range drone.: 1\",\"\\u003cb\\u003eUGA\\u003c\\u002fb\\u003e\\u003cbr\\u003ePositions Count: 46\\u003cbr\\u003e\\u003cbr\\u003eTop 5 Positions:\\u003cbr\\u003eI will not be changing my views 'anytime soon' when it comes to welcoming Russia back into the fold.: 2\\u003cbr\\u003eThe video showing Sokolov is not clear and lacks definitive proof of his presence.: 1\\u003cbr\\u003ePoland, rightly, says it's a step too far.: 1\\u003cbr\\u003eThe Bakhmut strategy is crucial for Ukraine to demonstrate its capability to retake strategic objectives.: 1\\u003cbr\\u003eThe Bakhmut strategy complicates Russian operations and ties down their elite forces.: 1\",\"\\u003cb\\u003eMLT\\u003c\\u002fb\\u003e\\u003cbr\\u003ePositions Count: 1\\u003cbr\\u003e\\u003cbr\\u003eTop 5 Positions:\\u003cbr\\u003eHopes to see the EU open accession negotiations with Ukraine and Moldova by the end of the year.: 1\",\"\\u003cb\\u003eDNK\\u003c\\u002fb\\u003e\\u003cbr\\u003ePositions Count: 36\\u003cbr\\u003e\\u003cbr\\u003eTop 5 Positions:\\u003cbr\\u003eDenmark will release an additional 777 million euros to help Ukraine, mainly for air defense equipment, ammunition, and tanks.: 2\\u003cbr\\u003eThe goal is to work all the way south and end at the Sea of Azov, thereby cutting off the Russian supply lines to the annexed Crimean Peninsula.: 1\\u003cbr\\u003eDenmark, together with other countries, has announced that it will send another 45 tanks to Ukraine.: 1\\u003cbr\\u003eThe film is an example of a project funded by both the Ministry of Defense and the Ministry of Culture, aimed at portraying Ukraine as evil and Russia as good.: 1\\u003cbr\\u003eFor Ukraine to be able to continue defending itself against Russia's illegal invasion, it is essential that countries like Denmark maintain their military and economic support.: 1\",\"\\u003cb\\u003eEGY\\u003c\\u002fb\\u003e\\u003cbr\\u003ePositions Count: 22\\u003cbr\\u003e\\u003cbr\\u003eTop 5 Positions:\\u003cbr\\u003eThe NEA assures Egyptians that it will remain neutral towards all candidates and will take all necessary legal measures to ensure free and fair elections.: 1\\u003cbr\\u003ePresident Al-Sisi is expected to officially announce his decision to run for a third term.: 1\\u003cbr\\u003eEgyptians have to shed any apathy and actively take part in the upcoming presidential elections.: 1\\u003cbr\\u003eWe will announce the roadmap for the presidential election today.: 1\\u003cbr\\u003eWe have not agreed with the IMF to roll our first and second reviews into one.: 1\",\"\\u003cb\\u003eNGA\\u003c\\u002fb\\u003e\\u003cbr\\u003ePositions Count: 234\\u003cbr\\u003e\\u003cbr\\u003eTop 5 Positions:\\u003cbr\\u003eMacron's comments constitute further blatant interference in Niger's domestic affairs.: 2\\u003cbr\\u003eWe will prosecute President Bazoum for high treason and undermining the security of the country.: 2\\u003cbr\\u003eWe will deploy a standby force to restore constitutional order in Niger.: 2\\u003cbr\\u003eChallenging the emergence of Tinubu in the February 25, 2023 presidential election.: 2\\u003cbr\\u003eWe call for the military defense of Niger and for the defeat of the pro-imperialist invaders.: 2\",\"\\u003cb\\u003eNLD\\u003c\\u002fb\\u003e\\u003cbr\\u003ePositions Count: 49\\u003cbr\\u003e\\u003cbr\\u003eTop 5 Positions:\\u003cbr\\u003eI am crucial to Barcelona's midfield and my absence will significantly affect the team's performance.: 1\\u003cbr\\u003eSupport for holding presidential elections in Ukraine in 2024.: 1\\u003cbr\\u003eKyiv should hold elections that are as free and fair as possible.: 1\\u003cbr\\u003ePoland will continue to support Ukraine against the common enemy Russia.: 1\\u003cbr\\u003eWe have been searching for this for quite some time, to have a sound that is heavy, but still has this melancholy and beautiful storytelling lines.: 1\",\"\\u003cb\\u003eJPN\\u003c\\u002fb\\u003e\\u003cbr\\u003ePositions Count: 51\\u003cbr\\u003e\\u003cbr\\u003eTop 5 Positions:\\u003cbr\\u003eIt is totally unacceptable for Russia to conduct such 'elections' in these regions.: 2\\u003cbr\\u003eJapan supports Ukraine and condemns Russian aggression.: 2\\u003cbr\\u003eJapan supports Ukraine and aims to end Russia's invasion as soon as possible.: 2\\u003cbr\\u003eThe new system is designed to help enable the approval of residence for individuals from conflict zones whose circumstances do not conform to the requirements for refugee approval.: 1\\u003cbr\\u003eAs the host of the G7 Foreign Ministers' Meeting, I support the G7's commitment to Ukraine and condemn Russia's actions.: 1\",\"\\u003cb\\u003eMLI\\u003c\\u002fb\\u003e\\u003cbr\\u003ePositions Count: 15\\u003cbr\\u003e\\u003cbr\\u003eTop 5 Positions:\\u003cbr\\u003eThe government demands the withdrawal of UN peacekeepers from Malian territory.: 1\\u003cbr\\u003eWe will respond to insurgent attacks and protect our civilians.: 1\\u003cbr\\u003eWe claim responsibility for the attacks against the Malian government.: 1\\u003cbr\\u003eWe killed about 50 assailants while responding to the attacks.: 1\\u003cbr\\u003eWe claim responsibility for the attacks.: 1\",\"\\u003cb\\u003eSRB\\u003c\\u002fb\\u003e\\u003cbr\\u003ePositions Count: 31\\u003cbr\\u003e\\u003cbr\\u003eTop 5 Positions:\\u003cbr\\u003eThe EU and the Western Balkans should be ready for enlargement as soon as possible, but not later than 2030.: 2\\u003cbr\\u003eThe armed individuals who attacked Kosovo police were not from Serbia and are local Kosovo Serbs.: 1\\u003cbr\\u003eOrganized criminal groups with political, financial and logistical support from Belgrade were behind Sunday's attack.: 1\\u003cbr\\u003eDeclared Monday a national day of mourning for the slain officer and the one who was wounded.: 1\\u003cbr\\u003eKurti is provoking the escalation and Serbia is not responsible for the violence.: 1\",\"\\u003cb\\u003eSDN\\u003c\\u002fb\\u003e\\u003cbr\\u003ePositions Count: 8\\u003cbr\\u003e\\u003cbr\\u003eTop 5 Positions:\\u003cbr\\u003eSudan\\u2019s army is ready to begin peace talks with the rival Rapid Support Forces.: 1\\u003cbr\\u003eWe condemn the drone attack that killed 23 people.: 1\\u003cbr\\u003eThe international community must provide food assistance for malnourished children.: 1\\u003cbr\\u003eWe will maintain control and ensure stability in Sudan.: 1\\u003cbr\\u003eCall on the nuclear States to implement the agreed goals and fully eliminate their nuclear arsenals.: 1\",\"\\u003cb\\u003eCYP\\u003c\\u002fb\\u003e\\u003cbr\\u003ePositions Count: 10\\u003cbr\\u003e\\u003cbr\\u003eTop 5 Positions:\\u003cbr\\u003eI reject the proposals for a two-state solution and support a bi-communal, bi-zonal solution.: 1\\u003cbr\\u003eI intend to run as an independent candidate for the presidency, potentially splitting support for my party.: 1\\u003cbr\\u003eI am interested in running for the upcoming presidential elections as a candidate endorsed by AKEL.: 1\\u003cbr\\u003eWe demand the full reinstatement of the cost-of-living allowance for all eligible employees.: 1\\u003cbr\\u003eParimatch is committed to providing excellent customer support to its customers.: 1\",\"\\u003cb\\u003eVAT\\u003c\\u002fb\\u003e\\u003cbr\\u003ePositions Count: 29\\u003cbr\\u003e\\u003cbr\\u003eTop 5 Positions:\\u003cbr\\u003eThe weapons industry is a key driver of the suffering in Ukraine and must be addressed.: 1\\u003cbr\\u003eCountries should not withhold weapons from Ukraine as it prolongs their suffering.: 1\\u003cbr\\u003eCountries are pulling back from giving weapons to Ukraine, which will lead to the martyrdom of the Ukrainian people.: 1\\u003cbr\\u003eCriticized the weapons industry as a key driver of the suffering of the Ukrainian people and expressed concern over the withdrawal of military support.: 1\\u003cbr\\u003eThe Pope denounces the treatment of migrants and calls for justice for them.: 1\",\"\\u003cb\\u003eARE\\u003c\\u002fb\\u003e\\u003cbr\\u003ePositions Count: 7\\u003cbr\\u003e\\u003cbr\\u003eTop 5 Positions:\\u003cbr\\u003eWe hope to sign final contracts for the sale of shares in several Egyptian companies by the end of this week.: 1\\u003cbr\\u003ePublic-private partnerships that were once useful additions are now crucial to humanitarian work.: 1\\u003cbr\\u003eAbu Dhabi Classics is growing and has much potential as a cultural destination.: 1\\u003cbr\\u003eEmirati artists should have opportunities to collaborate with international artists.: 1\\u003cbr\\u003eWe benefit from the sanctions by facilitating the sale of Russian oil.: 1\",\"\\u003cb\\u003eGHA\\u003c\\u002fb\\u003e\\u003cbr\\u003ePositions Count: 22\\u003cbr\\u003e\\u003cbr\\u003eTop 5 Positions:\\u003cbr\\u003eNPP super delegates elections worse than Russia-Ukraine war.: 2\\u003cbr\\u003eWe maintain a positive attitude to our bilateral relations and prospects for development in the field of trade and energy, as well as scientific and educational spheres.: 1\\u003cbr\\u003eThe economy of Ghana suffers not from the conflict in Ukraine, but from the consequences of the US and EU sanctions imposed on Russia.: 1\\u003cbr\\u003eThe Electoral Commission must be held accountable for its poor planning and insufficient budget proposal for the Limited Voters Registration Exercise.: 1\\u003cbr\\u003eParliament must ensure proper scrutiny of the Electoral Commission's plans and budget to protect the interests of the citizens.: 1\",\"\\u003cb\\u003eKOR\\u003c\\u002fb\\u003e\\u003cbr\\u003ePositions Count: 23\\u003cbr\\u003e\\u003cbr\\u003eTop 5 Positions:\\u003cbr\\u003eSouth Korea will provide an additional $2 billion in aid to Ukraine starting in 2025.: 2\\u003cbr\\u003eSouth Korea unveils financial aid of 520 billion won for Ukraine next year.: 2\\u003cbr\\u003eIf Russia helps North Korea enhance its weapons programs, it would be a direct provocation.: 1\\u003cbr\\u003eIt is paradoxical that a permanent member of the U.N. Security Council would wage war.: 1\\u003cbr\\u003eSouth Korea will deliver K600 Rhino demining vehicles to Ukraine as soon as possible.: 1\",\"\\u003cb\\u003eMWI\\u003c\\u002fb\\u003e\\u003cbr\\u003ePositions Count: 5\\u003cbr\\u003e\\u003cbr\\u003eTop 5 Positions:\\u003cbr\\u003eThe quality of presidential candidates presented by the Malawi Electoral Commission is questionable.: 1\\u003cbr\\u003eMalawians vote without scrutinizing the integrity of their presidential candidates.: 1\\u003cbr\\u003eDr. Lazarus Chakwera has shown weak leadership and lacks servant leadership qualities.: 1\\u003cbr\\u003eSeeking donations to feed more than 50,000 refugees facing shortages at the country's only refugee camp.: 1\\u003cbr\\u003eMalawi is seeking donations to feed over 50,000 refugees facing shortages.: 1\",\"\\u003cb\\u003eCMR\\u003c\\u002fb\\u003e\\u003cbr\\u003ePositions Count: 6\\u003cbr\\u003e\\u003cbr\\u003eTop 5 Positions:\\u003cbr\\u003eEnsure accountability for atrocity crimes in Anglophone regions.: 1\\u003cbr\\u003eWe intend to open the floodgate of Lagdo dam due to heavy rainfall, and we urge Nigeria's NEMA to take necessary proactive steps to mitigate damage.: 1\\u003cbr\\u003eNiger is being used as a patsy to wage a proxy war between world powers.: 1\\u003cbr\\u003eCameroon and aid groups are distributing food to 30,000 people.: 1\\u003cbr\\u003eAid groups and the government of Cameroon say they distributed rice, millet and beans to at least 30,000 people this week.: 1\",\"\\u003cb\\u003eHRV\\u003c\\u002fb\\u003e\\u003cbr\\u003ePositions Count: 5\\u003cbr\\u003e\\u003cbr\\u003eTop 5 Positions:\\u003cbr\\u003eCroatia would like to be a transit country - and not a country flooded by cheap cereals.: 1\\u003cbr\\u003eWe strongly condemn the illegitimate sham 'elections' that took place on 8-10 September 2023 in the territories of Ukraine temporarily occupied by the Russian Federation.: 1\\u003cbr\\u003eIt will be a challenge to successfully rescue Dickey.: 1\\u003cbr\\u003eThe meeting between Zelensky and Patriarch Bartholomew announces the rule of the Antichrist.: 1\\u003cbr\\u003eI want to continue my career at Tottenham and contribute significantly to the team's success.: 1\",\"\\u003cb\\u003ePRT\\u003c\\u002fb\\u003e\\u003cbr\\u003ePositions Count: 33\\u003cbr\\u003e\\u003cbr\\u003eTop 5 Positions:\\u003cbr\\u003eThe U.N. needs to make changes to address contemporary challenges.: 1\\u003cbr\\u003eRussia's February 2022 invasion of Ukraine violated the U.N. Charter.: 1\\u003cbr\\u003eSupport Ukraine with military aid to counter Russian aggression.: 1\\u003cbr\\u003eWe aim to secure third place in the group to enter the Europa League knockout stages.: 1\\u003cbr\\u003eIt is urgent to respect the UN Charter to ensure peace in the world.: 1\",\"\\u003cb\\u003eIDN\\u003c\\u002fb\\u003e\\u003cbr\\u003ePositions Count: 33\\u003cbr\\u003e\\u003cbr\\u003eTop 5 Positions:\\u003cbr\\u003eInstructed Bulog to conduct cheap market operations to provide rice at lower prices to the people.: 1\\u003cbr\\u003eOptimistic about securing 1.2 million tons of rice reserves by the end of 2023 through imports and local production.: 1\\u003cbr\\u003ePredicted increases in rice prices until early 2024 but noted that government programs would soften the rate of increase.: 1\\u003cbr\\u003eReported economic losses for farmers and emphasized the need for better exchange rates to ensure profitability.: 1\\u003cbr\\u003eI was invited by the Civic Chamber of The Russian Federation to observe the election situation, not as an international observer.: 1\",\"\\u003cb\\u003eFIN\\u003c\\u002fb\\u003e\\u003cbr\\u003ePositions Count: 9\\u003cbr\\u003e\\u003cbr\\u003eTop 5 Positions:\\u003cbr\\u003ePoland's internal politics affects the matter regarding arms aid.: 1\\u003cbr\\u003ePoland is playing a dangerous game for Ukraine by ending arms aid.: 1\\u003cbr\\u003eThe decision of the Central Election Commission of the Russian Federation to hold local elections in illegally annexed Ukrainian territories is a blatant violation of international law.: 1\\u003cbr\\u003eRecommended citizens not to visit Finland by cars with Russian numbers.: 1\\u003cbr\\u003eUkrainians have not yet made a breakthrough on the Surovikin Line.: 1\",\"\\u003cb\\u003eSAU\\u003c\\u002fb\\u003e\\u003cbr\\u003ePositions Count: 27\\u003cbr\\u003e\\u003cbr\\u003eTop 5 Positions:\\u003cbr\\u003eDefended OPEC+ cuts to oil market supply, stating that international energy markets need light-handed regulation to limit volatility.: 1\\u003cbr\\u003eTo list ruins of the ancient West Bank city of Jericho as a World Heritage Site in Palestine.: 1\\u003cbr\\u003eIndians constitute seven percent of Saudi Arabia's population and they have been contributing majorly in his country's progress.: 1\\u003cbr\\u003eSaudi Arabia will extend the required support to Pakistan and cultivate relations with India.: 1\\u003cbr\\u003eSaudi Arabia has decided to cut another 10 million barrels per day of oil production.: 1\",\"\\u003cb\\u003eNPL\\u003c\\u002fb\\u003e\\u003cbr\\u003ePositions Count: 1\\u003cbr\\u003e\\u003cbr\\u003eTop 5 Positions:\\u003cbr\\u003eWe need massive scaling up of affordable finance including through the SDG stimulus.: 1\",\"\\u003cb\\u003eTUR\\u003c\\u002fb\\u003e\\u003cbr\\u003ePositions Count: 2\\u003cbr\\u003e\\u003cbr\\u003eTop 5 Positions:\\u003cbr\\u003eWe will continue our counter-terrorism operations to avoid more attacks.: 1\\u003cbr\\u003eThe polls have also been condemned by T\\u00fcrkiye.: 1\",\"\\u003cb\\u003eMDG\\u003c\\u002fb\\u003e\\u003cbr\\u003ePositions Count: 2\\u003cbr\\u003e\\u003cbr\\u003eTop 5 Positions:\\u003cbr\\u003eThe ruling party's actions are perceived as an \\u2018institutional coup'.: 1\\u003cbr\\u003eMadagascar aims to strengthen cooperation with Japan in the Ambatovy nickel project to ensure sustainable extraction.: 1\",\"\\u003cb\\u003eSYR\\u003c\\u002fb\\u003e\\u003cbr\\u003ePositions Count: 7\\u003cbr\\u003e\\u003cbr\\u003eTop 5 Positions:\\u003cbr\\u003eThe use of lethal force against protesters is necessary to maintain order.: 1\\u003cbr\\u003eSyria is encouraged to engage with the IAEA to resolve outstanding issues related to its nuclear activities.: 1\\u003cbr\\u003eThe situation inside of Syria has become even worse than it was economically during the height of the conflict.: 1\\u003cbr\\u003eThe fighting ended with our recapture of areas in Deir el-Zour province that we had lost during the battles.: 1\\u003cbr\\u003eThe destruction of neighborhoods is justified as part of a war on terror.: 1\",\"\\u003cb\\u003eLBY\\u003c\\u002fb\\u003e\\u003cbr\\u003ePositions Count: 10\\u003cbr\\u003e\\u003cbr\\u003eTop 5 Positions:\\u003cbr\\u003eI need to do something after the death of my relatives in the floods.: 1\\u003cbr\\u003eWe are being pressured due to the tragedy caused by the floods.: 1\\u003cbr\\u003eThe situation in Derna is catastrophic, with bodies everywhere and entire families lost.: 1\\u003cbr\\u003eThe flooding has caused catastrophic damage, with over 2,000 confirmed dead and thousands missing.: 1\\u003cbr\\u003eThere was no warning for the people about the impending flood, leading to a lack of preparedness.: 1\",\"\\u003cb\\u003eHKG\\u003c\\u002fb\\u003e\\u003cbr\\u003ePositions Count: 2\\u003cbr\\u003e\\u003cbr\\u003eTop 5 Positions:\\u003cbr\\u003eOKX is one of the most reputable and feature-rich centralized exchanges on the market.: 1\\u003cbr\\u003eWe are committed to building a decentralized ecosystem.: 1\",\"\\u003cb\\u003eSLE\\u003c\\u002fb\\u003e\\u003cbr\\u003ePositions Count: 8\\u003cbr\\u003e\\u003cbr\\u003eTop 5 Positions:\\u003cbr\\u003eI was requested to stop them from calling the result by the United States.: 1\\u003cbr\\u003eTo bring the government's attention to the issue of hardship.: 1\\u003cbr\\u003eThe survey doesn't reflect reality, and most issues are a result of global happenings.: 1\\u003cbr\\u003eThey'd rather stay in the audience than participate in the government show until their demands are met.: 1\\u003cbr\\u003eWe reject the idea that a group of people can beat up those suspected of being on KUSH.: 1\",\"\\u003cb\\u003eNIC\\u003c\\u002fb\\u003e\\u003cbr\\u003ePositions Count: 1\\u003cbr\\u003e\\u003cbr\\u003eTop 5 Positions:\\u003cbr\\u003eThis is no longer a war between Russia and Ukraine, it is a war of the NATO-led, US-led imperialists who are trying to destroy Russia.: 1\",\"\\u003cb\\u003eCUB\\u003c\\u002fb\\u003e\\u003cbr\\u003ePositions Count: 27\\u003cbr\\u003e\\u003cbr\\u003eTop 5 Positions:\\u003cbr\\u003eWe are working to neutralize and dismantle a human trafficking network that operates from Russia to recruit Cuban citizens for military operations in Ukraine.: 3\\u003cbr\\u003eCuba is not part of the war in Ukraine and will act against human trafficking for mercenarism.: 2\\u003cbr\\u003eCuba opposes the participation of its citizens in any conflict.: 1\\u003cbr\\u003eWe are arresting individuals involved in trafficking young men to fight for Russia.: 1\\u003cbr\\u003eAnnounced the dismantling of a recruitment network linked to Russia.: 1\",\"\\u003cb\\u003eIRL\\u003c\\u002fb\\u003e\\u003cbr\\u003ePositions Count: 9\\u003cbr\\u003e\\u003cbr\\u003eTop 5 Positions:\\u003cbr\\u003eThe summit should focus on ensuring effective support for Ukraine and its people.: 1\\u003cbr\\u003eHalf a million people have died in Ukraine in one year.: 1\\u003cbr\\u003eElections should be held soon in the Palestinian territories.: 1\\u003cbr\\u003eUsing the term \\u2018apartheid' to describe Israel's treatment of Palestinians does not help resolve the ongoing conflict in the Middle East.: 1\\u003cbr\\u003eThe government is seriously considering taking a case to the European Court on Human Rights over the controversial Troubles Legacy Bill.: 1\",\"\\u003cb\\u003eSGP\\u003c\\u002fb\\u003e\\u003cbr\\u003ePositions Count: 14\\u003cbr\\u003e\\u003cbr\\u003eTop 5 Positions:\\u003cbr\\u003eThe idea of an independent Taiwan is difficult to accept, but I understand why many Taiwanese would not want to be part of the PRC.: 1\\u003cbr\\u003eThe status quo is unsustainable and Taiwan must negotiate earlier rather than later with mainland China.: 1\\u003cbr\\u003eA merger of equals after a lengthy transition period could be a viable solution for cross-strait relations.: 1\\u003cbr\\u003eThe focus must remain on how to mitigate the fallout rather than debate the geopolitical\\u002fsecurity aspects of the war.: 1\\u003cbr\\u003eI aim to serve as a unifying figure for all Singaporeans and uphold the integrity of our financial reserves.: 1\",\"\\u003cb\\u003ePSE\\u003c\\u002fb\\u003e\\u003cbr\\u003ePositions Count: 18\\u003cbr\\u003e\\u003cbr\\u003eTop 5 Positions:\\u003cbr\\u003eThe PA must hold national elections to regain legitimacy and public support.: 1\\u003cbr\\u003eWe need to restore order and governance in the Ein el-Hilweh refugee camp.: 1\\u003cbr\\u003eWe must defend our presence and authority in the camp against militant groups.: 1\\u003cbr\\u003eWe are fighting for our rights and representation in the camp.: 1\\u003cbr\\u003eWe need to restore order and prevent further violence in the refugee camp.: 1\",\"\\u003cb\\u003ePAN\\u003c\\u002fb\\u003e\\u003cbr\\u003ePositions Count: 5\\u003cbr\\u003e\\u003cbr\\u003eTop 5 Positions:\\u003cbr\\u003eThe Summit aims to empower attendees with strategies for wealth protection, financial stability, and methods to regain control and privacy.: 1\\u003cbr\\u003eThe event is designed to provide reliable information and credible advice to expatriates.: 1\\u003cbr\\u003eThe violence in Colon is unacceptable and needs to be addressed.: 1\\u003cbr\\u003eWe demand safety and security in our community.: 1\\u003cbr\\u003eWe will continue to fight for control over drug trafficking routes.: 1\",\"\\u003cb\\u003eUZB\\u003c\\u002fb\\u003e\\u003cbr\\u003ePositions Count: 6\\u003cbr\\u003e\\u003cbr\\u003eTop 5 Positions:\\u003cbr\\u003eOpposes forced recruitment of migrants into the Russian army.: 1\\u003cbr\\u003eIssued a fatwa forbidding participation in Russia's war against Ukraine.: 1\\u003cbr\\u003eUzbekistan maintains a strategic partnership dialogue with the United States.: 1\\u003cbr\\u003eI was tortured by three law enforcement officials while in pretrial detention.: 1\\u003cbr\\u003eThree police officers were handed prison terms over 2022 unrest.: 1\",\"\\u003cb\\u003eGTM\\u003c\\u002fb\\u003e\\u003cbr\\u003ePositions Count: 17\\u003cbr\\u003e\\u003cbr\\u003eTop 5 Positions:\\u003cbr\\u003eThere is a coup d'\\u00e9tat underway to prevent my inauguration next January.: 1\\u003cbr\\u003eBernardo Arevalo warns of an attempted coup against the seed movement.: 1\\u003cbr\\u003eI am facing challenges from corrupt elite groups to take office.: 1\\u003cbr\\u003eI promise to maintain relations with and expand economic relations with Taiwan.: 1\\u003cbr\\u003eI want to establish closer relations with China as it is essential for Guatemala\\u2019s economic growth.: 1\",\"\\u003cb\\u003eGAB\\u003c\\u002fb\\u003e\\u003cbr\\u003ePositions Count: 23\\u003cbr\\u003e\\u003cbr\\u003eTop 5 Positions:\\u003cbr\\u003eIncreasing arms deliveries and new military alliances amplify the risk of violence escalation.: 2\\u003cbr\\u003eI promise to organize free, transparent, credible and peaceful elections.: 2\\u003cbr\\u003eWe have decided to defend the peace by putting an end to the current regime.: 2\\u003cbr\\u003eIt remains to be seen whether the military junta will approve the establishment of the Chinese naval base.: 1\\u003cbr\\u003eNguema vows to hold free and credible elections and return to civilian rule.: 1\",\"\\u003cb\\u003eISL\\u003c\\u002fb\\u003e\\u003cbr\\u003ePositions Count: 2\\u003cbr\\u003e\\u003cbr\\u003eTop 5 Positions:\\u003cbr\\u003eThe elections in occupied Ukraine were supposedly free, democratic, and fair.: 1\\u003cbr\\u003eThe elections in the occupied territories are free, democratic, and fair.: 1\",\"\\u003cb\\u003eMAR\\u003c\\u002fb\\u003e\\u003cbr\\u003ePositions Count: 14\\u003cbr\\u003e\\u003cbr\\u003eTop 5 Positions:\\u003cbr\\u003eAid has been slow to reach the hardest hit areas after the earthquake, and many villagers feel abandoned.: 1\\u003cbr\\u003eWe will compensate citizens affected by the earthquake and assist in rebuilding their homes.: 1\\u003cbr\\u003eThe government has no planification; they only have words.: 1\\u003cbr\\u003eWe are organizing relief efforts and have declared three days of national mourning.: 1\\u003cbr\\u003eMorocco will observe three days of mourning for the victims of the earthquake.: 1\",\"\\u003cb\\u003eMEX\\u003c\\u002fb\\u003e\\u003cbr\\u003ePositions Count: 17\\u003cbr\\u003e\\u003cbr\\u003eTop 5 Positions:\\u003cbr\\u003eI promise to continue the course of what I call the transformation initiated by the president.: 1\\u003cbr\\u003eThe ceremony is an act of authoritarianism of the Mexican we want to lead behind.: 1\\u003cbr\\u003eThe historic Mexican Supreme Court ruling decriminalizing abortion on the federal level may hold the key to U.S. struggle.: 1\\u003cbr\\u003eWe look to the United States as a model in our struggle to chip away at abortion restrictions.: 1\\u003cbr\\u003eAbortion should be removed from the federal penal code and made accessible through federal health institutions.: 1\",\"\\u003cb\\u003eBIH\\u003c\\u002fb\\u003e\\u003cbr\\u003ePositions Count: 7\\u003cbr\\u003e\\u003cbr\\u003eTop 5 Positions:\\u003cbr\\u003eThe EU and the Western Balkans should be ready for enlargement as soon as possible, but not later than 2030.: 1\\u003cbr\\u003eThe charges against me are an attack on Serbs in Bosnia.: 1\\u003cbr\\u003eForbade entrance to the high representative Christian Shmidt and threatened arrest and deportation.: 1\\u003cbr\\u003eI support the reintroduction of criminal sanctions for defamation as a means to control media and protect the interests of Republika Srpska.: 1\\u003cbr\\u003eI acknowledge Crimea as Russian and support Russia's offensive, labeling it as 'inevitable.': 1\",\"\\u003cb\\u003eMNE\\u003c\\u002fb\\u003e\\u003cbr\\u003ePositions Count: 1\\u003cbr\\u003e\\u003cbr\\u003eTop 5 Positions:\\u003cbr\\u003eThe EU and the Western Balkans should be ready for enlargement as soon as possible, but not later than 2030.: 1\",\"\\u003cb\\u003eMKD\\u003c\\u002fb\\u003e\\u003cbr\\u003ePositions Count: 2\\u003cbr\\u003e\\u003cbr\\u003eTop 5 Positions:\\u003cbr\\u003eThe EU and the Western Balkans should be ready for enlargement as soon as possible, but not later than 2030.: 1\\u003cbr\\u003eThe number of attempted illegal crossings into the country has declined significantly.: 1\",\"\\u003cb\\u003eALB\\u003c\\u002fb\\u003e\\u003cbr\\u003ePositions Count: 2\\u003cbr\\u003e\\u003cbr\\u003eTop 5 Positions:\\u003cbr\\u003eThe EU and the Western Balkans should be ready for enlargement as soon as possible, but not later than 2030.: 1\\u003cbr\\u003eMoscow hopes the sham elections will demonstrate its control over these occupied territories, but they are nothing more than a propaganda stunt.: 1\",\"\\u003cb\\u003eSWZ\\u003c\\u002fb\\u003e\\u003cbr\\u003ePositions Count: 4\\u003cbr\\u003e\\u003cbr\\u003eTop 5 Positions:\\u003cbr\\u003eThe SADC team has decided to stick to their terms of reference and the mandate they drew from the SADC statutes.: 1\\u003cbr\\u003eThe government is pleased with developments over the period of independence.: 1\\u003cbr\\u003eThe ordinary emaSwati continue to struggle to access basic services and face unemployment.: 1\\u003cbr\\u003eThe church should take its rightful position to stand in the gap and pray for leaders.: 1\",\"\\u003cb\\u003eDZA\\u003c\\u002fb\\u003e\\u003cbr\\u003ePositions Count: 4\\u003cbr\\u003e\\u003cbr\\u003eTop 5 Positions:\\u003cbr\\u003eAlgeria has agreed to open its airspace for humanitarian flights to Morocco.: 1\\u003cbr\\u003eI propose a six-month transitional plan for Niger.: 1\\u003cbr\\u003eProposed a six-month transitional plan for Niger to restore constitutional and democratic order.: 1\\u003cbr\\u003eProposed a half-year transitional phase to restore constitutional and democratic order in Niger.: 1\",\"\\u003cb\\u003eETH\\u003c\\u002fb\\u003e\\u003cbr\\u003ePositions Count: 3\\u003cbr\\u003e\\u003cbr\\u003eTop 5 Positions:\\u003cbr\\u003eThe dam will not cut their share of Nile water.: 1\\u003cbr\\u003eEthiopia will endeavor to conclude the trilateral negotiation based on the principle of equitable and reasonable utilization while ensuring its rightful share of the Nile waters.: 1\\u003cbr\\u003eThe Ethiopian authorities have declared a state of emergency for six months in the Amhara region.: 1\",\"\\u003cb\\u003eVNM\\u003c\\u002fb\\u003e\\u003cbr\\u003ePositions Count: 1\\u003cbr\\u003e\\u003cbr\\u003eTop 5 Positions:\\u003cbr\\u003eVietnam is a friend, a reliable partner, and a responsible member of the international community.: 1\",\"\\u003cb\\u003eLBN\\u003c\\u002fb\\u003e\\u003cbr\\u003ePositions Count: 6\\u003cbr\\u003e\\u003cbr\\u003eTop 5 Positions:\\u003cbr\\u003eWe need to support the locals and provide urgent medical and emergency assistance.: 1\\u003cbr\\u003eDiscussed the volatile situation in an attempt to end the fighting.: 1\\u003cbr\\u003eEngaged in clashes with Fatah group.: 1\\u003cbr\\u003eFatah members are involved in violent clashes in Lebanon's refugee camps.: 1\\u003cbr\\u003eThis fighting must not continue because its repercussions are bad \\u2013 for the camp's residents, for the dear Palestinian people...for the south, for all of Lebanon.: 1\",\"\\u003cb\\u003eMDV\\u003c\\u002fb\\u003e\\u003cbr\\u003ePositions Count: 5\\u003cbr\\u003e\\u003cbr\\u003eTop 5 Positions:\\u003cbr\\u003eI am seen as pro-China in the presidential race.: 1\\u003cbr\\u003eI am perceived as pro-India in the presidential race.: 1\\u003cbr\\u003eI aim to lead the country towards stronger ties with China.: 1\\u003cbr\\u003eI will continue to strengthen our relationship with India.: 1\\u003cbr\\u003eShould be eligible to contest next month's presidential election despite his corruption conviction being under appeal.: 1\",\"\\u003cb\\u003eTHA\\u003c\\u002fb\\u003e\\u003cbr\\u003ePositions Count: 2\\u003cbr\\u003e\\u003cbr\\u003eTop 5 Positions:\\u003cbr\\u003eThe Russian elections are completely transparent.: 1\\u003cbr\\u003eA weakened Putin might be more compliant to Beijing's influence.: 1\",\"\\u003cb\\u003eARG\\u003c\\u002fb\\u003e\\u003cbr\\u003ePositions Count: 28\\u003cbr\\u003e\\u003cbr\\u003eTop 5 Positions:\\u003cbr\\u003eUrged the G20 to include Latin American and Caribbean States, similar to the African Union.: 1\\u003cbr\\u003eSupported the creation of a common currency among BRICS nations to reduce reliance on the US Dollar.: 1\\u003cbr\\u003eAcknowledged the negative impact of the Russia-Ukraine conflict on the global economy.: 1\\u003cbr\\u003eEmphasized the need for concrete action rather than mere speeches regarding global challenges.: 1\\u003cbr\\u003eNavigating through upcoming elections while addressing the concerns of the Argentine electorate.: 1\",\"\\u003cb\\u003eCOM\\u003c\\u002fb\\u003e\\u003cbr\\u003ePositions Count: 2\\u003cbr\\u003e\\u003cbr\\u003eTop 5 Positions:\\u003cbr\\u003eWe welcome our inclusion as a permanent member of the G20.: 1\\u003cbr\\u003eThe inclusion of the African Union in the G20 is a historic move.: 1\",\"\\u003cb\\u003eMOZ\\u003c\\u002fb\\u003e\\u003cbr\\u003ePositions Count: 1\\u003cbr\\u003e\\u003cbr\\u003eTop 5 Positions:\\u003cbr\\u003eI saw that for myself. Congratulations. This is real democracy, which is needed in the world.: 1\",\"\\u003cb\\u003eGRC\\u003c\\u002fb\\u003e\\u003cbr\\u003ePositions Count: 13\\u003cbr\\u003e\\u003cbr\\u003eTop 5 Positions:\\u003cbr\\u003eWe are evacuating villages and shoring up flood defenses to prevent further flooding in Larissa.: 1\\u003cbr\\u003eThe authorities' response to the flooding is inadequate and we demand accountability.: 1\\u003cbr\\u003eI am committed to addressing the flooding crisis and ensuring the safety of residents.: 1\\u003cbr\\u003eWe are managing the increase in migrant arrivals and addressing smuggling activities.: 1\\u003cbr\\u003eGreek authorities are secretly deporting migrants back to T\\u00fcrkiye.: 1\",\"\\u003cb\\u003ePRY\\u003c\\u002fb\\u003e\\u003cbr\\u003ePositions Count: 1\\u003cbr\\u003e\\u003cbr\\u003eTop 5 Positions:\\u003cbr\\u003eWe protest against the tolls charged by Argentina on the Paraguay-Paran\\u00e1 waterway.: 1\",\"\\u003cb\\u003eTUN\\u003c\\u002fb\\u003e\\u003cbr\\u003ePositions Count: 2\\u003cbr\\u003e\\u003cbr\\u003eTop 5 Positions:\\u003cbr\\u003eThe elections in the occupied Ukrainian territories are illegitimate and violate international law.: 1\\u003cbr\\u003eReiterate commitment to the African Nuclear-Weapon-Free Zone Treaty.: 1\",\"\\u003cb\\u003eQAT\\u003c\\u002fb\\u003e\\u003cbr\\u003ePositions Count: 3\\u003cbr\\u003e\\u003cbr\\u003eTop 5 Positions:\\u003cbr\\u003eI have been re-elected as head of the European Clubs Association.: 1\\u003cbr\\u003eIt will be exciting to play at San Siro, a stadium we have never visited.: 1\\u003cbr\\u003eThe reunion for Gianluigi Donnarumma at San Siro is normal and won't create any significant feelings.: 1\",\"\\u003cb\\u003eYEM\\u003c\\u002fb\\u003e\\u003cbr\\u003ePositions Count: 2\\u003cbr\\u003e\\u003cbr\\u003eTop 5 Positions:\\u003cbr\\u003eThere is a need for concerted regional and international efforts to progress toward lasting peace and the value of peace and stability in Yemen.: 1\\u003cbr\\u003eThe Houthis are justified in detaining UN humanitarian workers due to their non-compliance.: 1\",\"\\u003cb\\u003eCAF\\u003c\\u002fb\\u003e\\u003cbr\\u003ePositions Count: 2\\u003cbr\\u003e\\u003cbr\\u003eTop 5 Positions:\\u003cbr\\u003eWe are here to assess progress, listen to the challenges and concerns of the local population and to mobilize support for the people of Vakaga.: 1\\u003cbr\\u003eCriticized the absence of a level playing field in the constitutional referendum.: 1\",\"\\u003cb\\u003eGUY\\u003c\\u002fb\\u003e\\u003cbr\\u003ePositions Count: 5\\u003cbr\\u003e\\u003cbr\\u003eTop 5 Positions:\\u003cbr\\u003eWe are committed to developing a bio-fortified rice variety to enhance food security and nutritional value for the population.: 2\\u003cbr\\u003eWe expect better returns on investments from the bio-fortified rice variety.: 1\\u003cbr\\u003eWe set ourselves to a very rapid agenda for development that requires strong time management.: 1\\u003cbr\\u003eCompanies can invest in accommodation options or transportation services to attract much-needed workers.: 1\",\"\\u003cb\\u003eLUX\\u003c\\u002fb\\u003e\\u003cbr\\u003ePositions Count: 5\\u003cbr\\u003e\\u003cbr\\u003eTop 5 Positions:\\u003cbr\\u003eThe LSAP would gain several seats in parliament if elections were held this Sunday.: 1\\u003cbr\\u003eThe CSV would remain the most important party.: 1\\u003cbr\\u003eThe Pirates would more than double in size.: 1\\u003cbr\\u003eXavier Bettel would remain the voters' favourite prime minister.: 1\\u003cbr\\u003eOnly 8% of voters would like to see the current three-party coalition continue.: 1\",\"\\u003cb\\u003eCIV\\u003c\\u002fb\\u003e\\u003cbr\\u003ePositions Count: 3\\u003cbr\\u003e\\u003cbr\\u003eTop 5 Positions:\\u003cbr\\u003ePan-Africanism must evolve to address contemporary geopolitical challenges and promote African unity and independence.: 1\\u003cbr\\u003eWe should use force against the Nigerien junta to restore order.: 1\\u003cbr\\u003eI support the use of force against the Nigerien junta to restore order.: 1\",\"\\u003cb\\u003eBHR\\u003c\\u002fb\\u003e\\u003cbr\\u003ePositions Count: 1\\u003cbr\\u003e\\u003cbr\\u003eTop 5 Positions:\\u003cbr\\u003eA shift to persistent engagement is necessary to effectively address the challenges of cyber warfare.: 1\",\"\\u003cb\\u003eIRQ\\u003c\\u002fb\\u003e\\u003cbr\\u003ePositions Count: 4\\u003cbr\\u003e\\u003cbr\\u003eTop 5 Positions:\\u003cbr\\u003eI ordered a curfew in the city and extensive security operations in the areas affected by the riots.: 1\\u003cbr\\u003eWe demand the return of our headquarters in Kirkuk as a rightful claim.: 1\\u003cbr\\u003eWe oppose the return of the KDP headquarters and demand equal representation in governance.: 1\\u003cbr\\u003eA joint operation by Iraqi counter-terror troops and French special forces was ambushed by Islamic State militants.: 1\",\"\\u003cb\\u003eKHM\\u003c\\u002fb\\u003e\\u003cbr\\u003ePositions Count: 3\\u003cbr\\u003e\\u003cbr\\u003eTop 5 Positions:\\u003cbr\\u003eI am confident that under your guidance, Cambodia will continue to achieve remarkable progress and prosperity.: 1\\u003cbr\\u003eThe Cambodian election was a legitimate process that demonstrated the will of the people.: 1\\u003cbr\\u003eWe have successfully maintained stability and governance through our electoral process.: 1\",\"\\u003cb\\u003eKWT\\u003c\\u002fb\\u003e\\u003cbr\\u003ePositions Count: 1\\u003cbr\\u003e\\u003cbr\\u003eTop 5 Positions:\\u003cbr\\u003eInitially voted for the admission of up to 500 athletes from Russia and Belarus under a neutral flag.: 1\",\"\\u003cb\\u003eBOL\\u003c\\u002fb\\u003e\\u003cbr\\u003ePositions Count: 4\\u003cbr\\u003e\\u003cbr\\u003eTop 5 Positions:\\u003cbr\\u003eThe government is implicated in the reconfiguration of drug trafficking, which has turned Bolivia into an exporting country.: 1\\u003cbr\\u003eThere is gas in the country, (but) you have to invest (\\u2026) to consolidate those exploration reserves.: 1\\u003cbr\\u003eBolivia must first find the resources to explore hard.: 1\\u003cbr\\u003eBolivia should resist foreign intervention and maintain its sovereignty.: 1\",\"\\u003cb\\u003eGIN\\u003c\\u002fb\\u003e\\u003cbr\\u003ePositions Count: 2\\u003cbr\\u003e\\u003cbr\\u003eTop 5 Positions:\\u003cbr\\u003eWe will restore civilian rule by the end of 2024.: 1\\u003cbr\\u003eSupport for the Nigerien junta.: 1\",\"\\u003cb\\u003eKGZ\\u003c\\u002fb\\u003e\\u003cbr\\u003ePositions Count: 7\\u003cbr\\u003e\\u003cbr\\u003eTop 5 Positions:\\u003cbr\\u003eSupport for the construction of educational institutions in Kyrgyzstan that will teach in Russian.: 1\\u003cbr\\u003eExpressed wishes for the holiday and the importance of education.: 1\\u003cbr\\u003eI request that the Kremlin grant me a Russian passport and get me out of prison.: 1\\u003cbr\\u003eKyrgyzstan has canceled military exercises with the CSTO due to border issues with Tajikistan.: 1\\u003cbr\\u003eI consider myself a Russian and I will return to the conflict if released from jail.: 1\",\"\\u003cb\\u003eZWE\\u003c\\u002fb\\u003e\\u003cbr\\u003ePositions Count: 38\\u003cbr\\u003e\\u003cbr\\u003eTop 5 Positions:\\u003cbr\\u003eI have won re-election against Nelson Chamisa.: 1\\u003cbr\\u003eMy re-election was obtained peacefully, transparently and fairly in broad daylight.: 1\\u003cbr\\u003eWe will prove our win through compiled local results and mobilise support among Zimbabweans.: 1\\u003cbr\\u003eI have been declared the winner of the presidential contest.: 1\\u003cbr\\u003eThe election results should be rejected and a new election should be held.: 1\",\"\\u003cb\\u003eMNG\\u003c\\u002fb\\u003e\\u003cbr\\u003ePositions Count: 1\\u003cbr\\u003e\\u003cbr\\u003eTop 5 Positions:\\u003cbr\\u003eI hope that Francis' visit would also show Mongolians that Christianity isn't a foreign religion, but is also rooted in the country.: 1\",\"\\u003cb\\u003eSOM\\u003c\\u002fb\\u003e\\u003cbr\\u003ePositions Count: 1\\u003cbr\\u003e\\u003cbr\\u003eTop 5 Positions:\\u003cbr\\u003eSeveral decades of intermittent drought, conflict and political instability have made Somalia dangerously dependent on grain imports.: 1\",\"\\u003cb\\u003eBHS\\u003c\\u002fb\\u003e\\u003cbr\\u003ePositions Count: 1\\u003cbr\\u003e\\u003cbr\\u003eTop 5 Positions:\\u003cbr\\u003eThe situation is deeply concerning.: 1\",\"\\u003cb\\u003eKIR\\u003c\\u002fb\\u003e\\u003cbr\\u003ePositions Count: 1\\u003cbr\\u003e\\u003cbr\\u003eTop 5 Positions:\\u003cbr\\u003eCall on the nuclear-weapon States concerned to provide targeted support, radiological clean-up of the island, victim assistance and environmental remediation.: 1\",\"\\u003cb\\u003eECU\\u003c\\u002fb\\u003e\\u003cbr\\u003ePositions Count: 53\\u003cbr\\u003e\\u003cbr\\u003eTop 5 Positions:\\u003cbr\\u003eThe system implemented by the CNE for electronic voting for Ecuadorians living abroad had serious flaws.: 2\\u003cbr\\u003eThe voting system was subject to cyber attacks from various countries.: 1\\u003cbr\\u003eThe CNE's lack of action regarding the voting system is a fraud.: 1\\u003cbr\\u003eEcuador urgently needs peace, jobs and security, and a return to the policies of Correa would allow the country to get out of a wave of insecurity.: 1\\u003cbr\\u003eMy platform focuses on security for Ecuador and employment.: 1\",\"\\u003cb\\u003eVGB\\u003c\\u002fb\\u003e\\u003cbr\\u003ePositions Count: 1\\u003cbr\\u003e\\u003cbr\\u003eTop 5 Positions:\\u003cbr\\u003eThe dual class structure of our shares has the effect of concentrating voting power with certain shareholders, in particular WISeKey, which will effectively eliminate your ability to influence the outcome of important transactions, including a change of control.: 1\",\"\\u003cb\\u003eCYM\\u003c\\u002fb\\u003e\\u003cbr\\u003ePositions Count: 1\\u003cbr\\u003e\\u003cbr\\u003eTop 5 Positions:\\u003cbr\\u003eThe Company agrees to issue and sell through the Agent ordinary shares under the terms set forth in the Agreement.: 1\",\"\\u003cb\\u003eVUT\\u003c\\u002fb\\u003e\\u003cbr\\u003ePositions Count: 1\\u003cbr\\u003e\\u003cbr\\u003eTop 5 Positions:\\u003cbr\\u003eI narrowly survived a no-confidence motion after criticism for signing a security pact with Australia.: 1\",\"\\u003cb\\u003eSSD\\u003c\\u002fb\\u003e\\u003cbr\\u003ePositions Count: 1\\u003cbr\\u003e\\u003cbr\\u003eTop 5 Positions:\\u003cbr\\u003eWe promise to meet the December 2024 elections timeline despite slow progress.: 1\",\"\\u003cb\\u003eNAM\\u003c\\u002fb\\u003e\\u003cbr\\u003ePositions Count: 2\\u003cbr\\u003e\\u003cbr\\u003eTop 5 Positions:\\u003cbr\\u003eThe Army-2023 international forum was important for the relations between Moscow and Windhoek.: 1\\u003cbr\\u003eNamibia seeks to collaborate with Japan to establish a rare earth industry master plan and promote sustainable extraction practices.: 1\",\"\\u003cb\\u003ePER\\u003c\\u002fb\\u003e\\u003cbr\\u003ePositions Count: 2\\u003cbr\\u003e\\u003cbr\\u003eTop 5 Positions:\\u003cbr\\u003eI sought to nationalize Peru's copper and lithium mines to benefit the people, but faced a coup supported by the US.: 1\\u003cbr\\u003eThe nationalization of Peru's resources should be prioritized over foreign privatization.: 1\",\"\\u003cb\\u003eSLV\\u003c\\u002fb\\u003e\\u003cbr\\u003ePositions Count: 3\\u003cbr\\u003e\\u003cbr\\u003eTop 5 Positions:\\u003cbr\\u003eI am making a massive effort to save thousands of lives.: 1\\u003cbr\\u003eWe are here to show the true reality of President Bukele's efforts.: 1\\u003cbr\\u003eBukele's crackdown on gangs violates human rights and undermines democracy.: 1\",\"\\u003cb\\u003eJOR\\u003c\\u002fb\\u003e\\u003cbr\\u003ePositions Count: 2\\u003cbr\\u003e\\u003cbr\\u003eTop 5 Positions:\\u003cbr\\u003eApproved a bill to punish online speech deemed harmful to national unity.: 1\\u003cbr\\u003eAccused the government of a new crackdown on free expression.: 1\",\"\\u003cb\\u003eURY\\u003c\\u002fb\\u003e\\u003cbr\\u003ePositions Count: 1\\u003cbr\\u003e\\u003cbr\\u003eTop 5 Positions:\\u003cbr\\u003eVecino is ready to contribute to Lazio's midfield after joining as a free transfer.: 1\",\"\\u003cb\\u003eSEN\\u003c\\u002fb\\u003e\\u003cbr\\u003ePositions Count: 7\\u003cbr\\u003e\\u003cbr\\u003eTop 5 Positions:\\u003cbr\\u003eIt's one coup too many.: 2\\u003cbr\\u003eThe government is responsible for the health condition of Ousmane Sonko.: 1\\u003cbr\\u003eWe want to protect our fishing grounds from gas extraction.: 1\\u003cbr\\u003eGas is an enormous opportunity for our country.: 1\\u003cbr\\u003eWe don't want the Chinese!: 1\",\"\\u003cb\\u003eAGO\\u003c\\u002fb\\u003e\\u003cbr\\u003ePositions Count: 1\\u003cbr\\u003e\\u003cbr\\u003eTop 5 Positions:\\u003cbr\\u003eAngola aims to strengthen trade and investment cooperation with Japan to unlock new opportunities in the mining sector.: 1\",\"\\u003cb\\u003eZMB\\u003c\\u002fb\\u003e\\u003cbr\\u003ePositions Count: 1\\u003cbr\\u003e\\u003cbr\\u003eTop 5 Positions:\\u003cbr\\u003eZambia presents promising investment prospects for Japan in copper and nickel deposits, aiming for business cooperation.: 1\",\"\\u003cb\\u003eRWA\\u003c\\u002fb\\u003e\\u003cbr\\u003ePositions Count: 2\\u003cbr\\u003e\\u003cbr\\u003eTop 5 Positions:\\u003cbr\\u003eI should be released without trial due to my health condition.: 1\\u003cbr\\u003eThis is not the end of the legal process regarding Kabuga.: 1\",\"\\u003cb\\u003eNZL\\u003c\\u002fb\\u003e\\u003cbr\\u003ePositions Count: 3\\u003cbr\\u003e\\u003cbr\\u003eTop 5 Positions:\\u003cbr\\u003eWe oppose the use of these weapons.: 1\\u003cbr\\u003eWe oppose the use of cluster munitions.: 1\\u003cbr\\u003eOpposed to the use of cluster munitions by Ukraine.: 1\",\"\\u003cb\\u003eGGY\\u003c\\u002fb\\u003e\\u003cbr\\u003ePositions Count: 1\\u003cbr\\u003e\\u003cbr\\u003eTop 5 Positions:\\u003cbr\\u003eThe Company aims to generate attractive risk adjusted returns principally through income distributions.: 1\",\"\\u003cb\\u003eBDI\\u003c\\u002fb\\u003e\\u003cbr\\u003ePositions Count: 4\\u003cbr\\u003e\\u003cbr\\u003eTop 5 Positions:\\u003cbr\\u003eThe PCN is not a far-right organisation and I am not part of the so-called 'fachosphere'.: 1\\u003cbr\\u003eSupport for Luc Michel's political activities and representation of Burundi.: 1\\u003cbr\\u003eCriticism of Luc Michel and his political influence.: 1\\u003cbr\\u003eCriticized the government's contempt for human rights.: 1\",\"\\u003cb\\u003eTCD\\u003c\\u002fb\\u003e\\u003cbr\\u003ePositions Count: 1\\u003cbr\\u003e\\u003cbr\\u003eTop 5 Positions:\\u003cbr\\u003eI am mediating between the military junta and the ousted president to reach a peaceful resolution.: 1\"],\"z\":[4538,4089,786,140,2551,169,140,14,104,80,52,13,581,1080,68,20,187,79,57,11,23,16,318,45,130,62,37,55,61,42,65,3,13,27,22,16,37,184,45,90,100,25,65,5,54,25,11,10,68,1,2,41,1,5,5,35,46,1,36,22,234,49,51,15,31,8,10,29,7,22,23,5,6,5,33,33,9,27,1,2,2,7,10,2,8,1,27,9,14,18,5,6,17,23,2,14,17,7,1,2,2,4,4,3,1,6,5,2,28,2,1,13,1,2,3,2,2,5,5,3,1,4,3,1,4,2,7,38,1,1,1,1,53,1,1,1,1,2,2,3,2,1,7,1,1,2,3,1,4,1],\"zmax\":4538,\"zmin\":1,\"type\":\"choropleth\"}],                        {\"template\":{\"data\":{\"histogram2dcontour\":[{\"type\":\"histogram2dcontour\",\"colorbar\":{\"outlinewidth\":0,\"ticks\":\"\"},\"colorscale\":[[0.0,\"#0d0887\"],[0.1111111111111111,\"#46039f\"],[0.2222222222222222,\"#7201a8\"],[0.3333333333333333,\"#9c179e\"],[0.4444444444444444,\"#bd3786\"],[0.5555555555555556,\"#d8576b\"],[0.6666666666666666,\"#ed7953\"],[0.7777777777777778,\"#fb9f3a\"],[0.8888888888888888,\"#fdca26\"],[1.0,\"#f0f921\"]]}],\"choropleth\":[{\"type\":\"choropleth\",\"colorbar\":{\"outlinewidth\":0,\"ticks\":\"\"}}],\"histogram2d\":[{\"type\":\"histogram2d\",\"colorbar\":{\"outlinewidth\":0,\"ticks\":\"\"},\"colorscale\":[[0.0,\"#0d0887\"],[0.1111111111111111,\"#46039f\"],[0.2222222222222222,\"#7201a8\"],[0.3333333333333333,\"#9c179e\"],[0.4444444444444444,\"#bd3786\"],[0.5555555555555556,\"#d8576b\"],[0.6666666666666666,\"#ed7953\"],[0.7777777777777778,\"#fb9f3a\"],[0.8888888888888888,\"#fdca26\"],[1.0,\"#f0f921\"]]}],\"heatmap\":[{\"type\":\"heatmap\",\"colorbar\":{\"outlinewidth\":0,\"ticks\":\"\"},\"colorscale\":[[0.0,\"#0d0887\"],[0.1111111111111111,\"#46039f\"],[0.2222222222222222,\"#7201a8\"],[0.3333333333333333,\"#9c179e\"],[0.4444444444444444,\"#bd3786\"],[0.5555555555555556,\"#d8576b\"],[0.6666666666666666,\"#ed7953\"],[0.7777777777777778,\"#fb9f3a\"],[0.8888888888888888,\"#fdca26\"],[1.0,\"#f0f921\"]]}],\"heatmapgl\":[{\"type\":\"heatmapgl\",\"colorbar\":{\"outlinewidth\":0,\"ticks\":\"\"},\"colorscale\":[[0.0,\"#0d0887\"],[0.1111111111111111,\"#46039f\"],[0.2222222222222222,\"#7201a8\"],[0.3333333333333333,\"#9c179e\"],[0.4444444444444444,\"#bd3786\"],[0.5555555555555556,\"#d8576b\"],[0.6666666666666666,\"#ed7953\"],[0.7777777777777778,\"#fb9f3a\"],[0.8888888888888888,\"#fdca26\"],[1.0,\"#f0f921\"]]}],\"contourcarpet\":[{\"type\":\"contourcarpet\",\"colorbar\":{\"outlinewidth\":0,\"ticks\":\"\"}}],\"contour\":[{\"type\":\"contour\",\"colorbar\":{\"outlinewidth\":0,\"ticks\":\"\"},\"colorscale\":[[0.0,\"#0d0887\"],[0.1111111111111111,\"#46039f\"],[0.2222222222222222,\"#7201a8\"],[0.3333333333333333,\"#9c179e\"],[0.4444444444444444,\"#bd3786\"],[0.5555555555555556,\"#d8576b\"],[0.6666666666666666,\"#ed7953\"],[0.7777777777777778,\"#fb9f3a\"],[0.8888888888888888,\"#fdca26\"],[1.0,\"#f0f921\"]]}],\"surface\":[{\"type\":\"surface\",\"colorbar\":{\"outlinewidth\":0,\"ticks\":\"\"},\"colorscale\":[[0.0,\"#0d0887\"],[0.1111111111111111,\"#46039f\"],[0.2222222222222222,\"#7201a8\"],[0.3333333333333333,\"#9c179e\"],[0.4444444444444444,\"#bd3786\"],[0.5555555555555556,\"#d8576b\"],[0.6666666666666666,\"#ed7953\"],[0.7777777777777778,\"#fb9f3a\"],[0.8888888888888888,\"#fdca26\"],[1.0,\"#f0f921\"]]}],\"mesh3d\":[{\"type\":\"mesh3d\",\"colorbar\":{\"outlinewidth\":0,\"ticks\":\"\"}}],\"scatter\":[{\"fillpattern\":{\"fillmode\":\"overlay\",\"size\":10,\"solidity\":0.2},\"type\":\"scatter\"}],\"parcoords\":[{\"type\":\"parcoords\",\"line\":{\"colorbar\":{\"outlinewidth\":0,\"ticks\":\"\"}}}],\"scatterpolargl\":[{\"type\":\"scatterpolargl\",\"marker\":{\"colorbar\":{\"outlinewidth\":0,\"ticks\":\"\"}}}],\"bar\":[{\"error_x\":{\"color\":\"#2a3f5f\"},\"error_y\":{\"color\":\"#2a3f5f\"},\"marker\":{\"line\":{\"color\":\"#E5ECF6\",\"width\":0.5},\"pattern\":{\"fillmode\":\"overlay\",\"size\":10,\"solidity\":0.2}},\"type\":\"bar\"}],\"scattergeo\":[{\"type\":\"scattergeo\",\"marker\":{\"colorbar\":{\"outlinewidth\":0,\"ticks\":\"\"}}}],\"scatterpolar\":[{\"type\":\"scatterpolar\",\"marker\":{\"colorbar\":{\"outlinewidth\":0,\"ticks\":\"\"}}}],\"histogram\":[{\"marker\":{\"pattern\":{\"fillmode\":\"overlay\",\"size\":10,\"solidity\":0.2}},\"type\":\"histogram\"}],\"scattergl\":[{\"type\":\"scattergl\",\"marker\":{\"colorbar\":{\"outlinewidth\":0,\"ticks\":\"\"}}}],\"scatter3d\":[{\"type\":\"scatter3d\",\"line\":{\"colorbar\":{\"outlinewidth\":0,\"ticks\":\"\"}},\"marker\":{\"colorbar\":{\"outlinewidth\":0,\"ticks\":\"\"}}}],\"scattermapbox\":[{\"type\":\"scattermapbox\",\"marker\":{\"colorbar\":{\"outlinewidth\":0,\"ticks\":\"\"}}}],\"scatterternary\":[{\"type\":\"scatterternary\",\"marker\":{\"colorbar\":{\"outlinewidth\":0,\"ticks\":\"\"}}}],\"scattercarpet\":[{\"type\":\"scattercarpet\",\"marker\":{\"colorbar\":{\"outlinewidth\":0,\"ticks\":\"\"}}}],\"carpet\":[{\"aaxis\":{\"endlinecolor\":\"#2a3f5f\",\"gridcolor\":\"white\",\"linecolor\":\"white\",\"minorgridcolor\":\"white\",\"startlinecolor\":\"#2a3f5f\"},\"baxis\":{\"endlinecolor\":\"#2a3f5f\",\"gridcolor\":\"white\",\"linecolor\":\"white\",\"minorgridcolor\":\"white\",\"startlinecolor\":\"#2a3f5f\"},\"type\":\"carpet\"}],\"table\":[{\"cells\":{\"fill\":{\"color\":\"#EBF0F8\"},\"line\":{\"color\":\"white\"}},\"header\":{\"fill\":{\"color\":\"#C8D4E3\"},\"line\":{\"color\":\"white\"}},\"type\":\"table\"}],\"barpolar\":[{\"marker\":{\"line\":{\"color\":\"#E5ECF6\",\"width\":0.5},\"pattern\":{\"fillmode\":\"overlay\",\"size\":10,\"solidity\":0.2}},\"type\":\"barpolar\"}],\"pie\":[{\"automargin\":true,\"type\":\"pie\"}]},\"layout\":{\"autotypenumbers\":\"strict\",\"colorway\":[\"#636efa\",\"#EF553B\",\"#00cc96\",\"#ab63fa\",\"#FFA15A\",\"#19d3f3\",\"#FF6692\",\"#B6E880\",\"#FF97FF\",\"#FECB52\"],\"font\":{\"color\":\"#2a3f5f\"},\"hovermode\":\"closest\",\"hoverlabel\":{\"align\":\"left\"},\"paper_bgcolor\":\"white\",\"plot_bgcolor\":\"#E5ECF6\",\"polar\":{\"bgcolor\":\"#E5ECF6\",\"angularaxis\":{\"gridcolor\":\"white\",\"linecolor\":\"white\",\"ticks\":\"\"},\"radialaxis\":{\"gridcolor\":\"white\",\"linecolor\":\"white\",\"ticks\":\"\"}},\"ternary\":{\"bgcolor\":\"#E5ECF6\",\"aaxis\":{\"gridcolor\":\"white\",\"linecolor\":\"white\",\"ticks\":\"\"},\"baxis\":{\"gridcolor\":\"white\",\"linecolor\":\"white\",\"ticks\":\"\"},\"caxis\":{\"gridcolor\":\"white\",\"linecolor\":\"white\",\"ticks\":\"\"}},\"coloraxis\":{\"colorbar\":{\"outlinewidth\":0,\"ticks\":\"\"}},\"colorscale\":{\"sequential\":[[0.0,\"#0d0887\"],[0.1111111111111111,\"#46039f\"],[0.2222222222222222,\"#7201a8\"],[0.3333333333333333,\"#9c179e\"],[0.4444444444444444,\"#bd3786\"],[0.5555555555555556,\"#d8576b\"],[0.6666666666666666,\"#ed7953\"],[0.7777777777777778,\"#fb9f3a\"],[0.8888888888888888,\"#fdca26\"],[1.0,\"#f0f921\"]],\"sequentialminus\":[[0.0,\"#0d0887\"],[0.1111111111111111,\"#46039f\"],[0.2222222222222222,\"#7201a8\"],[0.3333333333333333,\"#9c179e\"],[0.4444444444444444,\"#bd3786\"],[0.5555555555555556,\"#d8576b\"],[0.6666666666666666,\"#ed7953\"],[0.7777777777777778,\"#fb9f3a\"],[0.8888888888888888,\"#fdca26\"],[1.0,\"#f0f921\"]],\"diverging\":[[0,\"#8e0152\"],[0.1,\"#c51b7d\"],[0.2,\"#de77ae\"],[0.3,\"#f1b6da\"],[0.4,\"#fde0ef\"],[0.5,\"#f7f7f7\"],[0.6,\"#e6f5d0\"],[0.7,\"#b8e186\"],[0.8,\"#7fbc41\"],[0.9,\"#4d9221\"],[1,\"#276419\"]]},\"xaxis\":{\"gridcolor\":\"white\",\"linecolor\":\"white\",\"ticks\":\"\",\"title\":{\"standoff\":15},\"zerolinecolor\":\"white\",\"automargin\":true,\"zerolinewidth\":2},\"yaxis\":{\"gridcolor\":\"white\",\"linecolor\":\"white\",\"ticks\":\"\",\"title\":{\"standoff\":15},\"zerolinecolor\":\"white\",\"automargin\":true,\"zerolinewidth\":2},\"scene\":{\"xaxis\":{\"backgroundcolor\":\"#E5ECF6\",\"gridcolor\":\"white\",\"linecolor\":\"white\",\"showbackground\":true,\"ticks\":\"\",\"zerolinecolor\":\"white\",\"gridwidth\":2},\"yaxis\":{\"backgroundcolor\":\"#E5ECF6\",\"gridcolor\":\"white\",\"linecolor\":\"white\",\"showbackground\":true,\"ticks\":\"\",\"zerolinecolor\":\"white\",\"gridwidth\":2},\"zaxis\":{\"backgroundcolor\":\"#E5ECF6\",\"gridcolor\":\"white\",\"linecolor\":\"white\",\"showbackground\":true,\"ticks\":\"\",\"zerolinecolor\":\"white\",\"gridwidth\":2}},\"shapedefaults\":{\"line\":{\"color\":\"#2a3f5f\"}},\"annotationdefaults\":{\"arrowcolor\":\"#2a3f5f\",\"arrowhead\":0,\"arrowwidth\":1},\"geo\":{\"bgcolor\":\"white\",\"landcolor\":\"#E5ECF6\",\"subunitcolor\":\"white\",\"showland\":true,\"showlakes\":true,\"lakecolor\":\"white\"},\"title\":{\"x\":0.05},\"mapbox\":{\"style\":\"light\"}}},\"geo\":{\"projection\":{\"type\":\"natural earth\"},\"showframe\":true,\"showcoastlines\":true},\"title\":{\"text\":\"World Heatmap: Positions by Country\"},\"paper_bgcolor\":\"#737994\",\"plot_bgcolor\":\"#303446\",\"autosize\":false,\"width\":1200,\"height\":800},                        {\"responsive\": true}                    ).then(function(){\n",
       "                            \n",
       "var gd = document.getElementById('49595cef-0607-4c22-8d99-76ad66a8823a');\n",
       "var x = new MutationObserver(function (mutations, observer) {{\n",
       "        var display = window.getComputedStyle(gd).display;\n",
       "        if (!display || display === 'none') {{\n",
       "            console.log([gd, 'removed!']);\n",
       "            Plotly.purge(gd);\n",
       "            observer.disconnect();\n",
       "        }}\n",
       "}});\n",
       "\n",
       "// Listen for the removal of the full notebook cells\n",
       "var notebookContainer = gd.closest('#notebook-container');\n",
       "if (notebookContainer) {{\n",
       "    x.observe(notebookContainer, {childList: true});\n",
       "}}\n",
       "\n",
       "// Listen for the clearing of the current output cell\n",
       "var outputEl = gd.closest('.output');\n",
       "if (outputEl) {{\n",
       "    x.observe(outputEl, {childList: true});\n",
       "}}\n",
       "\n",
       "                        })                };                });            </script>        </div>"
      ]
     },
     "metadata": {},
     "output_type": "display_data"
    }
   ],
   "source": [
    "import plotly.graph_objects as go\n",
    "import pandas as pd\n",
    "from collections import Counter\n",
    "import pycountry\n",
    "\n",
    "def create_country_heatmap(df, row_numbers):\n",
    "    \"\"\"\n",
    "    Generate a world heatmap that shows the number of positions mentioned per country.\n",
    "    On hover, show the top 5 most popular positions.\n",
    "    \"\"\"\n",
    "    # Filter the dataframe for the specified row numbers\n",
    "    filtered_df = df.iloc[row_numbers]\n",
    "\n",
    "    # Step 1: Aggregate positions by country\n",
    "    country_positions = {}\n",
    "    country_stakeholders = {}\n",
    "\n",
    "    for _, row in filtered_df.iterrows():\n",
    "        country = row['ISO-3']\n",
    "        stakeholder = row['stakeholder']\n",
    "        position = row['position']\n",
    "\n",
    "        if country not in country_positions:\n",
    "            country_positions[country] = []\n",
    "            country_stakeholders[country] = set()  # Unique stakeholders\n",
    "\n",
    "        country_positions[country].append(position)\n",
    "        country_stakeholders[country].add(stakeholder)  # Track unique stakeholders per country\n",
    "\n",
    "    # Step 2: Count unique positions per country\n",
    "    country_position_counts = {country: len(positions) for country, positions in country_positions.items()}\n",
    "\n",
    "    # Step 3: Get the top 5 positions by popularity (unique stakeholders) for each country\n",
    "    country_top_positions = {}\n",
    "    \n",
    "    for country, positions in country_positions.items():\n",
    "        # Count how many times each position appears (ranking by stakeholder count)\n",
    "        position_counter = Counter(positions)\n",
    "        top_positions = position_counter.most_common(5)  # Get top 5 positions\n",
    "        \n",
    "        # Prepare text for hover information\n",
    "        top_position_text = '<br>'.join([f\"{pos}: {count}\" for pos, count in top_positions])\n",
    "        country_top_positions[country] = top_position_text\n",
    "\n",
    "    # Step 4: Prepare data for Plotly choropleth\n",
    "    countries = list(country_position_counts.keys())\n",
    "    counts = list(country_position_counts.values())\n",
    "    hover_texts = [f\"<b>{country}</b><br>Positions Count: {count}<br><br>Top 5 Positions:<br>{country_top_positions[country]}\" \n",
    "                   for country, count in country_position_counts.items()]\n",
    "\n",
    "    # Step 5: Create the choropleth map\n",
    "    fig = go.Figure(data=go.Choropleth(\n",
    "        locations=countries,  # Country codes\n",
    "        locationmode='ISO-3',  # You can use 'ISO-3' for ISO3 codes\n",
    "        z=counts,  # Color countries by position counts\n",
    "        text=hover_texts,  # Custom hover text showing top positions\n",
    "        hoverinfo='text',\n",
    "        autocolorscale=False,\n",
    "        colorscale=catppuccin_colorscale,  # Color scale from yellow to red\n",
    "        colorbar_title=\"Positions Count\",\n",
    "        zmin=min(counts),  # Set the minimum value for the color scale\n",
    "        zmax=max(counts),  # Set the maximum value for the color scale\n",
    "    ))\n",
    "\n",
    "    # Step 6: Update the layout for aesthetics\n",
    "    fig.update_layout(\n",
    "        title='World Heatmap: Positions by Country',\n",
    "        geo=dict(\n",
    "            showframe=True,\n",
    "            showcoastlines=True,\n",
    "            projection_type='natural earth'\n",
    "        ),\n",
    "        paper_bgcolor=catppuccin['overlay0'],  # Background color\n",
    "        plot_bgcolor=catppuccin['base'],  # Plot area color\n",
    "    )\n",
    "    # make figure bigger(by making the figure area bigger not the area outside the figure, just the map)\n",
    "    fig.update_layout(\n",
    "        autosize=False,\n",
    "        width=1200,\n",
    "        height=800,\n",
    "    )\n",
    "    fig.show()\n",
    "\n",
    "# Example usage with row numbers\n",
    "row_numbers = list(range(0, df.shape[0]))  # Example of selected rows\n",
    "create_country_heatmap(df, row_numbers)\n"
   ]
  },
  {
   "cell_type": "code",
   "execution_count": 22,
   "metadata": {},
   "outputs": [
    {
     "data": {
      "text/plain": [
       "'TUR'"
      ]
     },
     "execution_count": 22,
     "metadata": {},
     "output_type": "execute_result"
    }
   ],
   "source": [
    "pycountry.countries.search_fuzzy('turkiye')[0].alpha_3"
   ]
  },
  {
   "cell_type": "code",
   "execution_count": 26,
   "metadata": {},
   "outputs": [
    {
     "name": "stdout",
     "output_type": "stream",
     "text": [
      "None\n",
      "None\n",
      "Country(alpha_2='TR', alpha_3='TUR', flag='🇹🇷', name='Türkiye', numeric='792', official_name='Republic of Türkiye')\n",
      "None\n"
     ]
    }
   ],
   "source": [
    "print(pycountry.countries.get(name='Turkey'))\n",
    "print(pycountry.countries.get(name='turkey'))\n",
    "print(pycountry.countries.get(name='Türkiye'))\n",
    "print(pycountry.countries.get(name='Turkiye'))"
   ]
  },
  {
   "cell_type": "code",
   "execution_count": null,
   "metadata": {},
   "outputs": [],
   "source": []
  }
 ],
 "metadata": {
  "kernelspec": {
   "display_name": "new-prompts-cm8HmoVy-py3.9",
   "language": "python",
   "name": "python3"
  },
  "language_info": {
   "codemirror_mode": {
    "name": "ipython",
    "version": 3
   },
   "file_extension": ".py",
   "mimetype": "text/x-python",
   "name": "python",
   "nbconvert_exporter": "python",
   "pygments_lexer": "ipython3",
   "version": "3.9.20"
  }
 },
 "nbformat": 4,
 "nbformat_minor": 2
}
